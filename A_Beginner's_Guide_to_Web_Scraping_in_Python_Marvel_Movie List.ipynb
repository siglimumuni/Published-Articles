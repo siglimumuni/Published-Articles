{
  "nbformat": 4,
  "nbformat_minor": 0,
  "metadata": {
    "colab": {
      "name": "A Beginner's Guide to Web Scraping in Python: Marvel Movie List.ipynb",
      "provenance": [],
      "collapsed_sections": [],
      "authorship_tag": "ABX9TyNXSHOCTrt3V2k9OVZXUw6n",
      "include_colab_link": true
    },
    "kernelspec": {
      "name": "python3",
      "display_name": "Python 3"
    },
    "language_info": {
      "name": "python"
    }
  },
  "cells": [
    {
      "cell_type": "markdown",
      "metadata": {
        "id": "view-in-github",
        "colab_type": "text"
      },
      "source": [
        "<a href=\"https://colab.research.google.com/github/siglimumuni/Published-Articles/blob/main/A_Beginner's_Guide_to_Web_Scraping_in_Python_Marvel_Movie%C2%A0List.ipynb\" target=\"_parent\"><img src=\"https://colab.research.google.com/assets/colab-badge.svg\" alt=\"Open In Colab\"/></a>"
      ]
    },
    {
      "cell_type": "code",
      "execution_count": null,
      "metadata": {
        "id": "U_3fczTgDuvq"
      },
      "outputs": [],
      "source": [
        "import requests\n",
        "from bs4 import BeautifulSoup\n",
        "import pandas as pd\n",
        "\n",
        "#specify the url for the page to be scraped\n",
        "url = \"https://en.wikipedia.org/wiki/List_of_films_based_on_Marvel_Comics_publications\"\n",
        "\n",
        "#fetch the contents of the page\n",
        "html = requests.get(url)"
      ]
    },
    {
      "cell_type": "code",
      "source": [
        "#parse the html using a beautiful soup object\n",
        "soup = BeautifulSoup(html.content,features='html.parser')\n",
        "print(soup)"
      ],
      "metadata": {
        "id": "bXoOY-05EeF5"
      },
      "execution_count": null,
      "outputs": []
    },
    {
      "cell_type": "code",
      "source": [
        "#search for the first table on the page\n",
        "first_table = soup.find('table',{'class':'wikitable sortable'})\n",
        "print(first_table.prettify())"
      ],
      "metadata": {
        "id": "uY-C4CTNKL56"
      },
      "execution_count": null,
      "outputs": []
    },
    {
      "cell_type": "code",
      "source": [
        "#return all rows in the table\n",
        "rows = first_table.find_all('tr')\n",
        "\n",
        "#print the first row\n",
        "print(rows[1])"
      ],
      "metadata": {
        "id": "UqDW0Jb4RLn-",
        "colab": {
          "base_uri": "https://localhost:8080/"
        },
        "outputId": "d18f8f84-1380-421a-8a17-7582298b5aee"
      },
      "execution_count": null,
      "outputs": [
        {
          "output_type": "stream",
          "name": "stdout",
          "text": [
            "<tr>\n",
            "<td>1986\n",
            "</td>\n",
            "<td><i><a href=\"/wiki/Howard_the_Duck_(film)\" title=\"Howard the Duck (film)\">Howard the Duck</a></i>\n",
            "</td>\n",
            "<td><a href=\"/wiki/Universal_Pictures\" title=\"Universal Pictures\">Universal Pictures</a>\n",
            "</td>\n",
            "<td>Co-produced by <a href=\"/wiki/Lucasfilm\" title=\"Lucasfilm\">Lucasfilm</a>\n",
            "</td></tr>\n"
          ]
        }
      ]
    },
    {
      "cell_type": "code",
      "source": [
        "#create empty list to store movie titles\n",
        "movie_list  = []\n",
        "\n",
        "#loop through every row and extract relevang values\n",
        "for row in rows:\n",
        "  values = row.find_all('i')\n",
        "  \n",
        "  #loop through all the values and extract movie title\n",
        "  for  value in values:\n",
        "    movie_list.append(value.getText())\n",
        "\n",
        "print(movie_list)\n",
        "print(len(movie_list))"
      ],
      "metadata": {
        "id": "bTXNqtVkS1Dr",
        "colab": {
          "base_uri": "https://localhost:8080/"
        },
        "outputId": "595c85d9-440a-4668-9893-c867dd70a53e"
      },
      "execution_count": null,
      "outputs": [
        {
          "output_type": "stream",
          "name": "stdout",
          "text": [
            "['Howard the Duck', 'Blade', 'X-Men', 'Blade II', 'Spider-Man', 'Daredevil', 'X2', 'Hulk', 'The Punisher', 'Spider-Man 2', 'Blade: Trinity', 'Elektra', 'Fantastic Four', 'X-Men: The Last Stand', 'Ghost Rider', 'Spider-Man 3', 'Fantastic Four: Rise of the Silver Surfer', 'Iron Man', 'The Incredible Hulk', 'Punisher: War Zone', 'X-Men Origins: Wolverine', 'Iron Man 2', 'Thor', 'X-Men: First Class', 'Captain America: The First Avenger', 'Ghost Rider: Spirit of Vengeance', 'The Avengers', 'The Amazing Spider-Man', 'Iron Man 3', 'The Wolverine', 'Thor: The Dark World', 'Captain America: The Winter Soldier', 'The Amazing Spider-Man 2', 'X-Men: Days of Future Past', 'Guardians of the Galaxy', 'Avengers: Age of Ultron', 'Ant-Man', 'Fantastic Four', 'Deadpool', 'Captain America: Civil War', 'X-Men: Apocalypse', 'Doctor Strange', 'Logan', 'Guardians of the Galaxy Vol. 2', 'Spider-Man: Homecoming', 'Thor: Ragnarok', 'Black Panther', 'Avengers: Infinity War', 'Deadpool 2', 'Once Upon a Deadpool', 'Ant-Man and the Wasp', 'Venom', 'Captain Marvel', 'Avengers: Endgame', 'Dark Phoenix', 'Spider-Man: Far From Home', 'The New Mutants', 'Black Widow', 'Shang-Chi and the Legend of the Ten Rings', 'Venom: Let There Be Carnage', 'Eternals', 'Spider-Man: No Way Home', 'Morbius', 'Doctor Strange in the Multiverse of Madness', 'Thor: Love and Thunder', 'Black Panther: Wakanda Forever', 'Kraven the Hunter', 'Ant-Man and the Wasp: Quantumania', 'The Marvels', 'Guardians of the Galaxy Vol. 3', 'Madame Web']\n",
            "71\n"
          ]
        }
      ]
    },
    {
      "cell_type": "code",
      "source": [
        "#convert list to a pandas dataframe\n",
        "df = pd.DataFrame(movie_list,columns=[\"Title\"])\n",
        "df.info()"
      ],
      "metadata": {
        "colab": {
          "base_uri": "https://localhost:8080/"
        },
        "id": "D0sjRxR2OEHL",
        "outputId": "f1fbe90f-79a6-480c-d3ef-de7eb13c3bc3"
      },
      "execution_count": null,
      "outputs": [
        {
          "output_type": "stream",
          "name": "stdout",
          "text": [
            "<class 'pandas.core.frame.DataFrame'>\n",
            "RangeIndex: 71 entries, 0 to 70\n",
            "Data columns (total 1 columns):\n",
            " #   Column  Non-Null Count  Dtype \n",
            "---  ------  --------------  ----- \n",
            " 0   Title   71 non-null     object\n",
            "dtypes: object(1)\n",
            "memory usage: 696.0+ bytes\n"
          ]
        }
      ]
    },
    {
      "cell_type": "code",
      "source": [
        "#save dataframe as a csv file\n",
        "df.to_csv(\"marvel_movie_list.csv\")"
      ],
      "metadata": {
        "id": "FwRhkNXxQn9r"
      },
      "execution_count": null,
      "outputs": []
    },
    {
      "cell_type": "code",
      "source": [
        "#alternative method - use pandas to parse html table\n",
        "movie_list = pd.read_html(str(first_table))\n",
        "print(type(movie_list))"
      ],
      "metadata": {
        "colab": {
          "base_uri": "https://localhost:8080/"
        },
        "id": "8HZUByn3m8VY",
        "outputId": "590acd43-edb2-466c-c6ad-9bb983b9f31d"
      },
      "execution_count": null,
      "outputs": [
        {
          "output_type": "stream",
          "name": "stdout",
          "text": [
            "<class 'list'>\n"
          ]
        }
      ]
    },
    {
      "cell_type": "code",
      "source": [
        "# convert list to dataframe\n",
        "df=pd.DataFrame(movie_list[0])\n",
        "df.head()"
      ],
      "metadata": {
        "colab": {
          "base_uri": "https://localhost:8080/",
          "height": 206
        },
        "id": "4gYEmoB86S84",
        "outputId": "de03eb2f-f83b-4a53-89cb-13414dceed31"
      },
      "execution_count": null,
      "outputs": [
        {
          "output_type": "execute_result",
          "data": {
            "text/plain": [
              "   Year            Title Production studio(s)                     Notes  \\\n",
              "0  1986  Howard the Duck   Universal Pictures  Co-produced by Lucasfilm   \n",
              "1  1998            Blade      New Line Cinema                       NaN   \n",
              "2  2000            X-Men     20th Century Fox                       NaN   \n",
              "3  2002         Blade II      New Line Cinema                       NaN   \n",
              "4  2002       Spider-Man    Columbia Pictures    Nominated for 2 Oscars   \n",
              "\n",
              "  Unnamed: 4  \n",
              "0        NaN  \n",
              "1        NaN  \n",
              "2        NaN  \n",
              "3        NaN  \n",
              "4        NaN  "
            ],
            "text/html": [
              "\n",
              "  <div id=\"df-088ec90b-adec-4fe8-ae5a-dbfe352f3297\">\n",
              "    <div class=\"colab-df-container\">\n",
              "      <div>\n",
              "<style scoped>\n",
              "    .dataframe tbody tr th:only-of-type {\n",
              "        vertical-align: middle;\n",
              "    }\n",
              "\n",
              "    .dataframe tbody tr th {\n",
              "        vertical-align: top;\n",
              "    }\n",
              "\n",
              "    .dataframe thead th {\n",
              "        text-align: right;\n",
              "    }\n",
              "</style>\n",
              "<table border=\"1\" class=\"dataframe\">\n",
              "  <thead>\n",
              "    <tr style=\"text-align: right;\">\n",
              "      <th></th>\n",
              "      <th>Year</th>\n",
              "      <th>Title</th>\n",
              "      <th>Production studio(s)</th>\n",
              "      <th>Notes</th>\n",
              "      <th>Unnamed: 4</th>\n",
              "    </tr>\n",
              "  </thead>\n",
              "  <tbody>\n",
              "    <tr>\n",
              "      <th>0</th>\n",
              "      <td>1986</td>\n",
              "      <td>Howard the Duck</td>\n",
              "      <td>Universal Pictures</td>\n",
              "      <td>Co-produced by Lucasfilm</td>\n",
              "      <td>NaN</td>\n",
              "    </tr>\n",
              "    <tr>\n",
              "      <th>1</th>\n",
              "      <td>1998</td>\n",
              "      <td>Blade</td>\n",
              "      <td>New Line Cinema</td>\n",
              "      <td>NaN</td>\n",
              "      <td>NaN</td>\n",
              "    </tr>\n",
              "    <tr>\n",
              "      <th>2</th>\n",
              "      <td>2000</td>\n",
              "      <td>X-Men</td>\n",
              "      <td>20th Century Fox</td>\n",
              "      <td>NaN</td>\n",
              "      <td>NaN</td>\n",
              "    </tr>\n",
              "    <tr>\n",
              "      <th>3</th>\n",
              "      <td>2002</td>\n",
              "      <td>Blade II</td>\n",
              "      <td>New Line Cinema</td>\n",
              "      <td>NaN</td>\n",
              "      <td>NaN</td>\n",
              "    </tr>\n",
              "    <tr>\n",
              "      <th>4</th>\n",
              "      <td>2002</td>\n",
              "      <td>Spider-Man</td>\n",
              "      <td>Columbia Pictures</td>\n",
              "      <td>Nominated for 2 Oscars</td>\n",
              "      <td>NaN</td>\n",
              "    </tr>\n",
              "  </tbody>\n",
              "</table>\n",
              "</div>\n",
              "      <button class=\"colab-df-convert\" onclick=\"convertToInteractive('df-088ec90b-adec-4fe8-ae5a-dbfe352f3297')\"\n",
              "              title=\"Convert this dataframe to an interactive table.\"\n",
              "              style=\"display:none;\">\n",
              "        \n",
              "  <svg xmlns=\"http://www.w3.org/2000/svg\" height=\"24px\"viewBox=\"0 0 24 24\"\n",
              "       width=\"24px\">\n",
              "    <path d=\"M0 0h24v24H0V0z\" fill=\"none\"/>\n",
              "    <path d=\"M18.56 5.44l.94 2.06.94-2.06 2.06-.94-2.06-.94-.94-2.06-.94 2.06-2.06.94zm-11 1L8.5 8.5l.94-2.06 2.06-.94-2.06-.94L8.5 2.5l-.94 2.06-2.06.94zm10 10l.94 2.06.94-2.06 2.06-.94-2.06-.94-.94-2.06-.94 2.06-2.06.94z\"/><path d=\"M17.41 7.96l-1.37-1.37c-.4-.4-.92-.59-1.43-.59-.52 0-1.04.2-1.43.59L10.3 9.45l-7.72 7.72c-.78.78-.78 2.05 0 2.83L4 21.41c.39.39.9.59 1.41.59.51 0 1.02-.2 1.41-.59l7.78-7.78 2.81-2.81c.8-.78.8-2.07 0-2.86zM5.41 20L4 18.59l7.72-7.72 1.47 1.35L5.41 20z\"/>\n",
              "  </svg>\n",
              "      </button>\n",
              "      \n",
              "  <style>\n",
              "    .colab-df-container {\n",
              "      display:flex;\n",
              "      flex-wrap:wrap;\n",
              "      gap: 12px;\n",
              "    }\n",
              "\n",
              "    .colab-df-convert {\n",
              "      background-color: #E8F0FE;\n",
              "      border: none;\n",
              "      border-radius: 50%;\n",
              "      cursor: pointer;\n",
              "      display: none;\n",
              "      fill: #1967D2;\n",
              "      height: 32px;\n",
              "      padding: 0 0 0 0;\n",
              "      width: 32px;\n",
              "    }\n",
              "\n",
              "    .colab-df-convert:hover {\n",
              "      background-color: #E2EBFA;\n",
              "      box-shadow: 0px 1px 2px rgba(60, 64, 67, 0.3), 0px 1px 3px 1px rgba(60, 64, 67, 0.15);\n",
              "      fill: #174EA6;\n",
              "    }\n",
              "\n",
              "    [theme=dark] .colab-df-convert {\n",
              "      background-color: #3B4455;\n",
              "      fill: #D2E3FC;\n",
              "    }\n",
              "\n",
              "    [theme=dark] .colab-df-convert:hover {\n",
              "      background-color: #434B5C;\n",
              "      box-shadow: 0px 1px 3px 1px rgba(0, 0, 0, 0.15);\n",
              "      filter: drop-shadow(0px 1px 2px rgba(0, 0, 0, 0.3));\n",
              "      fill: #FFFFFF;\n",
              "    }\n",
              "  </style>\n",
              "\n",
              "      <script>\n",
              "        const buttonEl =\n",
              "          document.querySelector('#df-088ec90b-adec-4fe8-ae5a-dbfe352f3297 button.colab-df-convert');\n",
              "        buttonEl.style.display =\n",
              "          google.colab.kernel.accessAllowed ? 'block' : 'none';\n",
              "\n",
              "        async function convertToInteractive(key) {\n",
              "          const element = document.querySelector('#df-088ec90b-adec-4fe8-ae5a-dbfe352f3297');\n",
              "          const dataTable =\n",
              "            await google.colab.kernel.invokeFunction('convertToInteractive',\n",
              "                                                     [key], {});\n",
              "          if (!dataTable) return;\n",
              "\n",
              "          const docLinkHtml = 'Like what you see? Visit the ' +\n",
              "            '<a target=\"_blank\" href=https://colab.research.google.com/notebooks/data_table.ipynb>data table notebook</a>'\n",
              "            + ' to learn more about interactive tables.';\n",
              "          element.innerHTML = '';\n",
              "          dataTable['output_type'] = 'display_data';\n",
              "          await google.colab.output.renderOutput(dataTable, element);\n",
              "          const docLink = document.createElement('div');\n",
              "          docLink.innerHTML = docLinkHtml;\n",
              "          element.appendChild(docLink);\n",
              "        }\n",
              "      </script>\n",
              "    </div>\n",
              "  </div>\n",
              "  "
            ]
          },
          "metadata": {},
          "execution_count": 16
        }
      ]
    }
  ]
}