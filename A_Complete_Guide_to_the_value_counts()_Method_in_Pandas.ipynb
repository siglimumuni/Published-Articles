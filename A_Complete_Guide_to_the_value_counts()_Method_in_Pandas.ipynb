{
  "nbformat": 4,
  "nbformat_minor": 0,
  "metadata": {
    "colab": {
      "name": "A Complete Guide to the value_counts() Method in Pandas.ipynb",
      "provenance": [],
      "collapsed_sections": [],
      "authorship_tag": "ABX9TyNZCi62LrUUnIQGxWc42JIO",
      "include_colab_link": true
    },
    "kernelspec": {
      "name": "python3",
      "display_name": "Python 3"
    },
    "language_info": {
      "name": "python"
    }
  },
  "cells": [
    {
      "cell_type": "markdown",
      "metadata": {
        "id": "view-in-github",
        "colab_type": "text"
      },
      "source": [
        "<a href=\"https://colab.research.google.com/github/siglimumuni/Published-Articles/blob/main/A_Complete_Guide_to_the_value_counts()_Method_in_Pandas.ipynb\" target=\"_parent\"><img src=\"https://colab.research.google.com/assets/colab-badge.svg\" alt=\"Open In Colab\"/></a>"
      ]
    },
    {
      "cell_type": "code",
      "execution_count": 122,
      "metadata": {
        "id": "C3Aq2dZbaJ0B",
        "colab": {
          "base_uri": "https://localhost:8080/"
        },
        "outputId": "62c22596-14b0-4032-82dd-246bab9e1b5e"
      },
      "outputs": [
        {
          "output_type": "stream",
          "name": "stdout",
          "text": [
            "       Name     Sex  Score Grade\n",
            "0     James    Male     80     B\n",
            "1       Dan    Male     91     A\n",
            "2  Jonathan    Male     75     C\n",
            "3      Eric    Male     88     B\n",
            "4    Joanna  Female     89     B\n",
            "5      Mary  Female     90     A\n",
            "6       Sue  Female     92     A\n",
            "7       Jim    Male     91   NaN\n",
            "8    Lionel    Male     82     B\n",
            "9       Tim    Male     80   NaN\n"
          ]
        }
      ],
      "source": [
        "import numpy as np\n",
        "import pandas as pd\n",
        "\n",
        "my_dict = {\"Name\": [\"James\",\"Dan\",\"Jonathan\",\"Eric\",\"Joanna\",\"Mary\",\"Sue\",\"Jim\",\"Lionel\",\"Tim\"],\n",
        "           \"Sex\":[\"Male\",\"Male\",\"Male\",\"Male\",\"Female\",\"Female\",\"Female\",\"Male\",\"Male\",\"Male\"],\n",
        "           \"Score\":[80,91,75,88,89,90,92,91,82,80],\n",
        "           \"Grade\":[\"B\",\"A\",\"C\",\"B\",\"B\",\"A\",\"A\",np.nan,\"B\",np.nan]}\n",
        "\n",
        "df = pd.DataFrame(my_dict)\n",
        "\n",
        "print(df)"
      ]
    },
    {
      "cell_type": "code",
      "source": [
        "#Return counts of values in Grade column\n",
        "df[\"Grade\"].value_counts()"
      ],
      "metadata": {
        "colab": {
          "base_uri": "https://localhost:8080/"
        },
        "id": "q5tmdnXxb4xG",
        "outputId": "e9086550-687c-4d85-87bc-6facf0380702"
      },
      "execution_count": 22,
      "outputs": [
        {
          "output_type": "execute_result",
          "data": {
            "text/plain": [
              "B    4\n",
              "A    3\n",
              "C    1\n",
              "Name: Grade, dtype: int64"
            ]
          },
          "metadata": {},
          "execution_count": 22
        }
      ]
    },
    {
      "cell_type": "code",
      "source": [
        "#Include NaN values in result\n",
        "df[\"Grade\"].value_counts(dropna=False)"
      ],
      "metadata": {
        "colab": {
          "base_uri": "https://localhost:8080/"
        },
        "id": "vodkmwOYcCul",
        "outputId": "74b86a14-f671-4a66-9249-e1faf5550d84"
      },
      "execution_count": 7,
      "outputs": [
        {
          "output_type": "execute_result",
          "data": {
            "text/plain": [
              "B      4\n",
              "A      3\n",
              "NaN    2\n",
              "C      1\n",
              "Name: Grade, dtype: int64"
            ]
          },
          "metadata": {},
          "execution_count": 7
        }
      ]
    },
    {
      "cell_type": "code",
      "source": [
        "#Sort count values in ascending order\n",
        "df[\"Grade\"].value_counts(dropna=False,ascending=True)"
      ],
      "metadata": {
        "colab": {
          "base_uri": "https://localhost:8080/"
        },
        "id": "oxJjN9DpcZ3k",
        "outputId": "f3d9497f-ab51-434b-dc3b-c6c48923fd66"
      },
      "execution_count": 25,
      "outputs": [
        {
          "output_type": "execute_result",
          "data": {
            "text/plain": [
              "C      1\n",
              "NaN    2\n",
              "A      3\n",
              "B      4\n",
              "Name: Grade, dtype: int64"
            ]
          },
          "metadata": {},
          "execution_count": 25
        }
      ]
    },
    {
      "cell_type": "code",
      "source": [
        "#No sorting of values\n",
        "df[\"Grade\"].value_counts(dropna=False,sort=False)"
      ],
      "metadata": {
        "colab": {
          "base_uri": "https://localhost:8080/"
        },
        "id": "4O4mrixTclxx",
        "outputId": "724f0eb1-4bcb-4bc2-8aff-7820f893d1f3"
      },
      "execution_count": 26,
      "outputs": [
        {
          "output_type": "execute_result",
          "data": {
            "text/plain": [
              "B      4\n",
              "A      3\n",
              "C      1\n",
              "NaN    2\n",
              "Name: Grade, dtype: int64"
            ]
          },
          "metadata": {},
          "execution_count": 26
        }
      ]
    },
    {
      "cell_type": "code",
      "source": [
        "#Display relative frequencies\n",
        "df[\"Grade\"].value_counts(dropna=False,normalize=True)"
      ],
      "metadata": {
        "colab": {
          "base_uri": "https://localhost:8080/"
        },
        "id": "dxnjBWn8eciM",
        "outputId": "e5c1ac25-856c-44de-a08c-4452d6f59df1"
      },
      "execution_count": 27,
      "outputs": [
        {
          "output_type": "execute_result",
          "data": {
            "text/plain": [
              "B      0.4\n",
              "A      0.3\n",
              "NaN    0.2\n",
              "C      0.1\n",
              "Name: Grade, dtype: float64"
            ]
          },
          "metadata": {},
          "execution_count": 27
        }
      ]
    },
    {
      "cell_type": "code",
      "source": [
        "#Bin continuous data into discrete intervals\n",
        "df[\"Score\"].value_counts(bins=3, sort=False)"
      ],
      "metadata": {
        "colab": {
          "base_uri": "https://localhost:8080/"
        },
        "id": "Prau5Ue-dIhv",
        "outputId": "6fc63b5f-a66b-4b2e-aca5-03f7839b90c7"
      },
      "execution_count": 32,
      "outputs": [
        {
          "output_type": "execute_result",
          "data": {
            "text/plain": [
              "(74.982, 80.667]    3\n",
              "(80.667, 86.333]    1\n",
              "(86.333, 92.0]      6\n",
              "Name: Score, dtype: int64"
            ]
          },
          "metadata": {},
          "execution_count": 32
        }
      ]
    },
    {
      "cell_type": "code",
      "source": [
        "#Bin continuous data into user specified bins\n",
        "df[\"Score\"].value_counts(bins=[70,80,90,100],sort=False)"
      ],
      "metadata": {
        "colab": {
          "base_uri": "https://localhost:8080/"
        },
        "id": "FEmtpoQRG688",
        "outputId": "8a1ae47e-177e-4197-be1e-9c2822c581ac"
      },
      "execution_count": 31,
      "outputs": [
        {
          "output_type": "execute_result",
          "data": {
            "text/plain": [
              "(69.999, 80.0]    3\n",
              "(80.0, 90.0]      4\n",
              "(90.0, 100.0]     3\n",
              "Name: Score, dtype: int64"
            ]
          },
          "metadata": {},
          "execution_count": 31
        }
      ]
    },
    {
      "cell_type": "code",
      "source": [
        "#Sort column values A-Z\n",
        "df[\"Grade\"].value_counts().sort_index()"
      ],
      "metadata": {
        "colab": {
          "base_uri": "https://localhost:8080/"
        },
        "id": "EXzkVzrbK5Aa",
        "outputId": "7484c57f-fcf2-4ba2-af7d-28e87665fe4c"
      },
      "execution_count": 34,
      "outputs": [
        {
          "output_type": "execute_result",
          "data": {
            "text/plain": [
              "A    3\n",
              "B    4\n",
              "C    1\n",
              "Name: Grade, dtype: int64"
            ]
          },
          "metadata": {},
          "execution_count": 34
        }
      ]
    },
    {
      "cell_type": "code",
      "source": [
        "#Sort column values Z-A\n",
        "df[\"Grade\"].value_counts().sort_index(ascending=False)"
      ],
      "metadata": {
        "colab": {
          "base_uri": "https://localhost:8080/"
        },
        "id": "TgLr1ipZL0m6",
        "outputId": "f734e2f3-e784-4198-beea-b6211bfe9bf3"
      },
      "execution_count": 35,
      "outputs": [
        {
          "output_type": "execute_result",
          "data": {
            "text/plain": [
              "C    1\n",
              "B    4\n",
              "A    3\n",
              "Name: Grade, dtype: int64"
            ]
          },
          "metadata": {},
          "execution_count": 35
        }
      ]
    },
    {
      "cell_type": "code",
      "source": [
        "#Group values and then count\n",
        "df.groupby(\"Sex\")[\"Grade\"].value_counts()"
      ],
      "metadata": {
        "colab": {
          "base_uri": "https://localhost:8080/"
        },
        "id": "rDFcQ0aFK9kB",
        "outputId": "69c6e937-02e3-44d1-d431-77e75f135eda"
      },
      "execution_count": 40,
      "outputs": [
        {
          "output_type": "execute_result",
          "data": {
            "text/plain": [
              "Sex     Grade\n",
              "Female  A        2\n",
              "        B        1\n",
              "Male    B        3\n",
              "        A        1\n",
              "        C        1\n",
              "Name: Grade, dtype: int64"
            ]
          },
          "metadata": {},
          "execution_count": 40
        }
      ]
    },
    {
      "cell_type": "code",
      "source": [
        "#Convert series to dataframe\n",
        "grade_count = df[\"Grade\"].value_counts().to_frame()\n",
        "\n",
        "#Rename columns\n",
        "grade_count = grade_count.reset_index().rename(columns={\"index\":\"Grade\",\"Grade\":\"Count\"})\n",
        "\n",
        "print(grade_count)\n",
        "print(type(grade_count))"
      ],
      "metadata": {
        "colab": {
          "base_uri": "https://localhost:8080/"
        },
        "id": "DpXtn_ZPOdTG",
        "outputId": "716431af-018f-4a27-ece0-2d91170ea0ec"
      },
      "execution_count": 115,
      "outputs": [
        {
          "output_type": "stream",
          "name": "stdout",
          "text": [
            "  Grade  Count\n",
            "0     B      4\n",
            "1     A      3\n",
            "2     C      1\n",
            "<class 'pandas.core.frame.DataFrame'>\n"
          ]
        }
      ]
    },
    {
      "cell_type": "code",
      "source": [
        "#Specifying a condition\n",
        "df[\"Grade\"].value_counts().loc[lambda x : x>2]"
      ],
      "metadata": {
        "colab": {
          "base_uri": "https://localhost:8080/"
        },
        "id": "lTWSAnTCemXM",
        "outputId": "35fc7fd1-f784-4be0-813f-b18310b41844"
      },
      "execution_count": 127,
      "outputs": [
        {
          "output_type": "execute_result",
          "data": {
            "text/plain": [
              "B    4\n",
              "A    3\n",
              "Name: Grade, dtype: int64"
            ]
          },
          "metadata": {},
          "execution_count": 127
        }
      ]
    }
  ]
}