{
  "cells": [
    {
      "cell_type": "markdown",
      "metadata": {
        "id": "view-in-github",
        "colab_type": "text"
      },
      "source": [
        "<a href=\"https://colab.research.google.com/github/siglimumuni/Published-Articles/blob/main/Regular_Expressions_in_Python_Advanced_Applications.ipynb\" target=\"_parent\"><img src=\"https://colab.research.google.com/assets/colab-badge.svg\" alt=\"Open In Colab\"/></a>"
      ]
    },
    {
      "cell_type": "code",
      "execution_count": null,
      "metadata": {
        "colab": {
          "base_uri": "https://localhost:8080/"
        },
        "id": "rG5UhcIF0USJ",
        "outputId": "b07867ea-1e72-41a2-958f-cdab3767f2c5"
      },
      "outputs": [
        {
          "data": {
            "text/plain": [
              "['www.ourcompany.com']"
            ]
          },
          "execution_count": 1,
          "metadata": {},
          "output_type": "execute_result"
        }
      ],
      "source": [
        "import re\n",
        "\n",
        "text = \"Visit our website at www.ourcompany.com for more information\"\n",
        "\n",
        "re.findall(r\"www\\.[a-z]+\\.com\",text)"
      ]
    },
    {
      "cell_type": "code",
      "execution_count": null,
      "metadata": {
        "colab": {
          "base_uri": "https://localhost:8080/"
        },
        "id": "OdmVnRQc2v7O",
        "outputId": "8849a6ef-61ea-41ed-f245-faedffb54285"
      },
      "outputs": [
        {
          "data": {
            "text/plain": [
              "[('www', 'ourcompany', 'com')]"
            ]
          },
          "execution_count": 5,
          "metadata": {},
          "output_type": "execute_result"
        }
      ],
      "source": [
        "#grouping with ()\n",
        "text = \"Visit our website at www.ourcompany.com for more information\"\n",
        "\n",
        "re.findall(r\"(www)\\.([a-z]+)\\.(com)\",text)"
      ]
    },
    {
      "cell_type": "code",
      "execution_count": null,
      "metadata": {
        "colab": {
          "base_uri": "https://localhost:8080/"
        },
        "id": "5uw9IlGL72w9",
        "outputId": "72874d83-df8e-437f-f9f5-1cf2b88c6750"
      },
      "outputs": [
        {
          "data": {
            "text/plain": [
              "[('ourcompany', 'com')]"
            ]
          },
          "execution_count": 5,
          "metadata": {},
          "output_type": "execute_result"
        }
      ],
      "source": [
        "#excluding elements from a grouping with ?:\n",
        "text = \"Visit our website at www.ourcompany.com for more information\"\n",
        "\n",
        "re.findall(r\"(?:www)\\.([a-z]+)\\.(com)\",text)"
      ]
    },
    {
      "cell_type": "code",
      "execution_count": null,
      "metadata": {
        "colab": {
          "base_uri": "https://localhost:8080/"
        },
        "id": "MfXA8vzN-olA",
        "outputId": "d04d1d14-5335-4a85-d393-27ef09372552"
      },
      "outputs": [
        {
          "data": {
            "text/plain": [
              "[('John', 'Edwards'), ('Larry', 'Davis')]"
            ]
          },
          "execution_count": 18,
          "metadata": {},
          "output_type": "execute_result"
        }
      ],
      "source": [
        "#backreferencing elements from a grouping\n",
        "text = \"John Edwards and Larry Davis are neighbours\"\n",
        "\n",
        "re.findall(r\"([A-Z]\\w+)\\s([A-Z]\\w+)\",text)"
      ]
    },
    {
      "cell_type": "code",
      "execution_count": null,
      "metadata": {
        "colab": {
          "base_uri": "https://localhost:8080/",
          "height": 35
        },
        "id": "lSDUJ8O6CIvL",
        "outputId": "55ae0e41-244e-4a77-f9d4-daf41489d0fd"
      },
      "outputs": [
        {
          "data": {
            "application/vnd.google.colaboratory.intrinsic+json": {
              "type": "string"
            },
            "text/plain": [
              "'Mr. Edwards and Mr. Davis are neighbours'"
            ]
          },
          "execution_count": 35,
          "metadata": {},
          "output_type": "execute_result"
        }
      ],
      "source": [
        "#backreferencing elements from a grouping\n",
        "text = \"John Edwards and Larry Davis are neighbours\"\n",
        "\n",
        "re.sub(r\"([A-Z]\\w+)\\s([A-Z]\\w+)\",  repl=\"Mr. \\\\2\", string=text)"
      ]
    },
    {
      "cell_type": "code",
      "execution_count": null,
      "metadata": {
        "colab": {
          "base_uri": "https://localhost:8080/"
        },
        "id": "3x9JmU7cSend",
        "outputId": "e8fe60ef-3ac5-4ae1-9e8c-3f4cbec3f098"
      },
      "outputs": [
        {
          "data": {
            "text/plain": [
              "['Amanda', 'Lindsay', 'Gianne']"
            ]
          },
          "execution_count": 10,
          "metadata": {},
          "output_type": "execute_result"
        }
      ],
      "source": [
        "#positive lookahead with ?=\n",
        "text = \"Amanda:Female,Gerrard:Male,Lindsay:Female,Gianne:Female,Mike:Male\"\n",
        "\n",
        "re.findall(r\"([A-Z]\\w+):(?=Female)\",text)"
      ]
    },
    {
      "cell_type": "code",
      "execution_count": null,
      "metadata": {
        "colab": {
          "base_uri": "https://localhost:8080/"
        },
        "id": "pAGtcEJcU3NE",
        "outputId": "19935579-f153-4b37-be25-fa3ba5a9ce41"
      },
      "outputs": [
        {
          "data": {
            "text/plain": [
              "['Gerrard', 'Mike']"
            ]
          },
          "execution_count": 11,
          "metadata": {},
          "output_type": "execute_result"
        }
      ],
      "source": [
        "#negative lookahead with ?!\n",
        "text = \"Amanda:Female,Gerrard:Male,Lindsay:Female,Gianne:Female,Mike:Male\"\n",
        "\n",
        "re.findall(r\"([A-Z]\\w+):(?!Female)\",text)"
      ]
    },
    {
      "cell_type": "code",
      "execution_count": null,
      "metadata": {
        "colab": {
          "base_uri": "https://localhost:8080/"
        },
        "id": "MW3ws14zVjF8",
        "outputId": "4c0869f0-08c1-4930-d8ed-d0beb279b097"
      },
      "outputs": [
        {
          "data": {
            "text/plain": [
              "['{blue,yellow,green}']"
            ]
          },
          "execution_count": 40,
          "metadata": {},
          "output_type": "execute_result"
        }
      ],
      "source": [
        "#positive lookbehind with ?<=\n",
        "text = \"fruits={apple,banana,orange} animals={dog,cat,rabbit} colors={blue,yellow,green}\"\n",
        "\n",
        "re.findall(r\"(?<=colors)=({[\\w,]+})\",text)"
      ]
    },
    {
      "cell_type": "code",
      "execution_count": null,
      "metadata": {
        "colab": {
          "base_uri": "https://localhost:8080/"
        },
        "id": "-1KqfuJn4Nfg",
        "outputId": "3618b254-4b08-4dba-d06a-e1f8acde3512"
      },
      "outputs": [
        {
          "data": {
            "text/plain": [
              "['{apple,banana,orange}', '{dog,cat,rabbit}']"
            ]
          },
          "execution_count": 39,
          "metadata": {},
          "output_type": "execute_result"
        }
      ],
      "source": [
        "#negative lookbehind with ?<!\n",
        "text = \"fruits={apple,banana,orange} animals={dog,cat,rabbit} colors={blue,yellow,green}\"\n",
        "\n",
        "re.findall(r\"(?<!colors)=({[\\w,]+})\",text)"
      ]
    },
    {
      "cell_type": "code",
      "execution_count": null,
      "metadata": {
        "id": "610DEzbg7BNF"
      },
      "outputs": [],
      "source": [
        "#bonus challenge - matching password input to specified requirements\n",
        "while True:\n",
        "    password = input(\"Input your password\")\n",
        "    if re.match(r\"^(?=.*[a-z])(?=.*[A-Z])(?=.*\\d)(?=.*[@$!%*#_?&])[A-Za-z\\d@$!#_%*?&]{8,20}$\",password):\n",
        "        print('Success. Password meets requirements')\n",
        "        break\n",
        "    else:\n",
        "        print('Does not meet requirements. Please enter a valid password')"
      ]
    }
  ],
  "metadata": {
    "colab": {
      "name": "Regular Expressions in Python: Advanced Applications.ipynb",
      "provenance": [],
      "authorship_tag": "ABX9TyOkIZUFMyi7KiyWtsIGKVyo",
      "include_colab_link": true
    },
    "kernelspec": {
      "display_name": "Python 3",
      "name": "python3"
    },
    "language_info": {
      "name": "python"
    }
  },
  "nbformat": 4,
  "nbformat_minor": 0
}