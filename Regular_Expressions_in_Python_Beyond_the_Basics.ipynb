{
  "nbformat": 4,
  "nbformat_minor": 0,
  "metadata": {
    "colab": {
      "name": "Regular Expressions in Python: Beyond the Basics.ipynb",
      "provenance": [],
      "authorship_tag": "ABX9TyOw9NwD28QtF68Bpun2LIAQ",
      "include_colab_link": true
    },
    "kernelspec": {
      "name": "python3",
      "display_name": "Python 3"
    },
    "language_info": {
      "name": "python"
    }
  },
  "cells": [
    {
      "cell_type": "markdown",
      "metadata": {
        "id": "view-in-github",
        "colab_type": "text"
      },
      "source": [
        "<a href=\"https://colab.research.google.com/github/siglimumuni/Published-Articles/blob/main/Regular_Expressions_in_Python_Beyond_the_Basics.ipynb\" target=\"_parent\"><img src=\"https://colab.research.google.com/assets/colab-badge.svg\" alt=\"Open In Colab\"/></a>"
      ]
    },
    {
      "cell_type": "code",
      "execution_count": null,
      "metadata": {
        "colab": {
          "base_uri": "https://localhost:8080/"
        },
        "id": "FkJWZ8bLAevj",
        "outputId": "51588c12-03a4-44b0-bc70-3df2e93ad6b1"
      },
      "outputs": [
        {
          "output_type": "execute_result",
          "data": {
            "text/plain": [
              "['www.insightmarketaccess.com']"
            ]
          },
          "metadata": {},
          "execution_count": 1
        }
      ],
      "source": [
        "import re\n",
        "\n",
        "#matching any character with .\n",
        "text = \"The company's website address is www.insightmarketaccess.com\"\n",
        "\n",
        "re.findall(r'ww.+',text)"
      ]
    },
    {
      "cell_type": "code",
      "source": [
        "#matching a pattern anywhere in a text\n",
        "text = \"Day1, we went shopping. On Day2 we toured some historical sites. We returned home on Day3\"\n",
        "\n",
        "re.findall(r'Day\\d',text)"
      ],
      "metadata": {
        "colab": {
          "base_uri": "https://localhost:8080/"
        },
        "id": "u1ZO_1lOJZQt",
        "outputId": "a92ebc73-0e8e-404a-879e-249fcf2dfc16"
      },
      "execution_count": null,
      "outputs": [
        {
          "output_type": "execute_result",
          "data": {
            "text/plain": [
              "['Day1', 'Day2', 'Day3']"
            ]
          },
          "metadata": {},
          "execution_count": 19
        }
      ]
    },
    {
      "cell_type": "code",
      "source": [
        "#matching a pattern at the beginning of a text with ^\n",
        "text = \"Day1, we went shopping. On Day2 we toured some historical sites. We returned home on Day3\"\n",
        "\n",
        "re.findall(r'^Day\\d',text)"
      ],
      "metadata": {
        "colab": {
          "base_uri": "https://localhost:8080/"
        },
        "id": "IwzoxX6jMAWc",
        "outputId": "aefa14cc-f16d-447f-b2a6-b33bc3947505"
      },
      "execution_count": null,
      "outputs": [
        {
          "output_type": "execute_result",
          "data": {
            "text/plain": [
              "['Day1']"
            ]
          },
          "metadata": {},
          "execution_count": 20
        }
      ]
    },
    {
      "cell_type": "code",
      "source": [
        "#matching a pattern at the end of a text with $\n",
        "text = \"Day1, we went shopping. On Day2 we toured some historical sites. We returned home on Day3\"\n",
        "\n",
        "re.findall(r'Day\\d$',text)"
      ],
      "metadata": {
        "colab": {
          "base_uri": "https://localhost:8080/"
        },
        "id": "3auHpflVM5dw",
        "outputId": "9ec41ef0-c828-408a-c02f-efee03ccf030"
      },
      "execution_count": null,
      "outputs": [
        {
          "output_type": "execute_result",
          "data": {
            "text/plain": [
              "['Day3']"
            ]
          },
          "metadata": {},
          "execution_count": 23
        }
      ]
    },
    {
      "cell_type": "code",
      "source": [
        "#matching alternate patterns with |\n",
        "text = \"You can reach me by phone on 6474255734 or email me at smm@gmail.com\"\n",
        "\n",
        "re.findall(r\"\\d{10}|\\w+@.+\\.com\", text)"
      ],
      "metadata": {
        "colab": {
          "base_uri": "https://localhost:8080/"
        },
        "id": "BtdYbOcZPhGV",
        "outputId": "3c39bdf7-ae0c-4941-aa2d-bff9fa25c9b7"
      },
      "execution_count": null,
      "outputs": [
        {
          "output_type": "execute_result",
          "data": {
            "text/plain": [
              "['6474255734', 'smm@gmail.com']"
            ]
          },
          "metadata": {},
          "execution_count": 24
        }
      ]
    },
    {
      "cell_type": "code",
      "source": [
        "#matching a range of characters with []\n",
        "text = \"He lives on 42 Spring Street with his 100 cats\"\n",
        "\n",
        "re.findall(r\"[0-9]+\\s\", text)"
      ],
      "metadata": {
        "colab": {
          "base_uri": "https://localhost:8080/"
        },
        "id": "dpnsEniqU6lq",
        "outputId": "b53185b3-7c96-4dad-e1b6-3164072dcd91"
      },
      "execution_count": null,
      "outputs": [
        {
          "output_type": "execute_result",
          "data": {
            "text/plain": [
              "['42 ', '100 ']"
            ]
          },
          "metadata": {},
          "execution_count": 6
        }
      ]
    },
    {
      "cell_type": "code",
      "source": [
        "#matching a range of characters with []\n",
        "text = \"He usually hangs out with four people: Aaron Grant , Mike Johnson, James Smith, and Daniel Klein. \"\n",
        "\n",
        "re.findall(r\"[A-D]\\w+\\s\", text)"
      ],
      "metadata": {
        "colab": {
          "base_uri": "https://localhost:8080/"
        },
        "id": "hInix1WJ5va3",
        "outputId": "f8aaa24f-5a13-4959-a18f-686ce88483a8"
      },
      "execution_count": null,
      "outputs": [
        {
          "output_type": "execute_result",
          "data": {
            "text/plain": [
              "['Aaron ', 'Daniel ']"
            ]
          },
          "metadata": {},
          "execution_count": 22
        }
      ]
    },
    {
      "cell_type": "code",
      "source": [
        "#matching a range of characters with []\n",
        "text = \"My first ever email address was sigli99@hotmail.com\"\n",
        "\n",
        "re.findall(r\"\\s[A-Za-z0-9]+@.+\\.com\",text)"
      ],
      "metadata": {
        "colab": {
          "base_uri": "https://localhost:8080/"
        },
        "id": "bzg4p8z86UDk",
        "outputId": "542d670e-eff8-4122-a4fa-9743674aa64f"
      },
      "execution_count": null,
      "outputs": [
        {
          "output_type": "execute_result",
          "data": {
            "text/plain": [
              "[' sigli99@hotmail.com']"
            ]
          },
          "metadata": {},
          "execution_count": 40
        }
      ]
    },
    {
      "cell_type": "code",
      "source": [
        "#matching a character outside a range with [^]\n",
        "text = \"Examples of non-word characters are %,&,$,#,@,!, and *.\"\n",
        "\n",
        "re.findall(r\"[^A-Za-z\\s,.]\", text)"
      ],
      "metadata": {
        "colab": {
          "base_uri": "https://localhost:8080/"
        },
        "id": "x8KcyIvSCl72",
        "outputId": "7f4a85ba-275e-4712-8a21-fa1e970ebe91"
      },
      "execution_count": null,
      "outputs": [
        {
          "output_type": "execute_result",
          "data": {
            "text/plain": [
              "['-', '%', '&', '$', '#', '@', '!', '*']"
            ]
          },
          "metadata": {},
          "execution_count": 44
        }
      ]
    }
  ]
}