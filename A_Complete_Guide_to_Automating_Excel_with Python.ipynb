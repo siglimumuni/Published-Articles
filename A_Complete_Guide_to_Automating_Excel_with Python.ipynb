{
  "cells": [
    {
      "cell_type": "markdown",
      "metadata": {
        "id": "view-in-github",
        "colab_type": "text"
      },
      "source": [
        "<a href=\"https://colab.research.google.com/github/siglimumuni/Published-Articles/blob/main/A_Complete_Guide_to_Automating_Excel_with%C2%A0Python.ipynb\" target=\"_parent\"><img src=\"https://colab.research.google.com/assets/colab-badge.svg\" alt=\"Open In Colab\"/></a>"
      ]
    },
    {
      "cell_type": "markdown",
      "id": "f00cd996",
      "metadata": {
        "id": "f00cd996"
      },
      "source": [
        "# A Complete Guide to Automating Excel with Python"
      ]
    },
    {
      "cell_type": "markdown",
      "id": "e966ce71",
      "metadata": {
        "id": "e966ce71"
      },
      "source": [
        "## Loading a workbook and sheet"
      ]
    },
    {
      "cell_type": "code",
      "execution_count": null,
      "id": "b2a0c59a",
      "metadata": {
        "id": "b2a0c59a",
        "outputId": "c4177f62-ca28-4e11-8630-8665991b63ee"
      },
      "outputs": [
        {
          "name": "stdout",
          "output_type": "stream",
          "text": [
            "<Worksheet \"Class A\">\n"
          ]
        }
      ],
      "source": [
        "#import modules\n",
        "from openpyxl import Workbook, load_workbook\n",
        "\n",
        "#create instance of load_workbook with pathname to excel file\n",
        "wb = load_workbook(\"/Users/sig/Downloads/grades.xlsx\")\n",
        "\n",
        "#Select the active sheet\n",
        "sheet = wb.active\n",
        "\n",
        "print(sheet)"
      ]
    },
    {
      "cell_type": "markdown",
      "id": "7d4405f5",
      "metadata": {
        "id": "7d4405f5"
      },
      "source": [
        "## Accessing a cell value"
      ]
    },
    {
      "cell_type": "code",
      "execution_count": null,
      "id": "89caaa85",
      "metadata": {
        "id": "89caaa85",
        "outputId": "b3ad589e-2f1d-4b08-bc5c-ceee83307a10"
      },
      "outputs": [
        {
          "name": "stdout",
          "output_type": "stream",
          "text": [
            "Name\n",
            "James\n",
            "Male\n"
          ]
        }
      ],
      "source": [
        "print(sheet[\"A1\"].value)\n",
        "print(sheet[\"A2\"].value)\n",
        "print(sheet[\"B3\"].value)"
      ]
    },
    {
      "cell_type": "markdown",
      "id": "28d9edd7",
      "metadata": {
        "id": "28d9edd7"
      },
      "source": [
        "## Changing a cell value"
      ]
    },
    {
      "cell_type": "code",
      "execution_count": null,
      "id": "35fb2dc3",
      "metadata": {
        "id": "35fb2dc3"
      },
      "outputs": [],
      "source": [
        "#changing a cell value\n",
        "sheet[\"A2\"] = \"Test\"\n",
        "\n",
        "#saving workbook\n",
        "wb.save(\"/Users/sig/Downloads/grades.xlsx\")"
      ]
    },
    {
      "cell_type": "markdown",
      "id": "3b44f953",
      "metadata": {
        "id": "3b44f953"
      },
      "source": [
        "## Creating a new sheet"
      ]
    },
    {
      "cell_type": "code",
      "execution_count": null,
      "id": "74ccd0d4",
      "metadata": {
        "id": "74ccd0d4",
        "outputId": "1e3af6f5-b73b-4bf6-b04c-7827269e1cca"
      },
      "outputs": [
        {
          "name": "stdout",
          "output_type": "stream",
          "text": [
            "['Class A', 'Class B', 'Class B1']\n"
          ]
        }
      ],
      "source": [
        "#create a new sheet\n",
        "wb.create_sheet(\"Class B\")\n",
        "\n",
        "#return list of sheets\n",
        "print(wb.sheetnames)\n",
        "\n",
        "#save\n",
        "wb.save(\"/Users/sig/Downloads/grades.xlsx\")"
      ]
    },
    {
      "cell_type": "markdown",
      "id": "afc1ac67",
      "metadata": {
        "id": "afc1ac67"
      },
      "source": [
        "## Creating a new workbook"
      ]
    },
    {
      "cell_type": "code",
      "execution_count": null,
      "id": "dc9ec550",
      "metadata": {
        "id": "dc9ec550"
      },
      "outputs": [],
      "source": [
        "#create new workbook\n",
        "new_wb = Workbook()\n",
        "\n",
        "#select active sheet\n",
        "ws = new_wb.active\n",
        "\n",
        "#rename active sheet\n",
        "ws.title  = \"Test\"\n",
        "\n",
        "#add data to sheet\n",
        "ws.append([\"This\",\"Is\",\"A\",\"Test\"])\n",
        "\n",
        "#save\n",
        "new_wb.save(\"/Users/sig/Downloads/test.xlsx\")"
      ]
    },
    {
      "cell_type": "code",
      "execution_count": null,
      "id": "fd7aa4ce",
      "metadata": {
        "id": "fd7aa4ce"
      },
      "outputs": [],
      "source": [
        "#add more rows to sheet\n",
        "ws.append([\"This\",\"Is\",\"Another\",\"Test\"])\n",
        "ws.append([\"And\",\"Yet\",\"Another\",\"Test\"])\n",
        "ws.append([\"End\"])\n",
        "\n",
        "#save\n",
        "new_wb.save(\"/Users/sig/Downloads/test.xlsx\")"
      ]
    },
    {
      "cell_type": "markdown",
      "id": "bc171910",
      "metadata": {
        "id": "bc171910"
      },
      "source": [
        "## Accessing multiple cell values"
      ]
    },
    {
      "cell_type": "code",
      "execution_count": null,
      "id": "5076c210",
      "metadata": {
        "scrolled": true,
        "id": "5076c210",
        "outputId": "a55cafde-b35b-4907-fbae-c3b64674c6e7"
      },
      "outputs": [
        {
          "name": "stdout",
          "output_type": "stream",
          "text": [
            "This\n",
            "Is\n",
            "A\n",
            "Test\n",
            "This\n",
            "Is\n",
            "Another\n",
            "Test\n",
            "And\n",
            "Yet\n",
            "Another\n",
            "Test\n",
            "End\n",
            "None\n",
            "None\n",
            "None\n"
          ]
        }
      ],
      "source": [
        "#import get_column_letter\n",
        "from openpyxl.utils import get_column_letter\n",
        "\n",
        "#access multiple cell values\n",
        "for row in range(1,5):\n",
        "    for col in range(1,5):\n",
        "        char = get_column_letter(col)\n",
        "        print(ws[char + str(row)].value)"
      ]
    },
    {
      "cell_type": "code",
      "execution_count": null,
      "id": "f0365be5",
      "metadata": {
        "scrolled": true,
        "id": "f0365be5",
        "outputId": "645d1d74-1b60-4a50-abc3-62e336974813"
      },
      "outputs": [
        {
          "name": "stdout",
          "output_type": "stream",
          "text": [
            "This\n",
            "Is\n",
            "A\n",
            "Test\n",
            "This\n",
            "Is\n",
            "Another\n",
            "Test\n",
            "And\n",
            "Yet\n",
            "Another\n",
            "Test\n",
            "End\n",
            "None\n",
            "None\n",
            "None\n"
          ]
        }
      ],
      "source": [
        "#access multiple cell values \n",
        "for row in range(1,ws.max_row + 1):\n",
        "    for col in range(1,ws.max_column + 1):\n",
        "        char = get_column_letter(col)\n",
        "        print(ws[char + str(row)].value)"
      ]
    },
    {
      "cell_type": "code",
      "execution_count": null,
      "id": "fbd3ed22",
      "metadata": {
        "id": "fbd3ed22"
      },
      "outputs": [],
      "source": [
        "#modify multiple cell values \n",
        "for row in range(1,ws.max_row + 1):\n",
        "    for col in range(1,ws.max_column + 1):\n",
        "        char = get_column_letter(col)\n",
        "        ws[char + str(row)] = char + str(row)\n",
        "        \n",
        "#save\n",
        "new_wb.save(\"/Users/sig/Downloads/test.xlsx\")"
      ]
    },
    {
      "cell_type": "markdown",
      "id": "698d8c82",
      "metadata": {
        "id": "698d8c82"
      },
      "source": [
        "## Inserting and deleting rows"
      ]
    },
    {
      "cell_type": "code",
      "execution_count": null,
      "id": "f2ea53ee",
      "metadata": {
        "id": "f2ea53ee"
      },
      "outputs": [],
      "source": [
        "#insert new row\n",
        "ws.insert_rows(1)\n",
        "\n",
        "#save\n",
        "new_wb.save(\"/Users/sig/Downloads/test.xlsx\")"
      ]
    },
    {
      "cell_type": "code",
      "execution_count": null,
      "id": "4147c39f",
      "metadata": {
        "id": "4147c39f"
      },
      "outputs": [],
      "source": [
        "#delete a row\n",
        "ws.delete_rows(1)\n",
        "\n",
        "#save\n",
        "new_wb.save(\"/Users/sig/Downloads/test.xlsx\")"
      ]
    },
    {
      "cell_type": "markdown",
      "id": "c1e6aaf4",
      "metadata": {
        "id": "c1e6aaf4"
      },
      "source": [
        "## Merging cells and unmerging cells"
      ]
    },
    {
      "cell_type": "code",
      "execution_count": null,
      "id": "4df9e06e",
      "metadata": {
        "id": "4df9e06e"
      },
      "outputs": [],
      "source": [
        "#merge cells\n",
        "ws.merge_cells(\"A1:A2\")\n",
        "\n",
        "#save\n",
        "new_wb.save(\"/Users/sig/Downloads/test.xlsx\")"
      ]
    },
    {
      "cell_type": "code",
      "execution_count": null,
      "id": "b6d3d239",
      "metadata": {
        "id": "b6d3d239"
      },
      "outputs": [],
      "source": [
        "#unmerge cells\n",
        "ws.unmerge_cells(\"A1:A2\")\n",
        "\n",
        "#save\n",
        "new_wb.save(\"/Users/sig/Downloads/test.xlsx\")"
      ]
    },
    {
      "cell_type": "markdown",
      "id": "87f3673d",
      "metadata": {
        "id": "87f3673d"
      },
      "source": [
        "## Inserting and deleting columns"
      ]
    },
    {
      "cell_type": "code",
      "execution_count": null,
      "id": "249260df",
      "metadata": {
        "id": "249260df"
      },
      "outputs": [],
      "source": [
        "#insert columns\n",
        "ws.insert_cols(2)\n",
        "\n",
        "#save\n",
        "new_wb.save(\"/Users/sig/Downloads/test.xlsx\")"
      ]
    },
    {
      "cell_type": "code",
      "execution_count": null,
      "id": "464deb66",
      "metadata": {
        "id": "464deb66"
      },
      "outputs": [],
      "source": [
        "#delete columns\n",
        "ws.delete_cols(1,2)\n",
        "\n",
        "#save\n",
        "new_wb.save(\"/Users/sig/Downloads/test.xlsx\")"
      ]
    },
    {
      "cell_type": "markdown",
      "id": "f03207db",
      "metadata": {
        "id": "f03207db"
      },
      "source": [
        "## Copying and moving cell values"
      ]
    },
    {
      "cell_type": "code",
      "execution_count": null,
      "id": "59e0decf",
      "metadata": {
        "id": "59e0decf"
      },
      "outputs": [],
      "source": [
        "#move range\n",
        "ws.move_range(\"A1:B1\",rows=4,cols=1)\n",
        "\n",
        "#save\n",
        "new_wb.save(\"/Users/sig/Downloads/test.xlsx\")"
      ]
    },
    {
      "cell_type": "markdown",
      "id": "6acbb24e",
      "metadata": {
        "id": "6acbb24e"
      },
      "source": [
        "## Moving data to a new sheet"
      ]
    },
    {
      "cell_type": "code",
      "execution_count": null,
      "id": "360732ed",
      "metadata": {
        "id": "360732ed"
      },
      "outputs": [],
      "source": [
        "#Sales data Python dictionary\n",
        "sales_data = {\n",
        "           \"XpressWear Pants\":{\"New York\":5000,\"Toronto\":7000,\"London\":6000,\"Hong Kong\":10000},\n",
        "           \"Swish Wallet \":{\"New York\":8000,\"Toronto\":3000,\"London\":5000,\"Hong Kong\":9000},\n",
        "           \"ONEset Shaving Kit\":{\"New York\":6000,\"Toronto\":9000,\"London\":4000,\"Hong Kong\":6000},\n",
        "           \"Rhino Phone Case\":{\"New York\":2000,\"Toronto\":5000,\"London\":4000,\"Hong Kong\":7000}\n",
        "           }"
      ]
    },
    {
      "cell_type": "code",
      "execution_count": null,
      "id": "70780768",
      "metadata": {
        "id": "70780768"
      },
      "outputs": [],
      "source": [
        "#create new workbook\n",
        "sales_wb = Workbook()\n",
        "\n",
        "#select active sheet\n",
        "ws = sales_wb.active\n",
        "\n",
        "#change name of sheet\n",
        "ws.title = \"Sales\"\n",
        "\n",
        "#create the column headers with dictionary keys\n",
        "column_names = [\"Product Name\"] + list(sales_data[\"XpressWear Pants\"].keys())\n",
        "\n",
        "#append column names to sheet\n",
        "ws.append(column_names)\n",
        "\n",
        "#loop through dictionary and append values to sheet\n",
        "for product in sales_data:\n",
        "    sales = list(sales_data[product].values())\n",
        "    ws.append([product] + sales)\n",
        "\n",
        "#save\n",
        "sales_wb.save(\"/Users/sig/Downloads/sales_data.xlsx\")"
      ]
    },
    {
      "cell_type": "markdown",
      "id": "247bf709",
      "metadata": {
        "id": "247bf709"
      },
      "source": [
        "## Aggregating cell values"
      ]
    },
    {
      "cell_type": "code",
      "execution_count": null,
      "id": "db5d4719",
      "metadata": {
        "id": "db5d4719"
      },
      "outputs": [],
      "source": [
        "#aggregating a range of cells\n",
        "ws['B6'] = '=AVERAGE(B2:B5)'\n",
        "\n",
        "#save\n",
        "sales_wb.save(\"/Users/sig/Downloads/sales_data.xlsx\")"
      ]
    },
    {
      "cell_type": "code",
      "execution_count": null,
      "id": "87bd0440",
      "metadata": {
        "id": "87bd0440"
      },
      "outputs": [],
      "source": [
        "#add title of aggregation\n",
        "ws['A'+str(ws.max_row)] = \"Total Sales\"\n",
        "\n",
        "#aggregate column values\n",
        "for col in range(2, len(sales_data[\"XpressWear Pants\"]) + 2):\n",
        "    char = get_column_letter(col)\n",
        "    ws[char + '6'] = f\"=SUM({char+'2'}:{char+'5'})\"\n",
        "        \n",
        "#save\n",
        "sales_wb.save(\"/Users/sig/Downloads/sales_data.xlsx\")"
      ]
    },
    {
      "cell_type": "markdown",
      "id": "1fa0c523",
      "metadata": {
        "id": "1fa0c523"
      },
      "source": [
        "## Styling font"
      ]
    },
    {
      "cell_type": "code",
      "execution_count": null,
      "id": "115e180c",
      "metadata": {
        "id": "115e180c"
      },
      "outputs": [],
      "source": [
        "from openpyxl.styles import Font\n",
        "\n",
        "#apply a bold font\n",
        "for col in range(1,ws.max_column+1):\n",
        "    ws[get_column_letter(col) + '1'].font = Font('Arial', bold=True, size=13, color='00000080')\n",
        "    \n",
        "#save\n",
        "sales_wb.save(\"/Users/sig/Downloads/sales_data.xlsx\")"
      ]
    },
    {
      "cell_type": "markdown",
      "id": "f33626dd",
      "metadata": {
        "id": "f33626dd"
      },
      "source": [
        "## Plotting a chart"
      ]
    },
    {
      "cell_type": "code",
      "execution_count": null,
      "id": "a5a16c55",
      "metadata": {
        "id": "a5a16c55"
      },
      "outputs": [],
      "source": [
        "#import barchart module\n",
        "from openpyxl.chart import BarChart, Reference\n",
        "\n",
        "#create bar chart object\n",
        "barchart = BarChart()\n",
        "\n",
        "#select data range\n",
        "data = Reference(ws, min_col=ws.min_column+1, max_col=ws.max_column, min_row=ws.min_row, max_row=ws.max_row-1)\n",
        "\n",
        "#specify product names as categories\n",
        "categories = Reference(ws, min_col=ws.min_column, max_col=ws.min_column, min_row=ws.min_row+1, max_row=ws.max_row-1)\n",
        "\n",
        "#add data and categories\n",
        "barchart.add_data(data, titles_from_data=True)\n",
        "barchart.set_categories(categories)\n",
        "\n",
        "#location of chart\n",
        "ws.add_chart(barchart, \"G1\")\n",
        "\n",
        "#add chart title\n",
        "barchart.title = 'Product Sales by City'\n",
        "\n",
        "#choose the chart style\n",
        "barchart.style = 2\n",
        "\n",
        "#save\n",
        "sales_wb.save(\"/Users/sig/Downloads/sales_data.xlsx\")\n"
      ]
    }
  ],
  "metadata": {
    "kernelspec": {
      "display_name": "Python 3 (ipykernel)",
      "language": "python",
      "name": "python3"
    },
    "language_info": {
      "codemirror_mode": {
        "name": "ipython",
        "version": 3
      },
      "file_extension": ".py",
      "mimetype": "text/x-python",
      "name": "python",
      "nbconvert_exporter": "python",
      "pygments_lexer": "ipython3",
      "version": "3.8.12"
    },
    "colab": {
      "name": "A Complete Guide to Automating Excel with Python.ipynb",
      "provenance": [],
      "include_colab_link": true
    }
  },
  "nbformat": 4,
  "nbformat_minor": 5
}