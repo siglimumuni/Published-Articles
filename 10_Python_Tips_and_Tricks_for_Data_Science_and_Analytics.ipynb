{
  "nbformat": 4,
  "nbformat_minor": 0,
  "metadata": {
    "colab": {
      "name": "10 Python Tips and Tricks for Data Science and Analytics.ipynb",
      "provenance": [],
      "authorship_tag": "ABX9TyMUoUX2KZNneM7+QXLOgY0z",
      "include_colab_link": true
    },
    "kernelspec": {
      "name": "python3",
      "display_name": "Python 3"
    },
    "language_info": {
      "name": "python"
    }
  },
  "cells": [
    {
      "cell_type": "markdown",
      "metadata": {
        "id": "view-in-github",
        "colab_type": "text"
      },
      "source": [
        "<a href=\"https://colab.research.google.com/github/siglimumuni/Published-Articles/blob/main/10_Python_Tips_and_Tricks_for_Data_Science_and_Analytics.ipynb\" target=\"_parent\"><img src=\"https://colab.research.google.com/assets/colab-badge.svg\" alt=\"Open In Colab\"/></a>"
      ]
    },
    {
      "cell_type": "markdown",
      "source": [
        "## 1. Simplify if/else statements with ternary conditionals"
      ],
      "metadata": {
        "id": "Y9rZ31DI-QEm"
      }
    },
    {
      "cell_type": "code",
      "source": [
        "#set condition as True\n",
        "condition = True\n",
        "\n",
        "#assign 1 0r 0 to x depending on condition\n",
        "if condition == True:\n",
        "  x = 1\n",
        "else:\n",
        "  x = 0\n",
        "\n",
        "print(x)"
      ],
      "metadata": {
        "colab": {
          "base_uri": "https://localhost:8080/"
        },
        "id": "a8qNj08V-JXq",
        "outputId": "4d20cd57-c1ad-4616-fa48-691c18e43d30"
      },
      "execution_count": null,
      "outputs": [
        {
          "output_type": "stream",
          "name": "stdout",
          "text": [
            "1\n"
          ]
        }
      ]
    },
    {
      "cell_type": "code",
      "source": [
        "condition = True\n",
        "\n",
        "x = 1 if condition else 0\n",
        "\n",
        "print(x)"
      ],
      "metadata": {
        "colab": {
          "base_uri": "https://localhost:8080/"
        },
        "id": "ecEnbTVH4V23",
        "outputId": "e43b8d1d-8ce8-4370-85c7-a3276cbac1f7"
      },
      "execution_count": null,
      "outputs": [
        {
          "output_type": "stream",
          "name": "stdout",
          "text": [
            "1\n"
          ]
        }
      ]
    },
    {
      "cell_type": "markdown",
      "source": [
        "## 2. Automatic indexing with enumerate()"
      ],
      "metadata": {
        "id": "vFxqEAqeCsRA"
      }
    },
    {
      "cell_type": "code",
      "source": [
        "fruits = [\"Banana\",\"Pear\",\"Apple\",\"Mango\",\"Avocado\"]\n",
        "\n",
        "index = 0\n",
        "for fruit in fruits:\n",
        "  print(index,fruit)\n",
        "  index+=1"
      ],
      "metadata": {
        "colab": {
          "base_uri": "https://localhost:8080/"
        },
        "id": "6f0tapgHCyWx",
        "outputId": "9ab24c23-07e8-4a21-ce01-8775a00b873c"
      },
      "execution_count": null,
      "outputs": [
        {
          "output_type": "stream",
          "name": "stdout",
          "text": [
            "0 Banana\n",
            "1 Pear\n",
            "2 Apple\n",
            "3 Mango\n",
            "4 Avocado\n"
          ]
        }
      ]
    },
    {
      "cell_type": "code",
      "source": [
        "fruits = [\"Banana\",\"Pear\",\"Apple\",\"Mango\",\"Avocado\"]\n",
        "\n",
        "for index,fruit in enumerate(fruits):\n",
        "  print(index, fruit)"
      ],
      "metadata": {
        "colab": {
          "base_uri": "https://localhost:8080/"
        },
        "id": "GrozLF16D7ph",
        "outputId": "0312334a-a9bc-474a-b7f9-42b841b6ba4c"
      },
      "execution_count": null,
      "outputs": [
        {
          "output_type": "stream",
          "name": "stdout",
          "text": [
            "0 Banana\n",
            "1 Pear\n",
            "2 Apple\n",
            "3 Mango\n",
            "4 Avocado\n"
          ]
        }
      ]
    },
    {
      "cell_type": "markdown",
      "source": [
        "## 3. Using number separators for large numbers"
      ],
      "metadata": {
        "id": "8_45l73e4EN0"
      }
    },
    {
      "cell_type": "code",
      "execution_count": null,
      "metadata": {
        "colab": {
          "base_uri": "https://localhost:8080/"
        },
        "id": "GH7DQrz13-Om",
        "outputId": "2038b433-c1fd-4306-a422-181ad2beee66"
      },
      "outputs": [
        {
          "output_type": "stream",
          "name": "stdout",
          "text": [
            "11000000000\n",
            "11000000000\n"
          ]
        }
      ],
      "source": [
        "#no seperators\n",
        "num1 = 10000000000\n",
        "num2 = 1000000000\n",
        "\n",
        "print(num1 + num2)\n",
        "\n",
        "#using underscores as seperators\n",
        "num1 = 10_000_000_000\n",
        "num2 = 1_000_000_000\n",
        "\n",
        "print(num1 + num2)"
      ]
    },
    {
      "cell_type": "code",
      "source": [
        "num1 = 10_000_000_000\n",
        "num2 = 1_000_000_000\n",
        "\n",
        "print(f\"{num1+num2:,}\")"
      ],
      "metadata": {
        "colab": {
          "base_uri": "https://localhost:8080/"
        },
        "id": "kkKzabwK7aJc",
        "outputId": "39c8bb4c-fcf2-4cdb-a4d0-5580cb27e138"
      },
      "execution_count": null,
      "outputs": [
        {
          "output_type": "stream",
          "name": "stdout",
          "text": [
            "11,000,000,000\n"
          ]
        }
      ]
    },
    {
      "cell_type": "markdown",
      "source": [
        "## 4. Error Handling with try/except"
      ],
      "metadata": {
        "id": "cNLpK7arGiQc"
      }
    },
    {
      "cell_type": "code",
      "source": [
        "def divide_numbers(a,b):\n",
        "  return a/b\n",
        "\n",
        "divide_numbers(3,0)"
      ],
      "metadata": {
        "id": "3gQhkYGl_t7y"
      },
      "execution_count": null,
      "outputs": []
    },
    {
      "cell_type": "code",
      "source": [
        "def divide_numbers(a,b):\n",
        "  try:\n",
        "    return a/b\n",
        "  except ZeroDivisionError:\n",
        "    print(\"You can't divide a number by zero. Please enter another number\")\n",
        "\n",
        "divide_numbers(3,0)"
      ],
      "metadata": {
        "colab": {
          "base_uri": "https://localhost:8080/"
        },
        "id": "kuniZPqiL9-J",
        "outputId": "f0358484-f532-436b-bd45-3171a6b32bf5"
      },
      "execution_count": null,
      "outputs": [
        {
          "output_type": "stream",
          "name": "stdout",
          "text": [
            "You can't divide a number by zero. Please enter another number\n"
          ]
        }
      ]
    },
    {
      "cell_type": "markdown",
      "source": [
        "## 5. Combining lists with zip()"
      ],
      "metadata": {
        "id": "euceuK_XhgU3"
      }
    },
    {
      "cell_type": "code",
      "source": [
        "names = [\"Benjamin West\",\"Jeffrey Graham\",\"Jennifer Knox\",\"Autumn Brown\",\"Ryan Craig\"]\n",
        "ages = [28,32,40,43,33,46]\n",
        "cities = [\"Toronto\",\"Pretoria\",\"Nairobi\",\"Hong Kong\",\"Manilla\"]"
      ],
      "metadata": {
        "id": "sR_oa1poMlbU"
      },
      "execution_count": null,
      "outputs": []
    },
    {
      "cell_type": "code",
      "source": [
        "index = 0\n",
        "for name in names:\n",
        "  age = ages[index]\n",
        "  city = cities[index]\n",
        "  print(f\"{name} is {age} years old and lives in {city}\")\n",
        "  index += 1"
      ],
      "metadata": {
        "colab": {
          "base_uri": "https://localhost:8080/"
        },
        "id": "OACqDVxmoUgc",
        "outputId": "36870c12-3b12-454b-a2c9-eabbef9d0976"
      },
      "execution_count": null,
      "outputs": [
        {
          "output_type": "stream",
          "name": "stdout",
          "text": [
            "Benjamin West is 28 years old and lives in Toronto\n",
            "Jeffrey Graham is 32 years old and lives in Pretoria\n",
            "Jennifer Knox is 40 years old and lives in Nairobi\n",
            "Autumn Brown is 43 years old and lives in Hong Kong\n",
            "Ryan Craig is 33 years old and lives in Manilla\n"
          ]
        }
      ]
    },
    {
      "cell_type": "code",
      "source": [
        "names = [\"Benjamin West\",\"Jeffrey Graham\",\"Jennifer Knox\",\"Autumn Brown\",\"Ryan Craig\"]\n",
        "ages = [28,32,40,43,33,46]\n",
        "cities = [\"Toronto\",\"Pretoria\",\"Nairobi\",\"Hong Kong\",\"Manilla\"]\n",
        "\n",
        "for name, age, city in zip(names,ages,cities):\n",
        "  print(f\"{name} is {age} years old and lives in {city}\")"
      ],
      "metadata": {
        "colab": {
          "base_uri": "https://localhost:8080/"
        },
        "id": "KPy3BMq8kGIH",
        "outputId": "e8f2cc61-264b-4963-baea-5065318c15d5"
      },
      "execution_count": null,
      "outputs": [
        {
          "output_type": "stream",
          "name": "stdout",
          "text": [
            "Benjamin West is 28 years old and lives in Toronto\n",
            "Jeffrey Graham is 32 years old and lives in Pretoria\n",
            "Jennifer Knox is 40 years old and lives in Nairobi\n",
            "Autumn Brown is 43 years old and lives in Hong Kong\n",
            "Ryan Craig is 33 years old and lives in Manilla\n"
          ]
        }
      ]
    },
    {
      "cell_type": "markdown",
      "source": [
        "## 6. Creating quick lists with list comprehensions"
      ],
      "metadata": {
        "id": "puAkIEFcry5b"
      }
    },
    {
      "cell_type": "code",
      "source": [
        "squares_list = []\n",
        "for num in range(1,11):\n",
        "  squares_list.append(num**2)\n",
        "\n",
        "print(squares_list)"
      ],
      "metadata": {
        "colab": {
          "base_uri": "https://localhost:8080/"
        },
        "id": "rYVwjWMBhzZ8",
        "outputId": "0a71715e-1fec-4ac0-f4c1-05c56453b2e1"
      },
      "execution_count": null,
      "outputs": [
        {
          "output_type": "stream",
          "name": "stdout",
          "text": [
            "[1, 4, 9, 16, 25, 36, 49, 64, 81, 100]\n"
          ]
        }
      ]
    },
    {
      "cell_type": "code",
      "source": [
        "squares_list2 = [num**2 for num in range(1,11)]\n",
        "print(squares_list2)"
      ],
      "metadata": {
        "colab": {
          "base_uri": "https://localhost:8080/"
        },
        "id": "nQSTQm9OiKEt",
        "outputId": "201ca063-3792-485b-e4fc-4a03547477bb"
      },
      "execution_count": null,
      "outputs": [
        {
          "output_type": "stream",
          "name": "stdout",
          "text": [
            "[1, 4, 9, 16, 25, 36, 49, 64, 81, 100]\n"
          ]
        }
      ]
    },
    {
      "cell_type": "code",
      "source": [
        "squares_list3 = [num**2 for num in range(1,11) if num%2==0]\n",
        "print(squares_list3)"
      ],
      "metadata": {
        "colab": {
          "base_uri": "https://localhost:8080/"
        },
        "id": "KEwo6AuFtlmK",
        "outputId": "c8d89016-80f8-445e-d8bd-e0bf3283fca2"
      },
      "execution_count": null,
      "outputs": [
        {
          "output_type": "stream",
          "name": "stdout",
          "text": [
            "[4, 16, 36, 64, 100]\n"
          ]
        }
      ]
    },
    {
      "cell_type": "markdown",
      "source": [
        "## 7. Converting an iterable into a string with join()"
      ],
      "metadata": {
        "id": "trYDy6r9kaDY"
      }
    },
    {
      "cell_type": "code",
      "source": [
        "favorites = [\"bikes\",\"video games\",\"watches\"]\n",
        "\n",
        "favorites_joined = \"\"\n",
        "for item in favorites:\n",
        "  favorites_joined+=item+\", \"\n",
        "\n",
        "print(f\"He loves three things more than any others: {favorites_joined}.\")"
      ],
      "metadata": {
        "colab": {
          "base_uri": "https://localhost:8080/"
        },
        "id": "pjRKJGjuwixC",
        "outputId": "980516a1-614a-4197-b64d-20d398560260"
      },
      "execution_count": null,
      "outputs": [
        {
          "output_type": "stream",
          "name": "stdout",
          "text": [
            "He loves three things more than any others: bikes, video games, watches, .\n"
          ]
        }
      ]
    },
    {
      "cell_type": "code",
      "source": [
        "favorites_str = ', '.join(favorites)\n",
        "\n",
        "print(f\"He loves three things more than any others: {favorites_str}.\")"
      ],
      "metadata": {
        "colab": {
          "base_uri": "https://localhost:8080/"
        },
        "id": "95bemQHUiO_Y",
        "outputId": "364e10ee-5e8d-4824-e188-161499c516d5"
      },
      "execution_count": null,
      "outputs": [
        {
          "output_type": "stream",
          "name": "stdout",
          "text": [
            "He loves three things more than any others: bikes, video games, watches.\n"
          ]
        }
      ]
    },
    {
      "cell_type": "markdown",
      "source": [
        "## 8. Counting item occurrences with collections.Counter"
      ],
      "metadata": {
        "id": "3p4NAyRkoKt-"
      }
    },
    {
      "cell_type": "code",
      "source": [
        "characters = [\"a\",\"a\",\"b\",\"d\",\"b\",\"c\",\"b\",\"e\",\"c\"]\n",
        "\n",
        "char_count = {}\n",
        "\n",
        "for character in characters:\n",
        "    if character not in char_count:\n",
        "        char_count[character] = 1\n",
        "    else:\n",
        "        char_count[character] += 1\n",
        "\n",
        "print(char_count)"
      ],
      "metadata": {
        "colab": {
          "base_uri": "https://localhost:8080/"
        },
        "id": "FXoWe4XyGopK",
        "outputId": "71711344-7166-406e-d4eb-44f1e990c204"
      },
      "execution_count": null,
      "outputs": [
        {
          "output_type": "stream",
          "name": "stdout",
          "text": [
            "{'a': 2, 'b': 3, 'd': 1, 'c': 2, 'e': 1}\n"
          ]
        }
      ]
    },
    {
      "cell_type": "code",
      "source": [
        "from collections import Counter\n",
        "\n",
        "Counter(characters)"
      ],
      "metadata": {
        "colab": {
          "base_uri": "https://localhost:8080/"
        },
        "id": "q42Tdc7RkCgW",
        "outputId": "aebdfcde-51d0-4b71-828f-da46a363ece7"
      },
      "execution_count": null,
      "outputs": [
        {
          "output_type": "execute_result",
          "data": {
            "text/plain": [
              "Counter({'a': 2, 'b': 3, 'c': 2, 'd': 1, 'e': 1})"
            ]
          },
          "metadata": {},
          "execution_count": 7
        }
      ]
    },
    {
      "cell_type": "markdown",
      "source": [
        "##9. Simplifying functions with Lambda expressions"
      ],
      "metadata": {
        "id": "IZvNSnh9nwD_"
      }
    },
    {
      "cell_type": "code",
      "source": [
        "def squared(x):\n",
        "  num_squared = x**2\n",
        "  return num_squared\n",
        "\n",
        "squared(4)"
      ],
      "metadata": {
        "colab": {
          "base_uri": "https://localhost:8080/"
        },
        "id": "gatITXnwuJBT",
        "outputId": "ae935112-a3da-4090-b84e-148e00f2e077"
      },
      "execution_count": null,
      "outputs": [
        {
          "output_type": "execute_result",
          "data": {
            "text/plain": [
              "16"
            ]
          },
          "metadata": {},
          "execution_count": 27
        }
      ]
    },
    {
      "cell_type": "code",
      "source": [
        "squared = lambda x:x**2\n",
        "squared(4)"
      ],
      "metadata": {
        "colab": {
          "base_uri": "https://localhost:8080/"
        },
        "id": "ycqs-6jZuatC",
        "outputId": "3a0e4627-e04d-4f90-edff-ebb3e15e99e9"
      },
      "execution_count": null,
      "outputs": [
        {
          "output_type": "execute_result",
          "data": {
            "text/plain": [
              "16"
            ]
          },
          "metadata": {},
          "execution_count": 28
        }
      ]
    },
    {
      "cell_type": "code",
      "source": [
        "add_numbers = lambda x,y: x + y\n",
        "add_numbers(3,5)"
      ],
      "metadata": {
        "colab": {
          "base_uri": "https://localhost:8080/"
        },
        "id": "wyWttpVSx2pN",
        "outputId": "7d726798-2aa5-437f-8b27-ef9dddff9ab0"
      },
      "execution_count": null,
      "outputs": [
        {
          "output_type": "execute_result",
          "data": {
            "text/plain": [
              "8"
            ]
          },
          "metadata": {},
          "execution_count": 29
        }
      ]
    },
    {
      "cell_type": "markdown",
      "source": [
        "## 10. Setting a default dictionary value with the get() method"
      ],
      "metadata": {
        "id": "5mBf32trn1jF"
      }
    },
    {
      "cell_type": "code",
      "source": [
        "positions = {'James': 'Data Analyst', 'Mary': 'Data Engineer','Scott':'Data Scientist'}\n",
        "employee_list = ['James','Mary','Joanna','Scott']\n",
        "\n",
        "for employee in employee_list:\n",
        "  if positions.get(employee)==None:\n",
        "    print(employee,':',\"No entry\")\n",
        "  else:\n",
        "    print(employee,':', positions.get(employee))"
      ],
      "metadata": {
        "colab": {
          "base_uri": "https://localhost:8080/"
        },
        "id": "_-VaShSezlb8",
        "outputId": "01fb41db-351b-475d-a525-4e7a9c81045f"
      },
      "execution_count": null,
      "outputs": [
        {
          "output_type": "stream",
          "name": "stdout",
          "text": [
            "James : Data Analyst\n",
            "Mary : Data Engineer\n",
            "Joanna : No entry\n",
            "Scott : Data Scientist\n"
          ]
        }
      ]
    },
    {
      "cell_type": "code",
      "source": [
        "for employee in employee_list:\n",
        "  print(employee,':',positions.get(employee,\"No entry\"))"
      ],
      "metadata": {
        "colab": {
          "base_uri": "https://localhost:8080/"
        },
        "id": "bimdQJnRn7-k",
        "outputId": "3597f6ee-b582-4350-fa9c-f64795d94584"
      },
      "execution_count": null,
      "outputs": [
        {
          "output_type": "stream",
          "name": "stdout",
          "text": [
            "James : Data Analyst\n",
            "Mary : Data Engineer\n",
            "Joanna : No entry\n",
            "Scott : Data Scientist\n"
          ]
        }
      ]
    },
    {
      "cell_type": "markdown",
      "source": [
        ""
      ],
      "metadata": {
        "id": "AQgpQUYhGdOr"
      }
    }
  ]
}