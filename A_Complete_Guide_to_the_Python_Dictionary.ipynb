{
  "nbformat": 4,
  "nbformat_minor": 0,
  "metadata": {
    "colab": {
      "name": "A Complete Guide to the Python Dictionary.ipynb",
      "provenance": [],
      "authorship_tag": "ABX9TyN01L8R7RTOMDZC6w/URwLx",
      "include_colab_link": true
    },
    "kernelspec": {
      "name": "python3",
      "display_name": "Python 3"
    },
    "language_info": {
      "name": "python"
    }
  },
  "cells": [
    {
      "cell_type": "markdown",
      "metadata": {
        "id": "view-in-github",
        "colab_type": "text"
      },
      "source": [
        "<a href=\"https://colab.research.google.com/github/siglimumuni/Published-Articles/blob/main/A_Complete_Guide_to_the_Python_Dictionary.ipynb\" target=\"_parent\"><img src=\"https://colab.research.google.com/assets/colab-badge.svg\" alt=\"Open In Colab\"/></a>"
      ]
    },
    {
      "cell_type": "code",
      "execution_count": 1,
      "metadata": {
        "colab": {
          "base_uri": "https://localhost:8080/"
        },
        "id": "HyAulX6juFMJ",
        "outputId": "95ff3875-7dde-4bcd-a093-53cef11d366c"
      },
      "outputs": [
        {
          "output_type": "stream",
          "name": "stdout",
          "text": [
            "{}\n",
            "{1: 'Banana', 2: 'Orange', 3: 'Strawberry'}\n",
            "{'Name': 'John', 'Age': 34, 'Married': True, 'Children': ['Ken', 'Jane']}\n",
            "{1: 'Banana', 2: 'Orange', 3: 'Strawberry'}\n",
            "{1: 'Banana', 2: 'Orange', 3: 'Strawberry'}\n"
          ]
        }
      ],
      "source": [
        "#Empty dictionary\n",
        "my_dict1 = {}\n",
        "\n",
        "#With integer keys and string values\n",
        "my_dict2 = {1:\"Banana\",2:\"Orange\", 3:\"Strawberry\"}\n",
        "\n",
        "#With mixed data types\n",
        "my_dict3 = {\"Name\":\"John\",\"Age\":34, \"Married\":True, \"Children\":[\"Ken\",\"Jane\"]}\n",
        "\n",
        "#With tuples\n",
        "my_dict4 = dict([(1,\"Banana\"),(2,\"Orange\"),(3,\"Strawberry\")])\n",
        "\n",
        "#From two lists\n",
        "my_dict5 = dict(zip([1,2,3],[\"Banana\",\"Orange\",\"Strawberry\"]))\n",
        "\n",
        "print(my_dict1)\n",
        "print(my_dict2)\n",
        "print(my_dict3)\n",
        "print(my_dict4)\n",
        "print(my_dict5)"
      ]
    },
    {
      "cell_type": "code",
      "source": [
        "bio_data = {\"firstname\": \"Kweku\",\n",
        "           \"lastname\": \"Mensah\",\n",
        "           \"age\":27,\n",
        "           \"married\": False,\n",
        "           \"hobbies\": [\"reading\",\"travelling\"]\n",
        "            }\n",
        "\n",
        "print(bio_data.get(\"firstname\"))\n",
        "\n",
        "print(bio_data[\"firstname\"])"
      ],
      "metadata": {
        "colab": {
          "base_uri": "https://localhost:8080/"
        },
        "id": "obQ-cpsM3v99",
        "outputId": "94ad1274-95ae-483a-9cff-0a6ef42a5696"
      },
      "execution_count": 17,
      "outputs": [
        {
          "output_type": "stream",
          "name": "stdout",
          "text": [
            "Kweku\n",
            "Kweku\n"
          ]
        }
      ]
    },
    {
      "cell_type": "code",
      "source": [
        "print(bio_data[\"hobbies\"][0])\n",
        "\n",
        "print(bio_data[\"hobbies\"][1])"
      ],
      "metadata": {
        "colab": {
          "base_uri": "https://localhost:8080/"
        },
        "id": "MGzvKDNlFXcs",
        "outputId": "5927b24d-87a9-4c81-d600-b2cbc5fac426"
      },
      "execution_count": 9,
      "outputs": [
        {
          "output_type": "stream",
          "name": "stdout",
          "text": [
            "reading\n",
            "travelling\n"
          ]
        }
      ]
    },
    {
      "cell_type": "code",
      "source": [
        "print(bio_data.get(\"pets\"))\n",
        "\n",
        "print(bio_data.get(\"pets\",\"no such key\"))\n"
      ],
      "metadata": {
        "colab": {
          "base_uri": "https://localhost:8080/"
        },
        "id": "BB0AzzkjBr3l",
        "outputId": "f1a6fc62-9146-4ff9-a8a1-d1f1da2c81fa"
      },
      "execution_count": 10,
      "outputs": [
        {
          "output_type": "stream",
          "name": "stdout",
          "text": [
            "None\n",
            "no such key\n"
          ]
        }
      ]
    },
    {
      "cell_type": "code",
      "source": [
        "bio_data[\"pets\"] = {\"dog\":\"Milo\", \"cat\":\"Luna\"}\n",
        "\n",
        "print(bio_data[\"pets\"])"
      ],
      "metadata": {
        "colab": {
          "base_uri": "https://localhost:8080/"
        },
        "id": "pPCZVnyICxuN",
        "outputId": "6fe69358-a339-4da1-dce3-9bc5cb6f2d5e"
      },
      "execution_count": 11,
      "outputs": [
        {
          "output_type": "stream",
          "name": "stdout",
          "text": [
            "{'dog': 'Milo', 'cat': 'Luna'}\n"
          ]
        }
      ]
    },
    {
      "cell_type": "code",
      "source": [
        "#Original value\n",
        "print(bio_data[\"married\"])\n",
        "\n",
        "#Assigning a new value\n",
        "bio_data[\"married\"] = True\n",
        "\n",
        "#New value\n",
        "print(bio_data[\"married\"])"
      ],
      "metadata": {
        "colab": {
          "base_uri": "https://localhost:8080/"
        },
        "id": "tEXg17uGDyp1",
        "outputId": "3ee1ea6c-64f2-48df-dc56-ba37d95533e7"
      },
      "execution_count": 18,
      "outputs": [
        {
          "output_type": "stream",
          "name": "stdout",
          "text": [
            "False\n",
            "True\n"
          ]
        }
      ]
    },
    {
      "cell_type": "code",
      "source": [
        "del bio_data[\"lastname\"]\n",
        "\n",
        "print(bio_data.get(\"lastname\"))"
      ],
      "metadata": {
        "colab": {
          "base_uri": "https://localhost:8080/"
        },
        "id": "Yj9INERXGOV9",
        "outputId": "b88a4409-a529-4524-ff30-09bfffbcc785"
      },
      "execution_count": 19,
      "outputs": [
        {
          "output_type": "stream",
          "name": "stdout",
          "text": [
            "None\n"
          ]
        }
      ]
    },
    {
      "cell_type": "code",
      "source": [
        "#iterating through a dictionary\n",
        "for value in bio_data:\n",
        "  print(bio_data[value])"
      ],
      "metadata": {
        "colab": {
          "base_uri": "https://localhost:8080/"
        },
        "id": "gmGklESjRT2N",
        "outputId": "12197b0c-c073-4965-9402-ccbc57029170"
      },
      "execution_count": 20,
      "outputs": [
        {
          "output_type": "stream",
          "name": "stdout",
          "text": [
            "Kweku\n",
            "27\n",
            "True\n",
            "['reading', 'travelling']\n"
          ]
        }
      ]
    },
    {
      "cell_type": "code",
      "source": [
        "#iterating through a dictionary with .items()\n",
        "for key, value in bio_data.items():\n",
        "  print(key,\":\",value)"
      ],
      "metadata": {
        "colab": {
          "base_uri": "https://localhost:8080/"
        },
        "id": "Rj6rw9dRqBoV",
        "outputId": "a7aab449-4643-45b3-ea7a-2427d8eb24f4"
      },
      "execution_count": 21,
      "outputs": [
        {
          "output_type": "stream",
          "name": "stdout",
          "text": [
            "firstname : Kweku\n",
            "age : 27\n",
            "married : True\n",
            "hobbies : ['reading', 'travelling']\n"
          ]
        }
      ]
    },
    {
      "cell_type": "code",
      "source": [
        "car_info = {\"make\":\"Toyota\",\"model\":\"Camry\",\"year\":2018}\n",
        "\n",
        "print(\"make\" in car_info)\n",
        "print(\"price\" in car_info)\n",
        "print(\"model\" not in car_info)"
      ],
      "metadata": {
        "colab": {
          "base_uri": "https://localhost:8080/"
        },
        "id": "KMXfBt3h6wsP",
        "outputId": "2dd75f48-0b6b-4b0f-8cb6-9b6d36adb9a9"
      },
      "execution_count": 1,
      "outputs": [
        {
          "output_type": "stream",
          "name": "stdout",
          "text": [
            "True\n",
            "False\n",
            "False\n"
          ]
        }
      ]
    },
    {
      "cell_type": "code",
      "source": [
        "#Dictionary comprehension\n",
        "d = {x:x*2 for x in range(6)}\n",
        "print(d)"
      ],
      "metadata": {
        "colab": {
          "base_uri": "https://localhost:8080/"
        },
        "id": "F7_L1asNgIlj",
        "outputId": "374e0d3a-52ca-4725-b296-f58aa1c6da13"
      },
      "execution_count": 26,
      "outputs": [
        {
          "output_type": "stream",
          "name": "stdout",
          "text": [
            "{0: 0, 1: 2, 2: 4, 3: 6, 4: 8, 5: 10}\n"
          ]
        }
      ]
    },
    {
      "cell_type": "code",
      "source": [
        "#Dictionary comprehension with condition\n",
        "d = {x:x*2 for x in range(6) if x%2==0}\n",
        "print(d)"
      ],
      "metadata": {
        "colab": {
          "base_uri": "https://localhost:8080/"
        },
        "id": "WL9Y28FFgrbs",
        "outputId": "e392a597-8b15-4c59-9d0a-a4c8c7a3a022"
      },
      "execution_count": 27,
      "outputs": [
        {
          "output_type": "stream",
          "name": "stdout",
          "text": [
            "{0: 0, 2: 4, 4: 8}\n"
          ]
        }
      ]
    },
    {
      "cell_type": "code",
      "source": [
        "#the clear() method\n",
        "d = {\"A\":1,\"B\":2,\"C\":3}\n",
        "\n",
        "d.clear()\n",
        "\n",
        "print(d)"
      ],
      "metadata": {
        "colab": {
          "base_uri": "https://localhost:8080/"
        },
        "id": "WBlWwZmVrr67",
        "outputId": "44392ca9-59a4-4876-896c-a194e18b6c87"
      },
      "execution_count": 15,
      "outputs": [
        {
          "output_type": "stream",
          "name": "stdout",
          "text": [
            "{}\n"
          ]
        }
      ]
    },
    {
      "cell_type": "code",
      "source": [
        "#The keys() method\n",
        "d = {\"A\":1,\"B\":2,\"C\":3}\n",
        "\n",
        "print(d.keys())"
      ],
      "metadata": {
        "colab": {
          "base_uri": "https://localhost:8080/"
        },
        "id": "yh6gEt88Y4kz",
        "outputId": "e44b1d8c-281a-4a07-c543-3e52b23dca49"
      },
      "execution_count": 16,
      "outputs": [
        {
          "output_type": "stream",
          "name": "stdout",
          "text": [
            "dict_keys(['A', 'B', 'C'])\n"
          ]
        }
      ]
    },
    {
      "cell_type": "code",
      "source": [
        "#The values() method\n",
        "d = {\"A\":1,\"B\":2,\"C\":3}\n",
        "\n",
        "print(d.values())"
      ],
      "metadata": {
        "colab": {
          "base_uri": "https://localhost:8080/"
        },
        "id": "egH7g0L1ZbLU",
        "outputId": "a0e4042d-900c-4687-a7ec-6885d403ac44"
      },
      "execution_count": 17,
      "outputs": [
        {
          "output_type": "stream",
          "name": "stdout",
          "text": [
            "dict_values([1, 2, 3])\n"
          ]
        }
      ]
    },
    {
      "cell_type": "code",
      "source": [
        "#The pop() method\n",
        "d = {\"A\":1,\"B\":2,\"C\":3}\n",
        "d.pop(\"C\")"
      ],
      "metadata": {
        "colab": {
          "base_uri": "https://localhost:8080/"
        },
        "id": "ZLsIVVeoasIa",
        "outputId": "9899b64b-3b45-409f-d4dc-6cd4eb17f864"
      },
      "execution_count": 18,
      "outputs": [
        {
          "output_type": "execute_result",
          "data": {
            "text/plain": [
              "3"
            ]
          },
          "metadata": {},
          "execution_count": 18
        }
      ]
    },
    {
      "cell_type": "code",
      "source": [
        "#The pop() method with default argument\n",
        "d = {\"A\":1,\"B\":2,\"C\":3}\n",
        "d.pop(\"D\",\"doesn't exist\")"
      ],
      "metadata": {
        "colab": {
          "base_uri": "https://localhost:8080/",
          "height": 35
        },
        "id": "Vhj9gJr7a-xn",
        "outputId": "860e9972-9d2e-4e7a-c89b-bc3ef016b0f4"
      },
      "execution_count": 19,
      "outputs": [
        {
          "output_type": "execute_result",
          "data": {
            "text/plain": [
              "\"doesn't exist\""
            ],
            "application/vnd.google.colaboratory.intrinsic+json": {
              "type": "string"
            }
          },
          "metadata": {},
          "execution_count": 19
        }
      ]
    },
    {
      "cell_type": "code",
      "source": [
        "#The popitem() method\n",
        "d = {\"A\":1,\"B\":2,\"C\":3}\n",
        "d.popitem()"
      ],
      "metadata": {
        "colab": {
          "base_uri": "https://localhost:8080/"
        },
        "id": "ZC1c5xqdcWcD",
        "outputId": "901d1ad3-da39-40ee-f84e-499df354c26a"
      },
      "execution_count": 20,
      "outputs": [
        {
          "output_type": "execute_result",
          "data": {
            "text/plain": [
              "('C', 3)"
            ]
          },
          "metadata": {},
          "execution_count": 20
        }
      ]
    },
    {
      "cell_type": "code",
      "source": [
        "#The update() method\n",
        "d1 = {\"A\":1,\"B\":2,\"C\":3}\n",
        "d2 = {\"B\":4,\"D\":5}\n",
        "\n",
        "d1.update(d2)\n",
        "print(d1)"
      ],
      "metadata": {
        "colab": {
          "base_uri": "https://localhost:8080/"
        },
        "id": "0cnmdqFCc2R5",
        "outputId": "847d60c9-8bf4-4b4f-b27a-8a66715e2112"
      },
      "execution_count": 22,
      "outputs": [
        {
          "output_type": "stream",
          "name": "stdout",
          "text": [
            "{'A': 1, 'B': 4, 'C': 3, 'D': 5}\n"
          ]
        }
      ]
    },
    {
      "cell_type": "code",
      "source": [
        "#The fromkeys() method\n",
        "d = {}.fromkeys([\"A\",\"B\",\"C\",\"D\"],0)\n",
        "print(d)"
      ],
      "metadata": {
        "colab": {
          "base_uri": "https://localhost:8080/"
        },
        "id": "oFGeXqIqe3Kw",
        "outputId": "d37f84fb-d42c-4e3d-d82f-e517566317eb"
      },
      "execution_count": 23,
      "outputs": [
        {
          "output_type": "stream",
          "name": "stdout",
          "text": [
            "{'A': 0, 'B': 0, 'C': 0, 'D': 0}\n"
          ]
        }
      ]
    },
    {
      "cell_type": "code",
      "source": [
        "import pandas as pd\n",
        "\n",
        "employees = {\"Firstname\":[\"Allie\",\"Percy\",\"Fay\"],\n",
        "           \"Lastname\":[\"Grater\",\"Vere\",\"Daway\"],\n",
        "           \"Age\":[25,37,40],\n",
        "           \"Position\":[\"Data Analyst\",\"Data Engineer\",\"Data Scientist\"]}\n",
        "\n",
        "employees_df = pd.DataFrame(employees)\n",
        "print(employees_df)"
      ],
      "metadata": {
        "colab": {
          "base_uri": "https://localhost:8080/"
        },
        "id": "yfAUU2U8brqy",
        "outputId": "1d3f42c5-a9fa-4c2c-d220-cb6d3ff4ca0a"
      },
      "execution_count": 3,
      "outputs": [
        {
          "output_type": "stream",
          "name": "stdout",
          "text": [
            "  Firstname Lastname  Age        Position\n",
            "0     Allie   Grater   25    Data Analyst\n",
            "1     Percy     Vere   37   Data Engineer\n",
            "2       Fay    Daway   40  Data Scientist\n"
          ]
        }
      ]
    }
  ]
}