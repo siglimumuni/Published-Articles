{
 "cells": [
  {
   "cell_type": "markdown",
   "id": "46acd1d5",
   "metadata": {},
   "source": [
    "# Exploratory Data Analysis"
   ]
  },
  {
   "cell_type": "markdown",
   "id": "5c40d24d",
   "metadata": {},
   "source": [
    "## Installing and importing libraries"
   ]
  },
  {
   "cell_type": "code",
   "execution_count": null,
   "id": "fbb42107",
   "metadata": {},
   "outputs": [],
   "source": [
    "pip install numpy pandas matplotlib seaborn"
   ]
  },
  {
   "cell_type": "code",
   "execution_count": 362,
   "id": "1cbe029f",
   "metadata": {},
   "outputs": [],
   "source": [
    "#Import all relevant libraries\n",
    "import numpy as np\n",
    "import pandas as pd\n",
    "import matplotlib.pyplot as plt\n",
    "import seaborn as sns"
   ]
  },
  {
   "cell_type": "markdown",
   "id": "627133e4",
   "metadata": {},
   "source": [
    "## Loading data"
   ]
  },
  {
   "cell_type": "code",
   "execution_count": 369,
   "id": "7f7c6b8e",
   "metadata": {},
   "outputs": [],
   "source": [
    "#Read in the csv file and convert to a Pandas dataframe\n",
    "df = pd.read_csv(\"/Users/sig/Downloads/customer-data.csv\")"
   ]
  },
  {
   "cell_type": "code",
   "execution_count": 370,
   "id": "3aaac9d6",
   "metadata": {},
   "outputs": [
    {
     "data": {
      "text/plain": [
       "(10000, 19)"
      ]
     },
     "execution_count": 370,
     "metadata": {},
     "output_type": "execute_result"
    }
   ],
   "source": [
    "#Return the number of rows and columns of the dataframe\n",
    "df.shape"
   ]
  },
  {
   "cell_type": "code",
   "execution_count": 371,
   "id": "c3eb7ec7",
   "metadata": {},
   "outputs": [
    {
     "data": {
      "text/html": [
       "<div>\n",
       "<style scoped>\n",
       "    .dataframe tbody tr th:only-of-type {\n",
       "        vertical-align: middle;\n",
       "    }\n",
       "\n",
       "    .dataframe tbody tr th {\n",
       "        vertical-align: top;\n",
       "    }\n",
       "\n",
       "    .dataframe thead th {\n",
       "        text-align: right;\n",
       "    }\n",
       "</style>\n",
       "<table border=\"1\" class=\"dataframe\">\n",
       "  <thead>\n",
       "    <tr style=\"text-align: right;\">\n",
       "      <th></th>\n",
       "      <th>id</th>\n",
       "      <th>age</th>\n",
       "      <th>gender</th>\n",
       "      <th>race</th>\n",
       "      <th>driving_experience</th>\n",
       "      <th>education</th>\n",
       "      <th>income</th>\n",
       "      <th>credit_score</th>\n",
       "      <th>vehicle_ownership</th>\n",
       "      <th>vehicle_year</th>\n",
       "      <th>married</th>\n",
       "      <th>children</th>\n",
       "      <th>postal_code</th>\n",
       "      <th>annual_mileage</th>\n",
       "      <th>vehicle_type</th>\n",
       "      <th>speeding_violations</th>\n",
       "      <th>DUIs</th>\n",
       "      <th>past_accidents</th>\n",
       "      <th>outcome</th>\n",
       "    </tr>\n",
       "  </thead>\n",
       "  <tbody>\n",
       "    <tr>\n",
       "      <th>0</th>\n",
       "      <td>569520</td>\n",
       "      <td>65+</td>\n",
       "      <td>female</td>\n",
       "      <td>majority</td>\n",
       "      <td>0-9y</td>\n",
       "      <td>high school</td>\n",
       "      <td>upper class</td>\n",
       "      <td>0.629027</td>\n",
       "      <td>True</td>\n",
       "      <td>after 2015</td>\n",
       "      <td>False</td>\n",
       "      <td>True</td>\n",
       "      <td>10238</td>\n",
       "      <td>12000.0</td>\n",
       "      <td>sedan</td>\n",
       "      <td>0</td>\n",
       "      <td>0</td>\n",
       "      <td>0</td>\n",
       "      <td>False</td>\n",
       "    </tr>\n",
       "    <tr>\n",
       "      <th>1</th>\n",
       "      <td>750365</td>\n",
       "      <td>16-25</td>\n",
       "      <td>male</td>\n",
       "      <td>majority</td>\n",
       "      <td>0-9y</td>\n",
       "      <td>none</td>\n",
       "      <td>poverty</td>\n",
       "      <td>0.357757</td>\n",
       "      <td>False</td>\n",
       "      <td>before 2015</td>\n",
       "      <td>False</td>\n",
       "      <td>False</td>\n",
       "      <td>10238</td>\n",
       "      <td>16000.0</td>\n",
       "      <td>sedan</td>\n",
       "      <td>0</td>\n",
       "      <td>0</td>\n",
       "      <td>0</td>\n",
       "      <td>True</td>\n",
       "    </tr>\n",
       "    <tr>\n",
       "      <th>2</th>\n",
       "      <td>199901</td>\n",
       "      <td>16-25</td>\n",
       "      <td>female</td>\n",
       "      <td>majority</td>\n",
       "      <td>0-9y</td>\n",
       "      <td>high school</td>\n",
       "      <td>working class</td>\n",
       "      <td>0.493146</td>\n",
       "      <td>True</td>\n",
       "      <td>before 2015</td>\n",
       "      <td>False</td>\n",
       "      <td>False</td>\n",
       "      <td>10238</td>\n",
       "      <td>11000.0</td>\n",
       "      <td>sedan</td>\n",
       "      <td>0</td>\n",
       "      <td>0</td>\n",
       "      <td>0</td>\n",
       "      <td>False</td>\n",
       "    </tr>\n",
       "    <tr>\n",
       "      <th>3</th>\n",
       "      <td>478866</td>\n",
       "      <td>16-25</td>\n",
       "      <td>male</td>\n",
       "      <td>majority</td>\n",
       "      <td>0-9y</td>\n",
       "      <td>university</td>\n",
       "      <td>working class</td>\n",
       "      <td>0.206013</td>\n",
       "      <td>True</td>\n",
       "      <td>before 2015</td>\n",
       "      <td>False</td>\n",
       "      <td>True</td>\n",
       "      <td>32765</td>\n",
       "      <td>11000.0</td>\n",
       "      <td>sedan</td>\n",
       "      <td>0</td>\n",
       "      <td>0</td>\n",
       "      <td>0</td>\n",
       "      <td>False</td>\n",
       "    </tr>\n",
       "    <tr>\n",
       "      <th>4</th>\n",
       "      <td>731664</td>\n",
       "      <td>26-39</td>\n",
       "      <td>male</td>\n",
       "      <td>majority</td>\n",
       "      <td>10-19y</td>\n",
       "      <td>none</td>\n",
       "      <td>working class</td>\n",
       "      <td>0.388366</td>\n",
       "      <td>True</td>\n",
       "      <td>before 2015</td>\n",
       "      <td>False</td>\n",
       "      <td>False</td>\n",
       "      <td>32765</td>\n",
       "      <td>12000.0</td>\n",
       "      <td>sedan</td>\n",
       "      <td>2</td>\n",
       "      <td>0</td>\n",
       "      <td>1</td>\n",
       "      <td>True</td>\n",
       "    </tr>\n",
       "  </tbody>\n",
       "</table>\n",
       "</div>"
      ],
      "text/plain": [
       "       id    age  gender      race driving_experience    education  \\\n",
       "0  569520    65+  female  majority               0-9y  high school   \n",
       "1  750365  16-25    male  majority               0-9y         none   \n",
       "2  199901  16-25  female  majority               0-9y  high school   \n",
       "3  478866  16-25    male  majority               0-9y   university   \n",
       "4  731664  26-39    male  majority             10-19y         none   \n",
       "\n",
       "          income  credit_score  vehicle_ownership vehicle_year  married  \\\n",
       "0    upper class      0.629027               True   after 2015    False   \n",
       "1        poverty      0.357757              False  before 2015    False   \n",
       "2  working class      0.493146               True  before 2015    False   \n",
       "3  working class      0.206013               True  before 2015    False   \n",
       "4  working class      0.388366               True  before 2015    False   \n",
       "\n",
       "   children  postal_code  annual_mileage vehicle_type  speeding_violations  \\\n",
       "0      True        10238         12000.0        sedan                    0   \n",
       "1     False        10238         16000.0        sedan                    0   \n",
       "2     False        10238         11000.0        sedan                    0   \n",
       "3      True        32765         11000.0        sedan                    0   \n",
       "4     False        32765         12000.0        sedan                    2   \n",
       "\n",
       "   DUIs  past_accidents  outcome  \n",
       "0     0               0    False  \n",
       "1     0               0     True  \n",
       "2     0               0    False  \n",
       "3     0               0    False  \n",
       "4     0               1     True  "
      ]
     },
     "execution_count": 371,
     "metadata": {},
     "output_type": "execute_result"
    }
   ],
   "source": [
    "#Return first 5 rows of the dataframe\n",
    "df.head()"
   ]
  },
  {
   "cell_type": "code",
   "execution_count": 372,
   "id": "49b37803",
   "metadata": {},
   "outputs": [
    {
     "name": "stdout",
     "output_type": "stream",
     "text": [
      "<class 'pandas.core.frame.DataFrame'>\n",
      "RangeIndex: 10000 entries, 0 to 9999\n",
      "Data columns (total 19 columns):\n",
      " #   Column               Non-Null Count  Dtype  \n",
      "---  ------               --------------  -----  \n",
      " 0   id                   10000 non-null  int64  \n",
      " 1   age                  10000 non-null  object \n",
      " 2   gender               10000 non-null  object \n",
      " 3   race                 10000 non-null  object \n",
      " 4   driving_experience   10000 non-null  object \n",
      " 5   education            10000 non-null  object \n",
      " 6   income               10000 non-null  object \n",
      " 7   credit_score         9018 non-null   float64\n",
      " 8   vehicle_ownership    10000 non-null  bool   \n",
      " 9   vehicle_year         10000 non-null  object \n",
      " 10  married              10000 non-null  bool   \n",
      " 11  children             10000 non-null  bool   \n",
      " 12  postal_code          10000 non-null  int64  \n",
      " 13  annual_mileage       9043 non-null   float64\n",
      " 14  vehicle_type         10000 non-null  object \n",
      " 15  speeding_violations  10000 non-null  int64  \n",
      " 16  DUIs                 10000 non-null  int64  \n",
      " 17  past_accidents       10000 non-null  int64  \n",
      " 18  outcome              10000 non-null  bool   \n",
      "dtypes: bool(4), float64(2), int64(5), object(8)\n",
      "memory usage: 1.2+ MB\n"
     ]
    }
   ],
   "source": [
    "#Return info on dataframe\n",
    "df.info()"
   ]
  },
  {
   "cell_type": "markdown",
   "id": "2b86c498",
   "metadata": {},
   "source": [
    "## Data Preparation"
   ]
  },
  {
   "cell_type": "code",
   "execution_count": 373,
   "id": "d3ca4a4a",
   "metadata": {},
   "outputs": [
    {
     "data": {
      "text/plain": [
       "id                       0\n",
       "age                      0\n",
       "gender                   0\n",
       "race                     0\n",
       "driving_experience       0\n",
       "education                0\n",
       "income                   0\n",
       "credit_score           982\n",
       "vehicle_ownership        0\n",
       "vehicle_year             0\n",
       "married                  0\n",
       "children                 0\n",
       "postal_code              0\n",
       "annual_mileage         957\n",
       "vehicle_type             0\n",
       "speeding_violations      0\n",
       "DUIs                     0\n",
       "past_accidents           0\n",
       "outcome                  0\n",
       "dtype: int64"
      ]
     },
     "execution_count": 373,
     "metadata": {},
     "output_type": "execute_result"
    }
   ],
   "source": [
    "#Display number missing values per column\n",
    "df.isna().sum()"
   ]
  },
  {
   "cell_type": "code",
   "execution_count": 374,
   "id": "f83e8014",
   "metadata": {},
   "outputs": [
    {
     "data": {
      "text/plain": [
       "income\n",
       "middle class     0.523659\n",
       "poverty          0.348331\n",
       "upper class      0.613827\n",
       "working class    0.431929\n",
       "Name: credit_score, dtype: float64"
      ]
     },
     "execution_count": 374,
     "metadata": {},
     "output_type": "execute_result"
    }
   ],
   "source": [
    "#Check the mean credit score for each income group\n",
    "df.groupby(by=\"income\")[\"credit_score\"].mean()\n"
   ]
  },
  {
   "cell_type": "code",
   "execution_count": 375,
   "id": "777541b5",
   "metadata": {},
   "outputs": [],
   "source": [
    "#Create a function to impute missing values based on mean credit score for each income group\n",
    "def impute_creditscore(income_classes):\n",
    "    \"\"\"This function takes a list of income groups and imputes the missing values of each \n",
    "        based on the mean credit score for each group\"\"\"\n",
    "    #iterate through each income group\n",
    "    for income_class in income_classes:      \n",
    "        \n",
    "        #create a subset of dataframe to use as filter\n",
    "        mask = df[\"income\"] == income_class\n",
    "        \n",
    "        #calculate the mean for the income group\n",
    "        mean = df[df[\"income\"] == income_class][\"credit_score\"].mean()\n",
    "        \n",
    "        #fill the missing values with mean of credit score for group\n",
    "        df.loc[mask,\"credit_score\"] = df.loc[mask,'credit_score'].fillna(mean)"
   ]
  },
  {
   "cell_type": "code",
   "execution_count": 379,
   "id": "ffbddbbb",
   "metadata": {},
   "outputs": [],
   "source": [
    "#Apply the function to the dataframe\n",
    "income_groups = [\"poverty\",\"upper class\",\"middle class\",\"working class\"]\n",
    "impute_creditscore(income_groups)"
   ]
  },
  {
   "cell_type": "code",
   "execution_count": 383,
   "id": "bc50fa96",
   "metadata": {},
   "outputs": [
    {
     "data": {
      "text/plain": [
       "driving_experience\n",
       "0-9y      12249.131670\n",
       "10-19y    11791.275168\n",
       "20-29y    11144.181256\n",
       "30y+      10694.968553\n",
       "Name: annual_mileage, dtype: float64"
      ]
     },
     "execution_count": 383,
     "metadata": {},
     "output_type": "execute_result"
    }
   ],
   "source": [
    "#Check the mean annual mileage for the different driving experience groups\n",
    "df.groupby(by=\"driving_experience\")[\"annual_mileage\"].mean()"
   ]
  },
  {
   "cell_type": "code",
   "execution_count": 385,
   "id": "9ca41f5b",
   "metadata": {},
   "outputs": [
    {
     "data": {
      "text/plain": [
       "id                     0\n",
       "age                    0\n",
       "gender                 0\n",
       "race                   0\n",
       "driving_experience     0\n",
       "education              0\n",
       "income                 0\n",
       "credit_score           0\n",
       "vehicle_ownership      0\n",
       "vehicle_year           0\n",
       "married                0\n",
       "children               0\n",
       "postal_code            0\n",
       "annual_mileage         0\n",
       "vehicle_type           0\n",
       "speeding_violations    0\n",
       "DUIs                   0\n",
       "past_accidents         0\n",
       "outcome                0\n",
       "dtype: int64"
      ]
     },
     "execution_count": 385,
     "metadata": {},
     "output_type": "execute_result"
    }
   ],
   "source": [
    "#Calculate mean for annual_mileage column\n",
    "mean_mileage = df[\"annual_mileage\"].mean()\n",
    "\n",
    "#Fill in null values using the column mean\n",
    "df[\"annual_mileage\"].fillna(mileage_mean,inplace=True)\n",
    "\n",
    "#Check for null values\n",
    "df.isna().sum()"
   ]
  },
  {
   "cell_type": "code",
   "execution_count": 158,
   "id": "406ee36b",
   "metadata": {},
   "outputs": [],
   "source": [
    "#Delete the id and postal_code columns\n",
    "df.drop([\"id\",\"postal_code\"],axis=1,inplace=True)"
   ]
  },
  {
   "cell_type": "code",
   "execution_count": 159,
   "id": "c83cd031",
   "metadata": {},
   "outputs": [
    {
     "data": {
      "text/html": [
       "<div>\n",
       "<style scoped>\n",
       "    .dataframe tbody tr th:only-of-type {\n",
       "        vertical-align: middle;\n",
       "    }\n",
       "\n",
       "    .dataframe tbody tr th {\n",
       "        vertical-align: top;\n",
       "    }\n",
       "\n",
       "    .dataframe thead th {\n",
       "        text-align: right;\n",
       "    }\n",
       "</style>\n",
       "<table border=\"1\" class=\"dataframe\">\n",
       "  <thead>\n",
       "    <tr style=\"text-align: right;\">\n",
       "      <th></th>\n",
       "      <th>age</th>\n",
       "      <th>gender</th>\n",
       "      <th>race</th>\n",
       "      <th>driving_experience</th>\n",
       "      <th>education</th>\n",
       "      <th>income</th>\n",
       "      <th>credit_score</th>\n",
       "      <th>vehicle_ownership</th>\n",
       "      <th>vehicle_year</th>\n",
       "      <th>married</th>\n",
       "      <th>children</th>\n",
       "      <th>annual_mileage</th>\n",
       "      <th>vehicle_type</th>\n",
       "      <th>speeding_violations</th>\n",
       "      <th>DUIs</th>\n",
       "      <th>past_accidents</th>\n",
       "      <th>outcome</th>\n",
       "    </tr>\n",
       "  </thead>\n",
       "  <tbody>\n",
       "    <tr>\n",
       "      <th>0</th>\n",
       "      <td>65+</td>\n",
       "      <td>female</td>\n",
       "      <td>majority</td>\n",
       "      <td>0-9y</td>\n",
       "      <td>high school</td>\n",
       "      <td>upper class</td>\n",
       "      <td>0.629027</td>\n",
       "      <td>True</td>\n",
       "      <td>after 2015</td>\n",
       "      <td>False</td>\n",
       "      <td>True</td>\n",
       "      <td>12000.0</td>\n",
       "      <td>sedan</td>\n",
       "      <td>0</td>\n",
       "      <td>0</td>\n",
       "      <td>0</td>\n",
       "      <td>False</td>\n",
       "    </tr>\n",
       "    <tr>\n",
       "      <th>1</th>\n",
       "      <td>16-25</td>\n",
       "      <td>male</td>\n",
       "      <td>majority</td>\n",
       "      <td>0-9y</td>\n",
       "      <td>none</td>\n",
       "      <td>poverty</td>\n",
       "      <td>0.357757</td>\n",
       "      <td>False</td>\n",
       "      <td>before 2015</td>\n",
       "      <td>False</td>\n",
       "      <td>False</td>\n",
       "      <td>16000.0</td>\n",
       "      <td>sedan</td>\n",
       "      <td>0</td>\n",
       "      <td>0</td>\n",
       "      <td>0</td>\n",
       "      <td>True</td>\n",
       "    </tr>\n",
       "    <tr>\n",
       "      <th>2</th>\n",
       "      <td>16-25</td>\n",
       "      <td>female</td>\n",
       "      <td>majority</td>\n",
       "      <td>0-9y</td>\n",
       "      <td>high school</td>\n",
       "      <td>working class</td>\n",
       "      <td>0.493146</td>\n",
       "      <td>True</td>\n",
       "      <td>before 2015</td>\n",
       "      <td>False</td>\n",
       "      <td>False</td>\n",
       "      <td>11000.0</td>\n",
       "      <td>sedan</td>\n",
       "      <td>0</td>\n",
       "      <td>0</td>\n",
       "      <td>0</td>\n",
       "      <td>False</td>\n",
       "    </tr>\n",
       "    <tr>\n",
       "      <th>3</th>\n",
       "      <td>16-25</td>\n",
       "      <td>male</td>\n",
       "      <td>majority</td>\n",
       "      <td>0-9y</td>\n",
       "      <td>university</td>\n",
       "      <td>working class</td>\n",
       "      <td>0.206013</td>\n",
       "      <td>True</td>\n",
       "      <td>before 2015</td>\n",
       "      <td>False</td>\n",
       "      <td>True</td>\n",
       "      <td>11000.0</td>\n",
       "      <td>sedan</td>\n",
       "      <td>0</td>\n",
       "      <td>0</td>\n",
       "      <td>0</td>\n",
       "      <td>False</td>\n",
       "    </tr>\n",
       "    <tr>\n",
       "      <th>4</th>\n",
       "      <td>26-39</td>\n",
       "      <td>male</td>\n",
       "      <td>majority</td>\n",
       "      <td>10-19y</td>\n",
       "      <td>none</td>\n",
       "      <td>working class</td>\n",
       "      <td>0.388366</td>\n",
       "      <td>True</td>\n",
       "      <td>before 2015</td>\n",
       "      <td>False</td>\n",
       "      <td>False</td>\n",
       "      <td>12000.0</td>\n",
       "      <td>sedan</td>\n",
       "      <td>2</td>\n",
       "      <td>0</td>\n",
       "      <td>1</td>\n",
       "      <td>True</td>\n",
       "    </tr>\n",
       "  </tbody>\n",
       "</table>\n",
       "</div>"
      ],
      "text/plain": [
       "     age  gender      race driving_experience    education         income  \\\n",
       "0    65+  female  majority               0-9y  high school    upper class   \n",
       "1  16-25    male  majority               0-9y         none        poverty   \n",
       "2  16-25  female  majority               0-9y  high school  working class   \n",
       "3  16-25    male  majority               0-9y   university  working class   \n",
       "4  26-39    male  majority             10-19y         none  working class   \n",
       "\n",
       "   credit_score  vehicle_ownership vehicle_year  married  children  \\\n",
       "0      0.629027               True   after 2015    False      True   \n",
       "1      0.357757              False  before 2015    False     False   \n",
       "2      0.493146               True  before 2015    False     False   \n",
       "3      0.206013               True  before 2015    False      True   \n",
       "4      0.388366               True  before 2015    False     False   \n",
       "\n",
       "   annual_mileage vehicle_type  speeding_violations  DUIs  past_accidents  \\\n",
       "0         12000.0        sedan                    0     0               0   \n",
       "1         16000.0        sedan                    0     0               0   \n",
       "2         11000.0        sedan                    0     0               0   \n",
       "3         11000.0        sedan                    0     0               0   \n",
       "4         12000.0        sedan                    2     0               1   \n",
       "\n",
       "   outcome  \n",
       "0    False  \n",
       "1     True  \n",
       "2    False  \n",
       "3    False  \n",
       "4     True  "
      ]
     },
     "execution_count": 159,
     "metadata": {},
     "output_type": "execute_result"
    }
   ],
   "source": [
    "df.head()"
   ]
  },
  {
   "cell_type": "markdown",
   "id": "5b871edb",
   "metadata": {},
   "source": [
    "## Analyzing the Data"
   ]
  },
  {
   "cell_type": "markdown",
   "id": "b37568e9",
   "metadata": {},
   "source": [
    "### Univariate Analysis"
   ]
  },
  {
   "cell_type": "markdown",
   "id": "366bf521",
   "metadata": {},
   "source": [
    "### Categorical Unordered"
   ]
  },
  {
   "cell_type": "code",
   "execution_count": 162,
   "id": "e955f2f7",
   "metadata": {},
   "outputs": [
    {
     "data": {
      "text/plain": [
       "female    5010\n",
       "male      4990\n",
       "Name: gender, dtype: int64"
      ]
     },
     "execution_count": 162,
     "metadata": {},
     "output_type": "execute_result"
    }
   ],
   "source": [
    "#Check the count for each category in the \"gender\" column\n",
    "df[\"gender\"].value_counts()"
   ]
  },
  {
   "cell_type": "code",
   "execution_count": 361,
   "id": "c4c998b4",
   "metadata": {},
   "outputs": [
    {
     "data": {
      "image/png": "[encoded data removed]",
      "text/plain": [
       "<Figure size 432x288 with 1 Axes>"
      ]
     },
     "metadata": {
      "needs_background": "light"
     },
     "output_type": "display_data"
    }
   ],
   "source": [
    "#Create a countplot to visualize the count of each category in the gender column.\n",
    "sns.countplot(data=df,x=\"gender\")\n",
    "plt.title(\"Number of Clients per Gender\")\n",
    "plt.ylabel(\"Number of Clients\")\n",
    "plt.show()"
   ]
  },
  {
   "cell_type": "markdown",
   "id": "023fec57",
   "metadata": {},
   "source": [
    "### Categorical ordered"
   ]
  },
  {
   "cell_type": "code",
   "execution_count": 386,
   "id": "7a4fb716",
   "metadata": {},
   "outputs": [
    {
     "data": {
      "image/png": "[encoded data removed]",
      "text/plain": [
       "<Figure size 432x432 with 1 Axes>"
      ]
     },
     "metadata": {},
     "output_type": "display_data"
    }
   ],
   "source": [
    "#Define plot size\n",
    "plt.figure(figsize=[6,6])\n",
    "\n",
    "#Define column to use\n",
    "data = df[\"income\"].value_counts(normalize=True)\n",
    "\n",
    "#Define labels\n",
    "labels = [\"upper class\",\"middle class\",\"poverty\",\"working class\"]\n",
    "\n",
    "#Define color palette\n",
    "colors = sns.color_palette('pastel')\n",
    "\n",
    "#Create pie chart\n",
    "plt.pie(data,labels=labels,colors=colors, autopct='%.0f%%')\n",
    "plt.title(\"Proportion of Clients by Income Group\")\n",
    "plt.show()"
   ]
  },
  {
   "cell_type": "code",
   "execution_count": 387,
   "id": "034f8c4b",
   "metadata": {},
   "outputs": [
    {
     "data": {
      "image/png": "[encoded data removed]",
      "text/plain": [
       "<Figure size 576x360 with 1 Axes>"
      ]
     },
     "metadata": {
      "needs_background": "light"
     },
     "output_type": "display_data"
    }
   ],
   "source": [
    "#Create a countplot to visualize the count of each category in the education column \n",
    "plt.figure(figsize=[8,5])\n",
    "sns.countplot(data=df,x=\"education\",order=[\"university\",\"high school\",\"none\"],color=\"orange\")\n",
    "plt.title(\"Number of Clients per Education Level\")\n",
    "plt.show()"
   ]
  },
  {
   "cell_type": "markdown",
   "id": "958816e4",
   "metadata": {},
   "source": [
    "## Numerical Univariate"
   ]
  },
  {
   "cell_type": "code",
   "execution_count": 193,
   "id": "2144d967",
   "metadata": {},
   "outputs": [
    {
     "data": {
      "text/plain": [
       "count    10000.000000\n",
       "mean         0.515247\n",
       "std          0.134628\n",
       "min          0.053358\n",
       "25%          0.421301\n",
       "50%          0.523659\n",
       "75%          0.613827\n",
       "max          0.960819\n",
       "Name: credit_score, dtype: float64"
      ]
     },
     "execution_count": 193,
     "metadata": {},
     "output_type": "execute_result"
    }
   ],
   "source": [
    "#Return summary statistics for the \"credit_score\" column\n",
    "df[\"credit_score\"].describe()"
   ]
  },
  {
   "cell_type": "code",
   "execution_count": 388,
   "id": "21244271",
   "metadata": {},
   "outputs": [
    {
     "data": {
      "image/png": "[encoded data removed]",
      "text/plain": [
       "<Figure size 576x360 with 1 Axes>"
      ]
     },
     "metadata": {
      "needs_background": "light"
     },
     "output_type": "display_data"
    }
   ],
   "source": [
    "#Plot a histogram using the \"credit_score\" column\n",
    "plt.figure(figsize=[8,5])\n",
    "sns.histplot(data=df,x=\"credit_score\",bins=40).set(title=\"Distribution of Credit Scores\",ylabel=\"Number of Clients\")\n",
    "plt.show()"
   ]
  },
  {
   "cell_type": "code",
   "execution_count": 356,
   "id": "f13ea6d1",
   "metadata": {},
   "outputs": [
    {
     "data": {
      "image/png": "[encoded data removed]",
      "text/plain": [
       "<Figure size 576x360 with 1 Axes>"
      ]
     },
     "metadata": {
      "needs_background": "light"
     },
     "output_type": "display_data"
    }
   ],
   "source": [
    "#Plot a histogram using the \"annual_mileage\" column\n",
    "plt.figure(figsize=[8,5])\n",
    "sns.histplot(data=df,x=\"annual_mileage\",bins=20,kde=True).set(title=\"Distribution of Annual Mileage\",ylabel=\"Number of clients\")\n",
    "plt.show()"
   ]
  },
  {
   "cell_type": "markdown",
   "id": "c3f9f929",
   "metadata": {},
   "source": [
    "## Bivariate Analysis"
   ]
  },
  {
   "cell_type": "markdown",
   "id": "4e147633",
   "metadata": {},
   "source": [
    "### Numerical-Numerical"
   ]
  },
  {
   "cell_type": "code",
   "execution_count": 296,
   "id": "e0cae725",
   "metadata": {},
   "outputs": [
    {
     "data": {
      "image/png": "[encoded data removed]",
      "text/plain": [
       "<Figure size 576x360 with 1 Axes>"
      ]
     },
     "metadata": {
      "needs_background": "light"
     },
     "output_type": "display_data"
    }
   ],
   "source": [
    "#Create a scatter plot to. show relationship. between \"annual_mileage\" and \"speeding_violations\"\n",
    "plt.figure(figsize=[8,5])\n",
    "plt.scatter(data=df,x=\"annual_mileage\",y=\"speeding_violations\")\n",
    "plt.title(\"Annual Mileage vrs Speeding Violations\")\n",
    "plt.ylabel(\"Speeding Violations\")\n",
    "plt.xlabel(\"Annual Mileage\")\n",
    "plt.show()"
   ]
  },
  {
   "cell_type": "code",
   "execution_count": 200,
   "id": "b6bc4433",
   "metadata": {},
   "outputs": [
    {
     "data": {
      "text/html": [
       "<div>\n",
       "<style scoped>\n",
       "    .dataframe tbody tr th:only-of-type {\n",
       "        vertical-align: middle;\n",
       "    }\n",
       "\n",
       "    .dataframe tbody tr th {\n",
       "        vertical-align: top;\n",
       "    }\n",
       "\n",
       "    .dataframe thead th {\n",
       "        text-align: right;\n",
       "    }\n",
       "</style>\n",
       "<table border=\"1\" class=\"dataframe\">\n",
       "  <thead>\n",
       "    <tr style=\"text-align: right;\">\n",
       "      <th></th>\n",
       "      <th>speeding_violations</th>\n",
       "      <th>DUIs</th>\n",
       "      <th>past_accidents</th>\n",
       "    </tr>\n",
       "  </thead>\n",
       "  <tbody>\n",
       "    <tr>\n",
       "      <th>speeding_violations</th>\n",
       "      <td>1.000000</td>\n",
       "      <td>0.359838</td>\n",
       "      <td>0.443074</td>\n",
       "    </tr>\n",
       "    <tr>\n",
       "      <th>DUIs</th>\n",
       "      <td>0.359838</td>\n",
       "      <td>1.000000</td>\n",
       "      <td>0.259359</td>\n",
       "    </tr>\n",
       "    <tr>\n",
       "      <th>past_accidents</th>\n",
       "      <td>0.443074</td>\n",
       "      <td>0.259359</td>\n",
       "      <td>1.000000</td>\n",
       "    </tr>\n",
       "  </tbody>\n",
       "</table>\n",
       "</div>"
      ],
      "text/plain": [
       "                     speeding_violations      DUIs  past_accidents\n",
       "speeding_violations             1.000000  0.359838        0.443074\n",
       "DUIs                            0.359838  1.000000        0.259359\n",
       "past_accidents                  0.443074  0.259359        1.000000"
      ]
     },
     "execution_count": 200,
     "metadata": {},
     "output_type": "execute_result"
    }
   ],
   "source": [
    "#Create a correlation matrix to show relationship between select variables\n",
    "corr_matrix = df[[\"speeding_violations\",\"DUIs\",\"past_accidents\"]].corr()\n",
    "corr_matrix"
   ]
  },
  {
   "cell_type": "code",
   "execution_count": 288,
   "id": "d0cc0ff4",
   "metadata": {},
   "outputs": [
    {
     "data": {
      "image/png": "[encoded data removed]",
      "text/plain": [
       "<Figure size 576x360 with 2 Axes>"
      ]
     },
     "metadata": {
      "needs_background": "light"
     },
     "output_type": "display_data"
    }
   ],
   "source": [
    "#Create a heatmap to visualize correlation\n",
    "plt.figure(figsize=[8,5])\n",
    "sns.heatmap(corr_matrix,annot=True,cmap='Reds')\n",
    "plt.title(\"Correlation between Selected Variables\")\n",
    "plt.show()"
   ]
  },
  {
   "cell_type": "markdown",
   "id": "4d99c60c",
   "metadata": {},
   "source": [
    "### Numerical-Categorical"
   ]
  },
  {
   "cell_type": "code",
   "execution_count": 394,
   "id": "b92b4a02",
   "metadata": {},
   "outputs": [
    {
     "data": {
      "text/plain": [
       "outcome\n",
       "False    11375.549735\n",
       "True     12401.574221\n",
       "Name: annual_mileage, dtype: float64"
      ]
     },
     "execution_count": 394,
     "metadata": {},
     "output_type": "execute_result"
    }
   ],
   "source": [
    "#Check the mean annual mileage per category in the outcome column\n",
    "df.groupby('outcome')['annual_mileage'].mean()"
   ]
  },
  {
   "cell_type": "code",
   "execution_count": 214,
   "id": "3a64f6d1",
   "metadata": {},
   "outputs": [
    {
     "data": {
      "text/plain": [
       "outcome\n",
       "False    11697.003207\n",
       "True     12000.000000\n",
       "Name: annual_mileage, dtype: float64"
      ]
     },
     "execution_count": 214,
     "metadata": {},
     "output_type": "execute_result"
    }
   ],
   "source": [
    "df.groupby('outcome')['annual_mileage'].median()"
   ]
  },
  {
   "cell_type": "code",
   "execution_count": 395,
   "id": "c7e534e7",
   "metadata": {},
   "outputs": [
    {
     "data": {
      "image/png": "[encoded data removed]",
      "text/plain": [
       "<Figure size 576x360 with 1 Axes>"
      ]
     },
     "metadata": {
      "needs_background": "light"
     },
     "output_type": "display_data"
    }
   ],
   "source": [
    "#Plot two boxplots to compare dispersion\n",
    "plt.figure(figsize=[8,5])\n",
    "sns.boxplot(data=df,x='outcome', y='annual_mileage')\n",
    "plt.title(\"Distribution of Annual Mileage per Outcome\")\n",
    "plt.show()"
   ]
  },
  {
   "cell_type": "code",
   "execution_count": 396,
   "id": "42d1b407",
   "metadata": {},
   "outputs": [
    {
     "data": {
      "image/png": "[encoded data removed]",
      "text/plain": [
       "<Figure size 576x360 with 1 Axes>"
      ]
     },
     "metadata": {
      "needs_background": "light"
     },
     "output_type": "display_data"
    }
   ],
   "source": [
    "#Create histograms to compare distribution \n",
    "plt.figure(figsize=[8,5])\n",
    "sns.histplot(df,x=\"credit_score\",hue=\"outcome\",element=\"step\",stat=\"density\")\n",
    "plt.title(\"Distribution of Credit Score per Outcome\")\n",
    "plt.show()"
   ]
  },
  {
   "cell_type": "markdown",
   "id": "210adfd1",
   "metadata": {},
   "source": [
    "### Categorical-Categorical"
   ]
  },
  {
   "cell_type": "code",
   "execution_count": 397,
   "id": "8288470e",
   "metadata": {},
   "outputs": [
    {
     "data": {
      "text/plain": [
       "0    6867\n",
       "1    3133\n",
       "Name: claim_rate, dtype: int64"
      ]
     },
     "execution_count": 397,
     "metadata": {},
     "output_type": "execute_result"
    }
   ],
   "source": [
    "#Create a new \"claim rate\" column\n",
    "df['claim_rate'] = np.where(df['outcome']==True,1,0)\n",
    "df['claim_rate'].value_counts()"
   ]
  },
  {
   "cell_type": "code",
   "execution_count": 404,
   "id": "ac58548f",
   "metadata": {},
   "outputs": [
    {
     "data": {
      "image/png": "[encoded data removed]",
      "text/plain": [
       "<Figure size 576x360 with 1 Axes>"
      ]
     },
     "metadata": {
      "needs_background": "light"
     },
     "output_type": "display_data"
    }
   ],
   "source": [
    "#Plot the average claim rate per age group\n",
    "plt.figure(figsize=[8,5])\n",
    "df.groupby('age')['claim_rate'].mean().plot(kind=\"bar\")\n",
    "plt.title(\"Claim Rate by Age Group\")\n",
    "plt.xticks(rotation=0)\n",
    "plt.show()"
   ]
  },
  {
   "cell_type": "code",
   "execution_count": 403,
   "id": "c4ac6211",
   "metadata": {},
   "outputs": [
    {
     "data": {
      "image/png": "[encoded data removed]",
      "text/plain": [
       "<Figure size 576x360 with 1 Axes>"
      ]
     },
     "metadata": {
      "needs_background": "light"
     },
     "output_type": "display_data"
    }
   ],
   "source": [
    "#Plot the average claim rate per vehicle year category\n",
    "plt.figure(figsize=[8,5])\n",
    "df.groupby('vehicle_year')['claim_rate'].mean().plot(kind=\"bar\")\n",
    "plt.title(\"Claim Rate by Vehicle Year\")\n",
    "plt.xticks(rotation=0)\n",
    "plt.show()"
   ]
  },
  {
   "cell_type": "code",
   "execution_count": 360,
   "id": "3f78542c",
   "metadata": {},
   "outputs": [
    {
     "data": {
      "image/png": "[encoded data removed]",
      "text/plain": [
       "<Figure size 864x288 with 2 Axes>"
      ]
     },
     "metadata": {
      "needs_background": "light"
     },
     "output_type": "display_data"
    }
   ],
   "source": [
    "#Create an empty figure object\n",
    "fig, axes = plt.subplots(1,2,figsize=(12,4))\n",
    "\n",
    "#Plot two probability graphs for education and income\n",
    "for i,col in enumerate([\"education\",\"income\"]):\n",
    "    sns.histplot(df, ax=axes[i],x=col, hue=\"outcome\",stat=\"probability\", multiple=\"fill\", shrink=.8,alpha=0.7)\n",
    "    axes[i].set(title=\"Claim Probability by \"+ col,ylabel=\" \",xlabel=\" \")"
   ]
  },
  {
   "cell_type": "markdown",
   "id": "c1acb79d",
   "metadata": {},
   "source": [
    "## Multivariate Analysis"
   ]
  },
  {
   "cell_type": "code",
   "execution_count": 408,
   "id": "d743f39b",
   "metadata": {},
   "outputs": [
    {
     "data": {
      "text/html": [
       "<div>\n",
       "<style scoped>\n",
       "    .dataframe tbody tr th:only-of-type {\n",
       "        vertical-align: middle;\n",
       "    }\n",
       "\n",
       "    .dataframe tbody tr th {\n",
       "        vertical-align: top;\n",
       "    }\n",
       "\n",
       "    .dataframe thead th {\n",
       "        text-align: right;\n",
       "    }\n",
       "</style>\n",
       "<table border=\"1\" class=\"dataframe\">\n",
       "  <thead>\n",
       "    <tr style=\"text-align: right;\">\n",
       "      <th>income</th>\n",
       "      <th>middle class</th>\n",
       "      <th>poverty</th>\n",
       "      <th>upper class</th>\n",
       "      <th>working class</th>\n",
       "    </tr>\n",
       "    <tr>\n",
       "      <th>education</th>\n",
       "      <th></th>\n",
       "      <th></th>\n",
       "      <th></th>\n",
       "      <th></th>\n",
       "    </tr>\n",
       "  </thead>\n",
       "  <tbody>\n",
       "    <tr>\n",
       "      <th>high school</th>\n",
       "      <td>0.255396</td>\n",
       "      <td>0.671662</td>\n",
       "      <td>0.118347</td>\n",
       "      <td>0.450736</td>\n",
       "    </tr>\n",
       "    <tr>\n",
       "      <th>none</th>\n",
       "      <td>0.209790</td>\n",
       "      <td>0.640895</td>\n",
       "      <td>0.098592</td>\n",
       "      <td>0.394841</td>\n",
       "    </tr>\n",
       "    <tr>\n",
       "      <th>university</th>\n",
       "      <td>0.335135</td>\n",
       "      <td>0.649485</td>\n",
       "      <td>0.143167</td>\n",
       "      <td>0.550769</td>\n",
       "    </tr>\n",
       "  </tbody>\n",
       "</table>\n",
       "</div>"
      ],
      "text/plain": [
       "income       middle class   poverty  upper class  working class\n",
       "education                                                      \n",
       "high school      0.255396  0.671662     0.118347       0.450736\n",
       "none             0.209790  0.640895     0.098592       0.394841\n",
       "university       0.335135  0.649485     0.143167       0.550769"
      ]
     },
     "execution_count": 408,
     "metadata": {},
     "output_type": "execute_result"
    }
   ],
   "source": [
    "#Create a pivot table for education and income with average claim rate as values\n",
    "edu_income = pd.pivot_table(data=df,index='education',columns='income',values='claim_rate',aggfunc='mean')\n",
    "edu_income"
   ]
  },
  {
   "cell_type": "code",
   "execution_count": 409,
   "id": "01121a0d",
   "metadata": {},
   "outputs": [
    {
     "data": {
      "image/png": "[encoded data removed]",
      "text/plain": [
       "<Figure size 576x360 with 2 Axes>"
      ]
     },
     "metadata": {
      "needs_background": "light"
     },
     "output_type": "display_data"
    }
   ],
   "source": [
    "#Create a heatmap to visualize income, education and claim rate\n",
    "plt.figure(figsize=[8,5])\n",
    "sns.heatmap(edu_income,annot=True,cmap='coolwarm',center=0.117)\n",
    "plt.title(\"Education Level and Income Class\")\n",
    "plt.show()"
   ]
  },
  {
   "cell_type": "code",
   "execution_count": 410,
   "id": "3b8e113a",
   "metadata": {},
   "outputs": [
    {
     "data": {
      "image/png": "[encoded data removed]",
      "text/plain": [
       "<Figure size 576x360 with 2 Axes>"
      ]
     },
     "metadata": {
      "needs_background": "light"
     },
     "output_type": "display_data"
    }
   ],
   "source": [
    "#Create pivot table for driving experience and marital status with average claim rate as values\n",
    "driv_married = pd.pivot_table(data=df,index='driving_experience',columns='married',values='claim_rate')\n",
    "\n",
    "#Create a heatmap to visualize driving experience, marital status and claim rate\n",
    "plt.figure(figsize=[8,5])\n",
    "sns.heatmap(driv_married,annot=True,cmap='coolwarm', center=0.117)\n",
    "plt.title(\"Driving Experience and Marital Status\")\n",
    "plt.show()"
   ]
  },
  {
   "cell_type": "code",
   "execution_count": 411,
   "id": "47306ece",
   "metadata": {},
   "outputs": [
    {
     "data": {
      "image/png": "[encoded data removed]",
      "text/plain": [
       "<Figure size 576x360 with 2 Axes>"
      ]
     },
     "metadata": {
      "needs_background": "light"
     },
     "output_type": "display_data"
    }
   ],
   "source": [
    "#Create pivot table for gender and family status with average claim rate as values\n",
    "gender_children = pd.pivot_table(data=df,index='gender',columns='children',values='claim_rate')\n",
    "\n",
    "#Create a heatmap to visualize gender, family status and claim rate\n",
    "plt.figure(figsize=[8,5])\n",
    "sns.heatmap(gender_children,annot=True,cmap='coolwarm', center=0.117)\n",
    "plt.title(\"Gender and Family Status\")\n",
    "plt.show()\n"
   ]
  }
 ],
 "metadata": {
  "kernelspec": {
   "display_name": "Python 3 (ipykernel)",
   "language": "python",
   "name": "python3"
  },
  "language_info": {
   "codemirror_mode": {
    "name": "ipython",
    "version": 3
   },
   "file_extension": ".py",
   "mimetype": "text/x-python",
   "name": "python",
   "nbconvert_exporter": "python",
   "pygments_lexer": "ipython3",
   "version": "3.8.12"
  }
 },
 "nbformat": 4,
 "nbformat_minor": 5
}
