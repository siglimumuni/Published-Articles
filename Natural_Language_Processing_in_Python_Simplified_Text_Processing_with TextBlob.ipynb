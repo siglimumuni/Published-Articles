{
  "nbformat": 4,
  "nbformat_minor": 0,
  "metadata": {
    "colab": {
      "name": "Natural Language Processing in Python: Simplified Text Processing with TextBlob.ipynb",
      "provenance": [],
      "authorship_tag": "ABX9TyMduYvXCUVnPJ8HJV6lWe9e",
      "include_colab_link": true
    },
    "kernelspec": {
      "name": "python3",
      "display_name": "Python 3"
    },
    "language_info": {
      "name": "python"
    }
  },
  "cells": [
    {
      "cell_type": "markdown",
      "metadata": {
        "id": "view-in-github",
        "colab_type": "text"
      },
      "source": [
        "<a href=\"https://colab.research.google.com/github/siglimumuni/Published-Articles/blob/main/Natural_Language_Processing_in_Python_Simplified_Text_Processing_with%C2%A0TextBlob.ipynb\" target=\"_parent\"><img src=\"https://colab.research.google.com/assets/colab-badge.svg\" alt=\"Open In Colab\"/></a>"
      ]
    },
    {
      "cell_type": "code",
      "execution_count": null,
      "metadata": {
        "id": "kjfyt5P_jd-s"
      },
      "outputs": [],
      "source": [
        "#import relevant libraries\n",
        "from textblob import TextBlob"
      ]
    },
    {
      "cell_type": "code",
      "source": [
        "#sentence tokenization\n",
        "text = TextBlob(\"I must not fear. Fear is the mind-killer. \\\n",
        "                 Fear is the little-death that brings total obliteration. \\\n",
        "                 I will face my fear. I will permit it to pass over me and through me. \\\n",
        "                 And when it has gone past I will turn the inner eye to see its path. \\\n",
        "                 Where the fear has gone there will be nothing. Only I will remain.\")\n",
        "text.sentences"
      ],
      "metadata": {
        "colab": {
          "base_uri": "https://localhost:8080/"
        },
        "id": "pJdNAHUXmbM4",
        "outputId": "c45f1ffa-62f1-4014-cfa0-c20ed4bc7c18"
      },
      "execution_count": null,
      "outputs": [
        {
          "output_type": "execute_result",
          "data": {
            "text/plain": [
              "[Sentence(\"I must not fear.\"),\n",
              " Sentence(\"Fear is the mind-killer.\"),\n",
              " Sentence(\"Fear is the little-death that brings total obliteration.\"),\n",
              " Sentence(\"I will face my fear.\"),\n",
              " Sentence(\"I will permit it to pass over me and through me.\"),\n",
              " Sentence(\"And when it has gone past I will turn the inner eye to see its path.\"),\n",
              " Sentence(\"Where the fear has gone there will be nothing.\"),\n",
              " Sentence(\"Only I will remain.\")]"
            ]
          },
          "metadata": {},
          "execution_count": 5
        }
      ]
    },
    {
      "cell_type": "code",
      "source": [
        "#word tokenization\n",
        "text = TextBlob(\"It is only with the heart that one can see rightly; what is essential is invisible to the eye.\")\n",
        "\n",
        "text.words"
      ],
      "metadata": {
        "colab": {
          "base_uri": "https://localhost:8080/"
        },
        "id": "qXYebMId4LM8",
        "outputId": "1b44464b-a69e-403e-da1a-6d803526ebbc"
      },
      "execution_count": null,
      "outputs": [
        {
          "output_type": "execute_result",
          "data": {
            "text/plain": [
              "WordList(['It', 'is', 'only', 'with', 'the', 'heart', 'that', 'one', 'can', 'see', 'rightly', 'what', 'is', 'essential', 'is', 'invisible', 'to', 'the', 'eye'])"
            ]
          },
          "metadata": {},
          "execution_count": 6
        }
      ]
    },
    {
      "cell_type": "code",
      "source": [
        "#POS tagging\n",
        "text = TextBlob(\"What happens to a dream deferred?\\\n",
        "                Does it dry up\\\n",
        "                like a raisin in the sun?\")\n",
        "\n",
        "text.tags"
      ],
      "metadata": {
        "colab": {
          "base_uri": "https://localhost:8080/"
        },
        "id": "dlUL3m4Hfm9j",
        "outputId": "4c1d6352-4f9e-4fc9-97e1-c4029b1a9b88"
      },
      "execution_count": null,
      "outputs": [
        {
          "output_type": "execute_result",
          "data": {
            "text/plain": [
              "[('What', 'WP'),\n",
              " ('happens', 'VBZ'),\n",
              " ('to', 'TO'),\n",
              " ('a', 'DT'),\n",
              " ('dream', 'NN'),\n",
              " ('deferred', 'VBN'),\n",
              " ('Does', 'VBZ'),\n",
              " ('it', 'PRP'),\n",
              " ('dry', 'VB'),\n",
              " ('up', 'RP'),\n",
              " ('like', 'IN'),\n",
              " ('a', 'DT'),\n",
              " ('raisin', 'NN'),\n",
              " ('in', 'IN'),\n",
              " ('the', 'DT'),\n",
              " ('sun', 'NN')]"
            ]
          },
          "metadata": {},
          "execution_count": 7
        }
      ]
    },
    {
      "cell_type": "code",
      "source": [
        "#lemmatization\n",
        "from textblob import Word\n",
        "\n",
        "wordlist = ['went','teaches','flew','eating','learned']\n",
        "for word in wordlist:\n",
        "  w = Word(word)\n",
        "  print(w.lemmatize('v'))"
      ],
      "metadata": {
        "colab": {
          "base_uri": "https://localhost:8080/"
        },
        "id": "xmBkcZ7XZZI7",
        "outputId": "aaafef2e-816a-4c68-8c0a-eb729573990b"
      },
      "execution_count": 2,
      "outputs": [
        {
          "output_type": "stream",
          "name": "stdout",
          "text": [
            "go\n",
            "teach\n",
            "fly\n",
            "eat\n",
            "learn\n"
          ]
        }
      ]
    },
    {
      "cell_type": "code",
      "source": [
        "#word frequency\n",
        "text = TextBlob(\"It was the best of times, it was the worst of times, it was the age of wisdom,\\\n",
        "        it was the age of foolishness, it was the epoch of belief, it was the epoch of incredulity,\\\n",
        "        it was the season of Light, it was the season of Darkness, it was the spring of hope,\\\n",
        "        it was the winter of despair, we had everything before us, we had nothing before us,\\\n",
        "        we were all going direct to Heaven, we were all going direct the other way — in short,\\\n",
        "        the period was so far like the present period, that some of its noisiest authorities insisted on its being received,\\\n",
        "        for good or for evil, in the superlative degree of comparison only.\")\n",
        "\n",
        "text.word_counts"
      ],
      "metadata": {
        "colab": {
          "base_uri": "https://localhost:8080/"
        },
        "id": "mEqNPvoPaTWD",
        "outputId": "62542ff8-1345-44ec-83d4-89e25f2b83af"
      },
      "execution_count": 2,
      "outputs": [
        {
          "output_type": "execute_result",
          "data": {
            "text/plain": [
              "defaultdict(int,\n",
              "            {'it': 10,\n",
              "             'was': 11,\n",
              "             'the': 14,\n",
              "             'best': 1,\n",
              "             'of': 12,\n",
              "             'times': 2,\n",
              "             'worst': 1,\n",
              "             'age': 2,\n",
              "             'wisdom': 1,\n",
              "             'foolishness': 1,\n",
              "             'epoch': 2,\n",
              "             'belief': 1,\n",
              "             'incredulity': 1,\n",
              "             'season': 2,\n",
              "             'light': 1,\n",
              "             'darkness': 1,\n",
              "             'spring': 1,\n",
              "             'hope': 1,\n",
              "             'winter': 1,\n",
              "             'despair': 1,\n",
              "             'we': 4,\n",
              "             'had': 2,\n",
              "             'everything': 1,\n",
              "             'before': 2,\n",
              "             'us': 2,\n",
              "             'nothing': 1,\n",
              "             'were': 2,\n",
              "             'all': 2,\n",
              "             'going': 2,\n",
              "             'direct': 2,\n",
              "             'to': 1,\n",
              "             'heaven': 1,\n",
              "             'other': 1,\n",
              "             'way': 1,\n",
              "             '—': 1,\n",
              "             'in': 2,\n",
              "             'short': 1,\n",
              "             'period': 2,\n",
              "             'so': 1,\n",
              "             'far': 1,\n",
              "             'like': 1,\n",
              "             'present': 1,\n",
              "             'that': 1,\n",
              "             'some': 1,\n",
              "             'its': 2,\n",
              "             'noisiest': 1,\n",
              "             'authorities': 1,\n",
              "             'insisted': 1,\n",
              "             'on': 1,\n",
              "             'being': 1,\n",
              "             'received': 1,\n",
              "             'for': 2,\n",
              "             'good': 1,\n",
              "             'or': 1,\n",
              "             'evil': 1,\n",
              "             'superlative': 1,\n",
              "             'degree': 1,\n",
              "             'comparison': 1,\n",
              "             'only': 1})"
            ]
          },
          "metadata": {},
          "execution_count": 2
        }
      ]
    },
    {
      "cell_type": "code",
      "source": [
        "import pandas as pd\n",
        "\n",
        "#convert to dataframe\n",
        "word_counts = pd.DataFrame.from_dict(text.word_counts,orient='index',columns=['Count'])\n",
        "\n",
        "#plot 20 most common words\n",
        "word_counts['Count'].sort_values(ascending=False).head(20).plot(kind='bar',title='Top 20 Most Frequent Words')"
      ],
      "metadata": {
        "colab": {
          "base_uri": "https://localhost:8080/",
          "height": 324
        },
        "id": "xpzHu77bbUKQ",
        "outputId": "29c71102-ec4e-492f-a73a-5a783cdd4b18"
      },
      "execution_count": 18,
      "outputs": [
        {
          "output_type": "execute_result",
          "data": {
            "text/plain": [
              "<matplotlib.axes._subplots.AxesSubplot at 0x7f552798d190>"
            ]
          },
          "metadata": {},
          "execution_count": 18
        },
        {
          "output_type": "display_data",
          "data": {
            "text/plain": [
              "<Figure size 432x288 with 1 Axes>"
            ],
            "image/png": "[encoded data removed]"
          },
          "metadata": {
            "needs_background": "light"
          }
        }
      ]
    },
    {
      "cell_type": "code",
      "source": [
        "from textblob import Word\n",
        "\n",
        "#word definition\n",
        "word = Word(\"innuendo\")\n",
        "\n",
        "word.definitions"
      ],
      "metadata": {
        "colab": {
          "base_uri": "https://localhost:8080/"
        },
        "id": "BIeyK5Y1R0ec",
        "outputId": "1774decc-c994-4e6d-f4b9-15636fa3d88d"
      },
      "execution_count": 3,
      "outputs": [
        {
          "output_type": "execute_result",
          "data": {
            "text/plain": [
              "['an indirect (and usually malicious) implication']"
            ]
          },
          "metadata": {},
          "execution_count": 3
        }
      ]
    },
    {
      "cell_type": "code",
      "source": [
        "#spell check\n",
        "text = TextBlob(\"Begining tomorow, he plans to mark every occurence in his calandar\")\n",
        "\n",
        "text.correct()"
      ],
      "metadata": {
        "colab": {
          "base_uri": "https://localhost:8080/"
        },
        "id": "sge5YjC8Ts2f",
        "outputId": "6bc5251c-cc86-414b-8f79-19febf7c8962"
      },
      "execution_count": 9,
      "outputs": [
        {
          "output_type": "execute_result",
          "data": {
            "text/plain": [
              "TextBlob(\"Beginning tomorrow, he plans to mark every occurrence in his calendar\")"
            ]
          },
          "metadata": {},
          "execution_count": 9
        }
      ]
    },
    {
      "cell_type": "code",
      "source": [
        "#spell check individual words\n",
        "from textblob import Word\n",
        "word = Word(\"peice\")\n",
        "\n",
        "word.spellcheck()"
      ],
      "metadata": {
        "colab": {
          "base_uri": "https://localhost:8080/"
        },
        "id": "xdydoO9fWnTS",
        "outputId": "4bb5fbcc-9996-4bc5-f2fb-31d517b0dfef"
      },
      "execution_count": 11,
      "outputs": [
        {
          "output_type": "execute_result",
          "data": {
            "text/plain": [
              "[('peace', 0.6735905044510386),\n",
              " ('piece', 0.18100890207715134),\n",
              " ('price', 0.13353115727002968),\n",
              " ('pence', 0.011869436201780416)]"
            ]
          },
          "metadata": {},
          "execution_count": 11
        }
      ]
    },
    {
      "cell_type": "code",
      "source": [
        "#sentiment analysis\n",
        "text = TextBlob(\"Isn’t it nice to think that tomorrow is a new day with no mistakes in it yet?\")\n",
        "\n",
        "text.sentiment"
      ],
      "metadata": {
        "colab": {
          "base_uri": "https://localhost:8080/"
        },
        "id": "g5SO858RZNLF",
        "outputId": "c4eaa2dd-57ee-4cda-f5f9-cbb1686e614b"
      },
      "execution_count": 12,
      "outputs": [
        {
          "output_type": "execute_result",
          "data": {
            "text/plain": [
              "Sentiment(polarity=0.36818181818181817, subjectivity=0.7272727272727273)"
            ]
          },
          "metadata": {},
          "execution_count": 12
        }
      ]
    }
  ]
}