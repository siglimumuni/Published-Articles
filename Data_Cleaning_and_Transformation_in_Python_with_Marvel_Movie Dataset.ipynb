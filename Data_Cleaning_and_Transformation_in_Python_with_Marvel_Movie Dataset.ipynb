{
  "nbformat": 4,
  "nbformat_minor": 0,
  "metadata": {
    "colab": {
      "name": "Data Cleaning and Transformation in Python with Marvel Movie Dataset.ipynb",
      "provenance": [],
      "collapsed_sections": [],
      "authorship_tag": "ABX9TyOCfU20XaVWhPZ8DvnW/9wv",
      "include_colab_link": true
    },
    "kernelspec": {
      "name": "python3",
      "display_name": "Python 3"
    },
    "language_info": {
      "name": "python"
    }
  },
  "cells": [
    {
      "cell_type": "markdown",
      "metadata": {
        "id": "view-in-github",
        "colab_type": "text"
      },
      "source": [
        "<a href=\"https://colab.research.google.com/github/siglimumuni/Published-Articles/blob/main/Data_Cleaning_and_Transformation_in_Python_with_Marvel_Movie%C2%A0Dataset.ipynb\" target=\"_parent\"><img src=\"https://colab.research.google.com/assets/colab-badge.svg\" alt=\"Open In Colab\"/></a>"
      ]
    },
    {
      "cell_type": "markdown",
      "source": [
        "# Data Cleaning and Transformation in Python with Marvel Movie Dataset"
      ],
      "metadata": {
        "id": "k2-FJx83324W"
      }
    },
    {
      "cell_type": "markdown",
      "source": [
        "##Loading the data\n"
      ],
      "metadata": {
        "id": "VYmZZuVepKWR"
      }
    },
    {
      "cell_type": "code",
      "execution_count": 1,
      "metadata": {
        "colab": {
          "base_uri": "https://localhost:8080/",
          "height": 669
        },
        "id": "R9WDdVe39IeC",
        "outputId": "d33dce13-fc60-46ae-b6c6-a883e7b2d12d"
      },
      "outputs": [
        {
          "output_type": "execute_result",
          "data": {
            "text/plain": [
              "             Title         Directed by                 Written by  \\\n",
              "0  Howard the Duck       Willard Huyck  Willard Huyck Gloria Katz   \n",
              "1            Blade  Stephen Norrington             David S. Goyer   \n",
              "2            X-Men        Bryan Singer                        NaN   \n",
              "3         Blade II  Guillermo del Toro             David S. Goyer   \n",
              "4       Spider-Man           Sam Raimi                        NaN   \n",
              "\n",
              "                              Based on  \\\n",
              "0     Howard the Duck by  Steve Gerber   \n",
              "1    Blade by  Marv Wolfman Gene Colan   \n",
              "2        X-Men by  Stan Lee Jack Kirby   \n",
              "3    Blade by  Marv Wolfman Gene Colan   \n",
              "4  Spider-Man by  Stan Lee Steve Ditko   \n",
              "\n",
              "                                         Produced by  \\\n",
              "0                                        Gloria Katz   \n",
              "1  \\n Peter Frankfurt \\n Wesley Snipes \\n Robert ...   \n",
              "2         \\n Lauren Shuler Donner \\n Ralph Winter \\n   \n",
              "3  \\n Peter Frankfurt \\n Wesley Snipes \\n Patrick...   \n",
              "4                    \\n Laura Ziskin \\n Ian Bryce \\n   \n",
              "\n",
              "                                            Starring       Cinematography  \\\n",
              "0  \\n Lea Thompson \\n Jeffrey Jones \\n Tim Robbin...     Richard H. Kline   \n",
              "1  \\n Wesley Snipes \\n Stephen Dorff \\n Kris Kris...    Theo van de Sande   \n",
              "2  \\n Patrick Stewart \\n Hugh Jackman \\n Ian McKe...  Newton Thomas Sigel   \n",
              "3  \\n Wesley Snipes \\n Kris Kristofferson \\n Ron ...    Gabriel Beristain   \n",
              "4  \\n Tobey Maguire \\n Willem Dafoe \\n Kirsten Du...          Don Burgess   \n",
              "\n",
              "                                           Edited by  \\\n",
              "0                   Michael Chandler Sidney Wolinsky   \n",
              "1                                        Paul Rubell   \n",
              "2  \\n Steven Rosenblum \\n Kevin Stitt \\n John Wri...   \n",
              "3                                     Peter Amundson   \n",
              "4                \\n Bob Murawski \\n Arthur Coburn \\n   \n",
              "\n",
              "                                            Music by Production company  \\\n",
              "0  \\n John Barry \\n Sylvester Levay \\n Songs: \\n ...          Lucasfilm   \n",
              "1                                         Mark Isham                NaN   \n",
              "2                                      Michael Kamen                NaN   \n",
              "3                                     Marco Beltrami                NaN   \n",
              "4                                       Danny Elfman                NaN   \n",
              "\n",
              "            Distributed by                        Release date Running time  \\\n",
              "0       Universal Pictures   \\n August1,1986 ( 1986-08-01 ) \\n  111 minutes   \n",
              "1          New Line Cinema  \\n August21,1998 ( 1998-08-21 ) \\n  120 minutes   \n",
              "2         20th Century Fox                                 NaN  104 minutes   \n",
              "3          New Line Cinema   \\n March22,2002 ( 2002-03-22 ) \\n  117 minutes   \n",
              "4  Sony Pictures Releasing                                 NaN  121 minutes   \n",
              "\n",
              "         Country Language          Budget       Box office  \\\n",
              "0  United States  English  $30-37 million      $38 million   \n",
              "1  United States  English      $45million    $131.2million   \n",
              "2  United States  English    $75  million  $296.3  million   \n",
              "3  United States  English     $54 million     $155 million   \n",
              "4  United States  English     $139million      $825million   \n",
              "\n",
              "                                Production companies Screenplay by  \\\n",
              "0                                                NaN           NaN   \n",
              "1  \\n Marvel Enterprises \\n Amen Ra Films \\n Imag...           NaN   \n",
              "2  \\n Marvel Entertainment Group \\n The Donners' ...  David Hayter   \n",
              "3  \\n Marvel Enterprises \\n Amen Ra Films \\n Imag...           NaN   \n",
              "4  \\n Columbia Pictures \\n Marvel Enterprises \\n ...   David Koepp   \n",
              "\n",
              "                            Story by  \\\n",
              "0                                NaN   \n",
              "1                                NaN   \n",
              "2  \\n Tom DeSanto \\n Bryan Singer \\n   \n",
              "3                                NaN   \n",
              "4                                NaN   \n",
              "\n",
              "                                       Release dates Countries Languages  \n",
              "0                                                NaN       NaN       NaN  \n",
              "1                                                NaN       NaN       NaN  \n",
              "2  \\n July12,2000 ( 2000-07-12 )  ( Ellis Island ...       NaN       NaN  \n",
              "3                                                NaN       NaN       NaN  \n",
              "4  \\n April29,2002 ( 2002-04-29 )  ( Mann Village...       NaN       NaN  "
            ],
            "text/html": [
              "\n",
              "  <div id=\"df-bbc7f496-4d82-4cc8-a0ee-2b0650cd77f6\">\n",
              "    <div class=\"colab-df-container\">\n",
              "      <div>\n",
              "<style scoped>\n",
              "    .dataframe tbody tr th:only-of-type {\n",
              "        vertical-align: middle;\n",
              "    }\n",
              "\n",
              "    .dataframe tbody tr th {\n",
              "        vertical-align: top;\n",
              "    }\n",
              "\n",
              "    .dataframe thead th {\n",
              "        text-align: right;\n",
              "    }\n",
              "</style>\n",
              "<table border=\"1\" class=\"dataframe\">\n",
              "  <thead>\n",
              "    <tr style=\"text-align: right;\">\n",
              "      <th></th>\n",
              "      <th>Title</th>\n",
              "      <th>Directed by</th>\n",
              "      <th>Written by</th>\n",
              "      <th>Based on</th>\n",
              "      <th>Produced by</th>\n",
              "      <th>Starring</th>\n",
              "      <th>Cinematography</th>\n",
              "      <th>Edited by</th>\n",
              "      <th>Music by</th>\n",
              "      <th>Production company</th>\n",
              "      <th>Distributed by</th>\n",
              "      <th>Release date</th>\n",
              "      <th>Running time</th>\n",
              "      <th>Country</th>\n",
              "      <th>Language</th>\n",
              "      <th>Budget</th>\n",
              "      <th>Box office</th>\n",
              "      <th>Production companies</th>\n",
              "      <th>Screenplay by</th>\n",
              "      <th>Story by</th>\n",
              "      <th>Release dates</th>\n",
              "      <th>Countries</th>\n",
              "      <th>Languages</th>\n",
              "    </tr>\n",
              "  </thead>\n",
              "  <tbody>\n",
              "    <tr>\n",
              "      <th>0</th>\n",
              "      <td>Howard the Duck</td>\n",
              "      <td>Willard Huyck</td>\n",
              "      <td>Willard Huyck Gloria Katz</td>\n",
              "      <td>Howard the Duck by  Steve Gerber</td>\n",
              "      <td>Gloria Katz</td>\n",
              "      <td>\\n Lea Thompson \\n Jeffrey Jones \\n Tim Robbin...</td>\n",
              "      <td>Richard H. Kline</td>\n",
              "      <td>Michael Chandler Sidney Wolinsky</td>\n",
              "      <td>\\n John Barry \\n Sylvester Levay \\n Songs: \\n ...</td>\n",
              "      <td>Lucasfilm</td>\n",
              "      <td>Universal Pictures</td>\n",
              "      <td>\\n August1,1986 ( 1986-08-01 ) \\n</td>\n",
              "      <td>111 minutes</td>\n",
              "      <td>United States</td>\n",
              "      <td>English</td>\n",
              "      <td>$30-37 million</td>\n",
              "      <td>$38 million</td>\n",
              "      <td>NaN</td>\n",
              "      <td>NaN</td>\n",
              "      <td>NaN</td>\n",
              "      <td>NaN</td>\n",
              "      <td>NaN</td>\n",
              "      <td>NaN</td>\n",
              "    </tr>\n",
              "    <tr>\n",
              "      <th>1</th>\n",
              "      <td>Blade</td>\n",
              "      <td>Stephen Norrington</td>\n",
              "      <td>David S. Goyer</td>\n",
              "      <td>Blade by  Marv Wolfman Gene Colan</td>\n",
              "      <td>\\n Peter Frankfurt \\n Wesley Snipes \\n Robert ...</td>\n",
              "      <td>\\n Wesley Snipes \\n Stephen Dorff \\n Kris Kris...</td>\n",
              "      <td>Theo van de Sande</td>\n",
              "      <td>Paul Rubell</td>\n",
              "      <td>Mark Isham</td>\n",
              "      <td>NaN</td>\n",
              "      <td>New Line Cinema</td>\n",
              "      <td>\\n August21,1998 ( 1998-08-21 ) \\n</td>\n",
              "      <td>120 minutes</td>\n",
              "      <td>United States</td>\n",
              "      <td>English</td>\n",
              "      <td>$45million</td>\n",
              "      <td>$131.2million</td>\n",
              "      <td>\\n Marvel Enterprises \\n Amen Ra Films \\n Imag...</td>\n",
              "      <td>NaN</td>\n",
              "      <td>NaN</td>\n",
              "      <td>NaN</td>\n",
              "      <td>NaN</td>\n",
              "      <td>NaN</td>\n",
              "    </tr>\n",
              "    <tr>\n",
              "      <th>2</th>\n",
              "      <td>X-Men</td>\n",
              "      <td>Bryan Singer</td>\n",
              "      <td>NaN</td>\n",
              "      <td>X-Men by  Stan Lee Jack Kirby</td>\n",
              "      <td>\\n Lauren Shuler Donner \\n Ralph Winter \\n</td>\n",
              "      <td>\\n Patrick Stewart \\n Hugh Jackman \\n Ian McKe...</td>\n",
              "      <td>Newton Thomas Sigel</td>\n",
              "      <td>\\n Steven Rosenblum \\n Kevin Stitt \\n John Wri...</td>\n",
              "      <td>Michael Kamen</td>\n",
              "      <td>NaN</td>\n",
              "      <td>20th Century Fox</td>\n",
              "      <td>NaN</td>\n",
              "      <td>104 minutes</td>\n",
              "      <td>United States</td>\n",
              "      <td>English</td>\n",
              "      <td>$75  million</td>\n",
              "      <td>$296.3  million</td>\n",
              "      <td>\\n Marvel Entertainment Group \\n The Donners' ...</td>\n",
              "      <td>David Hayter</td>\n",
              "      <td>\\n Tom DeSanto \\n Bryan Singer \\n</td>\n",
              "      <td>\\n July12,2000 ( 2000-07-12 )  ( Ellis Island ...</td>\n",
              "      <td>NaN</td>\n",
              "      <td>NaN</td>\n",
              "    </tr>\n",
              "    <tr>\n",
              "      <th>3</th>\n",
              "      <td>Blade II</td>\n",
              "      <td>Guillermo del Toro</td>\n",
              "      <td>David S. Goyer</td>\n",
              "      <td>Blade by  Marv Wolfman Gene Colan</td>\n",
              "      <td>\\n Peter Frankfurt \\n Wesley Snipes \\n Patrick...</td>\n",
              "      <td>\\n Wesley Snipes \\n Kris Kristofferson \\n Ron ...</td>\n",
              "      <td>Gabriel Beristain</td>\n",
              "      <td>Peter Amundson</td>\n",
              "      <td>Marco Beltrami</td>\n",
              "      <td>NaN</td>\n",
              "      <td>New Line Cinema</td>\n",
              "      <td>\\n March22,2002 ( 2002-03-22 ) \\n</td>\n",
              "      <td>117 minutes</td>\n",
              "      <td>United States</td>\n",
              "      <td>English</td>\n",
              "      <td>$54 million</td>\n",
              "      <td>$155 million</td>\n",
              "      <td>\\n Marvel Enterprises \\n Amen Ra Films \\n Imag...</td>\n",
              "      <td>NaN</td>\n",
              "      <td>NaN</td>\n",
              "      <td>NaN</td>\n",
              "      <td>NaN</td>\n",
              "      <td>NaN</td>\n",
              "    </tr>\n",
              "    <tr>\n",
              "      <th>4</th>\n",
              "      <td>Spider-Man</td>\n",
              "      <td>Sam Raimi</td>\n",
              "      <td>NaN</td>\n",
              "      <td>Spider-Man by  Stan Lee Steve Ditko</td>\n",
              "      <td>\\n Laura Ziskin \\n Ian Bryce \\n</td>\n",
              "      <td>\\n Tobey Maguire \\n Willem Dafoe \\n Kirsten Du...</td>\n",
              "      <td>Don Burgess</td>\n",
              "      <td>\\n Bob Murawski \\n Arthur Coburn \\n</td>\n",
              "      <td>Danny Elfman</td>\n",
              "      <td>NaN</td>\n",
              "      <td>Sony Pictures Releasing</td>\n",
              "      <td>NaN</td>\n",
              "      <td>121 minutes</td>\n",
              "      <td>United States</td>\n",
              "      <td>English</td>\n",
              "      <td>$139million</td>\n",
              "      <td>$825million</td>\n",
              "      <td>\\n Columbia Pictures \\n Marvel Enterprises \\n ...</td>\n",
              "      <td>David Koepp</td>\n",
              "      <td>NaN</td>\n",
              "      <td>\\n April29,2002 ( 2002-04-29 )  ( Mann Village...</td>\n",
              "      <td>NaN</td>\n",
              "      <td>NaN</td>\n",
              "    </tr>\n",
              "  </tbody>\n",
              "</table>\n",
              "</div>\n",
              "      <button class=\"colab-df-convert\" onclick=\"convertToInteractive('df-bbc7f496-4d82-4cc8-a0ee-2b0650cd77f6')\"\n",
              "              title=\"Convert this dataframe to an interactive table.\"\n",
              "              style=\"display:none;\">\n",
              "        \n",
              "  <svg xmlns=\"http://www.w3.org/2000/svg\" height=\"24px\"viewBox=\"0 0 24 24\"\n",
              "       width=\"24px\">\n",
              "    <path d=\"M0 0h24v24H0V0z\" fill=\"none\"/>\n",
              "    <path d=\"M18.56 5.44l.94 2.06.94-2.06 2.06-.94-2.06-.94-.94-2.06-.94 2.06-2.06.94zm-11 1L8.5 8.5l.94-2.06 2.06-.94-2.06-.94L8.5 2.5l-.94 2.06-2.06.94zm10 10l.94 2.06.94-2.06 2.06-.94-2.06-.94-.94-2.06-.94 2.06-2.06.94z\"/><path d=\"M17.41 7.96l-1.37-1.37c-.4-.4-.92-.59-1.43-.59-.52 0-1.04.2-1.43.59L10.3 9.45l-7.72 7.72c-.78.78-.78 2.05 0 2.83L4 21.41c.39.39.9.59 1.41.59.51 0 1.02-.2 1.41-.59l7.78-7.78 2.81-2.81c.8-.78.8-2.07 0-2.86zM5.41 20L4 18.59l7.72-7.72 1.47 1.35L5.41 20z\"/>\n",
              "  </svg>\n",
              "      </button>\n",
              "      \n",
              "  <style>\n",
              "    .colab-df-container {\n",
              "      display:flex;\n",
              "      flex-wrap:wrap;\n",
              "      gap: 12px;\n",
              "    }\n",
              "\n",
              "    .colab-df-convert {\n",
              "      background-color: #E8F0FE;\n",
              "      border: none;\n",
              "      border-radius: 50%;\n",
              "      cursor: pointer;\n",
              "      display: none;\n",
              "      fill: #1967D2;\n",
              "      height: 32px;\n",
              "      padding: 0 0 0 0;\n",
              "      width: 32px;\n",
              "    }\n",
              "\n",
              "    .colab-df-convert:hover {\n",
              "      background-color: #E2EBFA;\n",
              "      box-shadow: 0px 1px 2px rgba(60, 64, 67, 0.3), 0px 1px 3px 1px rgba(60, 64, 67, 0.15);\n",
              "      fill: #174EA6;\n",
              "    }\n",
              "\n",
              "    [theme=dark] .colab-df-convert {\n",
              "      background-color: #3B4455;\n",
              "      fill: #D2E3FC;\n",
              "    }\n",
              "\n",
              "    [theme=dark] .colab-df-convert:hover {\n",
              "      background-color: #434B5C;\n",
              "      box-shadow: 0px 1px 3px 1px rgba(0, 0, 0, 0.15);\n",
              "      filter: drop-shadow(0px 1px 2px rgba(0, 0, 0, 0.3));\n",
              "      fill: #FFFFFF;\n",
              "    }\n",
              "  </style>\n",
              "\n",
              "      <script>\n",
              "        const buttonEl =\n",
              "          document.querySelector('#df-bbc7f496-4d82-4cc8-a0ee-2b0650cd77f6 button.colab-df-convert');\n",
              "        buttonEl.style.display =\n",
              "          google.colab.kernel.accessAllowed ? 'block' : 'none';\n",
              "\n",
              "        async function convertToInteractive(key) {\n",
              "          const element = document.querySelector('#df-bbc7f496-4d82-4cc8-a0ee-2b0650cd77f6');\n",
              "          const dataTable =\n",
              "            await google.colab.kernel.invokeFunction('convertToInteractive',\n",
              "                                                     [key], {});\n",
              "          if (!dataTable) return;\n",
              "\n",
              "          const docLinkHtml = 'Like what you see? Visit the ' +\n",
              "            '<a target=\"_blank\" href=https://colab.research.google.com/notebooks/data_table.ipynb>data table notebook</a>'\n",
              "            + ' to learn more about interactive tables.';\n",
              "          element.innerHTML = '';\n",
              "          dataTable['output_type'] = 'display_data';\n",
              "          await google.colab.output.renderOutput(dataTable, element);\n",
              "          const docLink = document.createElement('div');\n",
              "          docLink.innerHTML = docLinkHtml;\n",
              "          element.appendChild(docLink);\n",
              "        }\n",
              "      </script>\n",
              "    </div>\n",
              "  </div>\n",
              "  "
            ]
          },
          "metadata": {},
          "execution_count": 1
        }
      ],
      "source": [
        "#import relevant libraries\n",
        "import pandas as pd\n",
        "import requests\n",
        "import re\n",
        "\n",
        "#load dataset\n",
        "df = pd.read_csv(\"https://raw.githubusercontent.com/siglimumuni/Datasets/master/marvel_movies_scraped.csv\")\n",
        "\n",
        "#show all columns\n",
        "pd.set_option('display.max_columns',30)\n",
        "\n",
        "#check the first 5 rows\n",
        "df.head()"
      ]
    },
    {
      "cell_type": "markdown",
      "source": [
        "##Merge data in duplicated columns"
      ],
      "metadata": {
        "id": "Kx9yHi1b5d0c"
      }
    },
    {
      "cell_type": "code",
      "source": [
        "#map affected columns as key-value pairs\n",
        "map = {\n",
        "        'Production companies':'Production company',\n",
        "        'Release dates':'Release date',\n",
        "        'Languages':'Language',\n",
        "        'Countries':'Country'\n",
        "      }\n",
        "\n",
        "#iterate through each pair and perform operation\n",
        "for key,value in map.items():\n",
        "  df[key].fillna(df[value], inplace=True)\n",
        "  #delete unwanted column\n",
        "  del df[value]\n",
        "\n",
        "#print all columns\n",
        "print(df.columns)"
      ],
      "metadata": {
        "colab": {
          "base_uri": "https://localhost:8080/"
        },
        "id": "tIHwN9A3GdwF",
        "outputId": "40646cf7-5708-48ac-8b30-3a200adcf0ea"
      },
      "execution_count": 2,
      "outputs": [
        {
          "output_type": "stream",
          "name": "stdout",
          "text": [
            "Index(['Title', 'Directed by', 'Written by', 'Based on', 'Produced by',\n",
            "       'Starring', 'Cinematography', 'Edited by', 'Music by', 'Distributed by',\n",
            "       'Running time', 'Budget', 'Box office', 'Production companies',\n",
            "       'Screenplay by', 'Story by', 'Release dates', 'Countries', 'Languages'],\n",
            "      dtype='object')\n"
          ]
        }
      ]
    },
    {
      "cell_type": "code",
      "source": [
        "#check for nulls\n",
        "print(df[map.keys()].isnull().sum())\n",
        "\n",
        "#print first 10 rows of merged columns\n",
        "df[map.keys()].head()"
      ],
      "metadata": {
        "colab": {
          "base_uri": "https://localhost:8080/",
          "height": 295
        },
        "id": "-VVa4MrD8Vre",
        "outputId": "9c27291a-4f47-4273-eb81-00d5bb2889ae"
      },
      "execution_count": 3,
      "outputs": [
        {
          "output_type": "stream",
          "name": "stdout",
          "text": [
            "Production companies    0\n",
            "Release dates           0\n",
            "Languages               0\n",
            "Countries               0\n",
            "dtype: int64\n"
          ]
        },
        {
          "output_type": "execute_result",
          "data": {
            "text/plain": [
              "                                Production companies  \\\n",
              "0                                          Lucasfilm   \n",
              "1  \\n Marvel Enterprises \\n Amen Ra Films \\n Imag...   \n",
              "2  \\n Marvel Entertainment Group \\n The Donners' ...   \n",
              "3  \\n Marvel Enterprises \\n Amen Ra Films \\n Imag...   \n",
              "4  \\n Columbia Pictures \\n Marvel Enterprises \\n ...   \n",
              "\n",
              "                                       Release dates Languages      Countries  \n",
              "0                  \\n August1,1986 ( 1986-08-01 ) \\n   English  United States  \n",
              "1                 \\n August21,1998 ( 1998-08-21 ) \\n   English  United States  \n",
              "2  \\n July12,2000 ( 2000-07-12 )  ( Ellis Island ...   English  United States  \n",
              "3                  \\n March22,2002 ( 2002-03-22 ) \\n   English  United States  \n",
              "4  \\n April29,2002 ( 2002-04-29 )  ( Mann Village...   English  United States  "
            ],
            "text/html": [
              "\n",
              "  <div id=\"df-c2c2d250-439e-47b0-b20f-caf84580092f\">\n",
              "    <div class=\"colab-df-container\">\n",
              "      <div>\n",
              "<style scoped>\n",
              "    .dataframe tbody tr th:only-of-type {\n",
              "        vertical-align: middle;\n",
              "    }\n",
              "\n",
              "    .dataframe tbody tr th {\n",
              "        vertical-align: top;\n",
              "    }\n",
              "\n",
              "    .dataframe thead th {\n",
              "        text-align: right;\n",
              "    }\n",
              "</style>\n",
              "<table border=\"1\" class=\"dataframe\">\n",
              "  <thead>\n",
              "    <tr style=\"text-align: right;\">\n",
              "      <th></th>\n",
              "      <th>Production companies</th>\n",
              "      <th>Release dates</th>\n",
              "      <th>Languages</th>\n",
              "      <th>Countries</th>\n",
              "    </tr>\n",
              "  </thead>\n",
              "  <tbody>\n",
              "    <tr>\n",
              "      <th>0</th>\n",
              "      <td>Lucasfilm</td>\n",
              "      <td>\\n August1,1986 ( 1986-08-01 ) \\n</td>\n",
              "      <td>English</td>\n",
              "      <td>United States</td>\n",
              "    </tr>\n",
              "    <tr>\n",
              "      <th>1</th>\n",
              "      <td>\\n Marvel Enterprises \\n Amen Ra Films \\n Imag...</td>\n",
              "      <td>\\n August21,1998 ( 1998-08-21 ) \\n</td>\n",
              "      <td>English</td>\n",
              "      <td>United States</td>\n",
              "    </tr>\n",
              "    <tr>\n",
              "      <th>2</th>\n",
              "      <td>\\n Marvel Entertainment Group \\n The Donners' ...</td>\n",
              "      <td>\\n July12,2000 ( 2000-07-12 )  ( Ellis Island ...</td>\n",
              "      <td>English</td>\n",
              "      <td>United States</td>\n",
              "    </tr>\n",
              "    <tr>\n",
              "      <th>3</th>\n",
              "      <td>\\n Marvel Enterprises \\n Amen Ra Films \\n Imag...</td>\n",
              "      <td>\\n March22,2002 ( 2002-03-22 ) \\n</td>\n",
              "      <td>English</td>\n",
              "      <td>United States</td>\n",
              "    </tr>\n",
              "    <tr>\n",
              "      <th>4</th>\n",
              "      <td>\\n Columbia Pictures \\n Marvel Enterprises \\n ...</td>\n",
              "      <td>\\n April29,2002 ( 2002-04-29 )  ( Mann Village...</td>\n",
              "      <td>English</td>\n",
              "      <td>United States</td>\n",
              "    </tr>\n",
              "  </tbody>\n",
              "</table>\n",
              "</div>\n",
              "      <button class=\"colab-df-convert\" onclick=\"convertToInteractive('df-c2c2d250-439e-47b0-b20f-caf84580092f')\"\n",
              "              title=\"Convert this dataframe to an interactive table.\"\n",
              "              style=\"display:none;\">\n",
              "        \n",
              "  <svg xmlns=\"http://www.w3.org/2000/svg\" height=\"24px\"viewBox=\"0 0 24 24\"\n",
              "       width=\"24px\">\n",
              "    <path d=\"M0 0h24v24H0V0z\" fill=\"none\"/>\n",
              "    <path d=\"M18.56 5.44l.94 2.06.94-2.06 2.06-.94-2.06-.94-.94-2.06-.94 2.06-2.06.94zm-11 1L8.5 8.5l.94-2.06 2.06-.94-2.06-.94L8.5 2.5l-.94 2.06-2.06.94zm10 10l.94 2.06.94-2.06 2.06-.94-2.06-.94-.94-2.06-.94 2.06-2.06.94z\"/><path d=\"M17.41 7.96l-1.37-1.37c-.4-.4-.92-.59-1.43-.59-.52 0-1.04.2-1.43.59L10.3 9.45l-7.72 7.72c-.78.78-.78 2.05 0 2.83L4 21.41c.39.39.9.59 1.41.59.51 0 1.02-.2 1.41-.59l7.78-7.78 2.81-2.81c.8-.78.8-2.07 0-2.86zM5.41 20L4 18.59l7.72-7.72 1.47 1.35L5.41 20z\"/>\n",
              "  </svg>\n",
              "      </button>\n",
              "      \n",
              "  <style>\n",
              "    .colab-df-container {\n",
              "      display:flex;\n",
              "      flex-wrap:wrap;\n",
              "      gap: 12px;\n",
              "    }\n",
              "\n",
              "    .colab-df-convert {\n",
              "      background-color: #E8F0FE;\n",
              "      border: none;\n",
              "      border-radius: 50%;\n",
              "      cursor: pointer;\n",
              "      display: none;\n",
              "      fill: #1967D2;\n",
              "      height: 32px;\n",
              "      padding: 0 0 0 0;\n",
              "      width: 32px;\n",
              "    }\n",
              "\n",
              "    .colab-df-convert:hover {\n",
              "      background-color: #E2EBFA;\n",
              "      box-shadow: 0px 1px 2px rgba(60, 64, 67, 0.3), 0px 1px 3px 1px rgba(60, 64, 67, 0.15);\n",
              "      fill: #174EA6;\n",
              "    }\n",
              "\n",
              "    [theme=dark] .colab-df-convert {\n",
              "      background-color: #3B4455;\n",
              "      fill: #D2E3FC;\n",
              "    }\n",
              "\n",
              "    [theme=dark] .colab-df-convert:hover {\n",
              "      background-color: #434B5C;\n",
              "      box-shadow: 0px 1px 3px 1px rgba(0, 0, 0, 0.15);\n",
              "      filter: drop-shadow(0px 1px 2px rgba(0, 0, 0, 0.3));\n",
              "      fill: #FFFFFF;\n",
              "    }\n",
              "  </style>\n",
              "\n",
              "      <script>\n",
              "        const buttonEl =\n",
              "          document.querySelector('#df-c2c2d250-439e-47b0-b20f-caf84580092f button.colab-df-convert');\n",
              "        buttonEl.style.display =\n",
              "          google.colab.kernel.accessAllowed ? 'block' : 'none';\n",
              "\n",
              "        async function convertToInteractive(key) {\n",
              "          const element = document.querySelector('#df-c2c2d250-439e-47b0-b20f-caf84580092f');\n",
              "          const dataTable =\n",
              "            await google.colab.kernel.invokeFunction('convertToInteractive',\n",
              "                                                     [key], {});\n",
              "          if (!dataTable) return;\n",
              "\n",
              "          const docLinkHtml = 'Like what you see? Visit the ' +\n",
              "            '<a target=\"_blank\" href=https://colab.research.google.com/notebooks/data_table.ipynb>data table notebook</a>'\n",
              "            + ' to learn more about interactive tables.';\n",
              "          element.innerHTML = '';\n",
              "          dataTable['output_type'] = 'display_data';\n",
              "          await google.colab.output.renderOutput(dataTable, element);\n",
              "          const docLink = document.createElement('div');\n",
              "          docLink.innerHTML = docLinkHtml;\n",
              "          element.appendChild(docLink);\n",
              "        }\n",
              "      </script>\n",
              "    </div>\n",
              "  </div>\n",
              "  "
            ]
          },
          "metadata": {},
          "execution_count": 3
        }
      ]
    },
    {
      "cell_type": "markdown",
      "source": [
        "##Reformat entries with multiple values into lists"
      ],
      "metadata": {
        "id": "6yFdS-Dp92Ba"
      }
    },
    {
      "cell_type": "code",
      "source": [
        "#split one value in the starring column\n",
        "df['Starring'].loc[0].split('\\n')"
      ],
      "metadata": {
        "colab": {
          "base_uri": "https://localhost:8080/"
        },
        "id": "lWbypRrCII_i",
        "outputId": "573e2335-5696-425f-a671-8e0a0779fd34"
      },
      "execution_count": 4,
      "outputs": [
        {
          "output_type": "execute_result",
          "data": {
            "text/plain": [
              "['', ' Lea Thompson ', ' Jeffrey Jones ', ' Tim Robbins ', '']"
            ]
          },
          "metadata": {},
          "execution_count": 4
        }
      ]
    },
    {
      "cell_type": "code",
      "source": [
        "#split value, remove empty strings, and whitespaces\n",
        "to_list = [item.strip() for item in df['Starring'].loc[0].split('\\n') if item !='']\n",
        "to_list"
      ],
      "metadata": {
        "colab": {
          "base_uri": "https://localhost:8080/"
        },
        "id": "eSaPGhmyRepS",
        "outputId": "38f940d0-9c04-4ed3-d2cd-596af42e0c6f"
      },
      "execution_count": 5,
      "outputs": [
        {
          "output_type": "execute_result",
          "data": {
            "text/plain": [
              "['Lea Thompson', 'Jeffrey Jones', 'Tim Robbins']"
            ]
          },
          "metadata": {},
          "execution_count": 5
        }
      ]
    },
    {
      "cell_type": "code",
      "source": [
        "#loop though every affected column and convert values to lists\n",
        "for column in ['Starring','Edited by','Written by','Produced by','Music by','Production companies','Release dates','Story by']:\n",
        "  df[column] = df[column].apply(lambda x: x if pd.isnull(x) else [item.strip() for item in x.split('\\n') if item != ''])\n",
        "\n",
        "df.head()"
      ],
      "metadata": {
        "id": "0eN0av4JTjUA",
        "colab": {
          "base_uri": "https://localhost:8080/",
          "height": 739
        },
        "outputId": "ec6434d8-e899-45be-935a-5d19c352a919"
      },
      "execution_count": 6,
      "outputs": [
        {
          "output_type": "execute_result",
          "data": {
            "text/plain": [
              "             Title         Directed by                   Written by  \\\n",
              "0  Howard the Duck       Willard Huyck  [Willard Huyck Gloria Katz]   \n",
              "1            Blade  Stephen Norrington             [David S. Goyer]   \n",
              "2            X-Men        Bryan Singer                          NaN   \n",
              "3         Blade II  Guillermo del Toro             [David S. Goyer]   \n",
              "4       Spider-Man           Sam Raimi                          NaN   \n",
              "\n",
              "                              Based on  \\\n",
              "0     Howard the Duck by  Steve Gerber   \n",
              "1    Blade by  Marv Wolfman Gene Colan   \n",
              "2        X-Men by  Stan Lee Jack Kirby   \n",
              "3    Blade by  Marv Wolfman Gene Colan   \n",
              "4  Spider-Man by  Stan Lee Steve Ditko   \n",
              "\n",
              "                                         Produced by  \\\n",
              "0                                      [Gloria Katz]   \n",
              "1  [Peter Frankfurt, Wesley Snipes, Robert Engelman]   \n",
              "2               [Lauren Shuler Donner, Ralph Winter]   \n",
              "3   [Peter Frankfurt, Wesley Snipes, Patrick Palmer]   \n",
              "4                          [Laura Ziskin, Ian Bryce]   \n",
              "\n",
              "                                            Starring       Cinematography  \\\n",
              "0         [Lea Thompson, Jeffrey Jones, Tim Robbins]     Richard H. Kline   \n",
              "1  [Wesley Snipes, Stephen Dorff, Kris Kristoffer...    Theo van de Sande   \n",
              "2  [Patrick Stewart, Hugh Jackman, Ian McKellen, ...  Newton Thomas Sigel   \n",
              "3  [Wesley Snipes, Kris Kristofferson, Ron Perlma...    Gabriel Beristain   \n",
              "4  [Tobey Maguire, Willem Dafoe, Kirsten Dunst, J...          Don Burgess   \n",
              "\n",
              "                                      Edited by  \\\n",
              "0            [Michael Chandler Sidney Wolinsky]   \n",
              "1                                 [Paul Rubell]   \n",
              "2  [Steven Rosenblum, Kevin Stitt, John Wright]   \n",
              "3                              [Peter Amundson]   \n",
              "4                 [Bob Murawski, Arthur Coburn]   \n",
              "\n",
              "                                            Music by           Distributed by  \\\n",
              "0  [John Barry, Sylvester Levay, Songs:, Thomas D...       Universal Pictures   \n",
              "1                                       [Mark Isham]          New Line Cinema   \n",
              "2                                    [Michael Kamen]         20th Century Fox   \n",
              "3                                   [Marco Beltrami]          New Line Cinema   \n",
              "4                                     [Danny Elfman]  Sony Pictures Releasing   \n",
              "\n",
              "  Running time          Budget       Box office  \\\n",
              "0  111 minutes  $30-37 million      $38 million   \n",
              "1  120 minutes      $45million    $131.2million   \n",
              "2  104 minutes    $75  million  $296.3  million   \n",
              "3  117 minutes     $54 million     $155 million   \n",
              "4  121 minutes     $139million      $825million   \n",
              "\n",
              "                                Production companies Screenplay by  \\\n",
              "0                                        [Lucasfilm]           NaN   \n",
              "1  [Marvel Enterprises, Amen Ra Films, Imaginary ...           NaN   \n",
              "2  [Marvel Entertainment Group, The Donners' Comp...  David Hayter   \n",
              "3  [Marvel Enterprises, Amen Ra Films, Imaginary ...           NaN   \n",
              "4  [Columbia Pictures, Marvel Enterprises, Laura ...   David Koepp   \n",
              "\n",
              "                      Story by  \\\n",
              "0                          NaN   \n",
              "1                          NaN   \n",
              "2  [Tom DeSanto, Bryan Singer]   \n",
              "3                          NaN   \n",
              "4                          NaN   \n",
              "\n",
              "                                       Release dates      Countries Languages  \n",
              "0                      [August1,1986 ( 1986-08-01 )]  United States   English  \n",
              "1                     [August21,1998 ( 1998-08-21 )]  United States   English  \n",
              "2  [July12,2000 ( 2000-07-12 )  ( Ellis Island ),...  United States   English  \n",
              "3                      [March22,2002 ( 2002-03-22 )]  United States   English  \n",
              "4  [April29,2002 ( 2002-04-29 )  ( Mann Village T...  United States   English  "
            ],
            "text/html": [
              "\n",
              "  <div id=\"df-05821854-0cfe-4cb9-8090-4b14d31d5b35\">\n",
              "    <div class=\"colab-df-container\">\n",
              "      <div>\n",
              "<style scoped>\n",
              "    .dataframe tbody tr th:only-of-type {\n",
              "        vertical-align: middle;\n",
              "    }\n",
              "\n",
              "    .dataframe tbody tr th {\n",
              "        vertical-align: top;\n",
              "    }\n",
              "\n",
              "    .dataframe thead th {\n",
              "        text-align: right;\n",
              "    }\n",
              "</style>\n",
              "<table border=\"1\" class=\"dataframe\">\n",
              "  <thead>\n",
              "    <tr style=\"text-align: right;\">\n",
              "      <th></th>\n",
              "      <th>Title</th>\n",
              "      <th>Directed by</th>\n",
              "      <th>Written by</th>\n",
              "      <th>Based on</th>\n",
              "      <th>Produced by</th>\n",
              "      <th>Starring</th>\n",
              "      <th>Cinematography</th>\n",
              "      <th>Edited by</th>\n",
              "      <th>Music by</th>\n",
              "      <th>Distributed by</th>\n",
              "      <th>Running time</th>\n",
              "      <th>Budget</th>\n",
              "      <th>Box office</th>\n",
              "      <th>Production companies</th>\n",
              "      <th>Screenplay by</th>\n",
              "      <th>Story by</th>\n",
              "      <th>Release dates</th>\n",
              "      <th>Countries</th>\n",
              "      <th>Languages</th>\n",
              "    </tr>\n",
              "  </thead>\n",
              "  <tbody>\n",
              "    <tr>\n",
              "      <th>0</th>\n",
              "      <td>Howard the Duck</td>\n",
              "      <td>Willard Huyck</td>\n",
              "      <td>[Willard Huyck Gloria Katz]</td>\n",
              "      <td>Howard the Duck by  Steve Gerber</td>\n",
              "      <td>[Gloria Katz]</td>\n",
              "      <td>[Lea Thompson, Jeffrey Jones, Tim Robbins]</td>\n",
              "      <td>Richard H. Kline</td>\n",
              "      <td>[Michael Chandler Sidney Wolinsky]</td>\n",
              "      <td>[John Barry, Sylvester Levay, Songs:, Thomas D...</td>\n",
              "      <td>Universal Pictures</td>\n",
              "      <td>111 minutes</td>\n",
              "      <td>$30-37 million</td>\n",
              "      <td>$38 million</td>\n",
              "      <td>[Lucasfilm]</td>\n",
              "      <td>NaN</td>\n",
              "      <td>NaN</td>\n",
              "      <td>[August1,1986 ( 1986-08-01 )]</td>\n",
              "      <td>United States</td>\n",
              "      <td>English</td>\n",
              "    </tr>\n",
              "    <tr>\n",
              "      <th>1</th>\n",
              "      <td>Blade</td>\n",
              "      <td>Stephen Norrington</td>\n",
              "      <td>[David S. Goyer]</td>\n",
              "      <td>Blade by  Marv Wolfman Gene Colan</td>\n",
              "      <td>[Peter Frankfurt, Wesley Snipes, Robert Engelman]</td>\n",
              "      <td>[Wesley Snipes, Stephen Dorff, Kris Kristoffer...</td>\n",
              "      <td>Theo van de Sande</td>\n",
              "      <td>[Paul Rubell]</td>\n",
              "      <td>[Mark Isham]</td>\n",
              "      <td>New Line Cinema</td>\n",
              "      <td>120 minutes</td>\n",
              "      <td>$45million</td>\n",
              "      <td>$131.2million</td>\n",
              "      <td>[Marvel Enterprises, Amen Ra Films, Imaginary ...</td>\n",
              "      <td>NaN</td>\n",
              "      <td>NaN</td>\n",
              "      <td>[August21,1998 ( 1998-08-21 )]</td>\n",
              "      <td>United States</td>\n",
              "      <td>English</td>\n",
              "    </tr>\n",
              "    <tr>\n",
              "      <th>2</th>\n",
              "      <td>X-Men</td>\n",
              "      <td>Bryan Singer</td>\n",
              "      <td>NaN</td>\n",
              "      <td>X-Men by  Stan Lee Jack Kirby</td>\n",
              "      <td>[Lauren Shuler Donner, Ralph Winter]</td>\n",
              "      <td>[Patrick Stewart, Hugh Jackman, Ian McKellen, ...</td>\n",
              "      <td>Newton Thomas Sigel</td>\n",
              "      <td>[Steven Rosenblum, Kevin Stitt, John Wright]</td>\n",
              "      <td>[Michael Kamen]</td>\n",
              "      <td>20th Century Fox</td>\n",
              "      <td>104 minutes</td>\n",
              "      <td>$75  million</td>\n",
              "      <td>$296.3  million</td>\n",
              "      <td>[Marvel Entertainment Group, The Donners' Comp...</td>\n",
              "      <td>David Hayter</td>\n",
              "      <td>[Tom DeSanto, Bryan Singer]</td>\n",
              "      <td>[July12,2000 ( 2000-07-12 )  ( Ellis Island ),...</td>\n",
              "      <td>United States</td>\n",
              "      <td>English</td>\n",
              "    </tr>\n",
              "    <tr>\n",
              "      <th>3</th>\n",
              "      <td>Blade II</td>\n",
              "      <td>Guillermo del Toro</td>\n",
              "      <td>[David S. Goyer]</td>\n",
              "      <td>Blade by  Marv Wolfman Gene Colan</td>\n",
              "      <td>[Peter Frankfurt, Wesley Snipes, Patrick Palmer]</td>\n",
              "      <td>[Wesley Snipes, Kris Kristofferson, Ron Perlma...</td>\n",
              "      <td>Gabriel Beristain</td>\n",
              "      <td>[Peter Amundson]</td>\n",
              "      <td>[Marco Beltrami]</td>\n",
              "      <td>New Line Cinema</td>\n",
              "      <td>117 minutes</td>\n",
              "      <td>$54 million</td>\n",
              "      <td>$155 million</td>\n",
              "      <td>[Marvel Enterprises, Amen Ra Films, Imaginary ...</td>\n",
              "      <td>NaN</td>\n",
              "      <td>NaN</td>\n",
              "      <td>[March22,2002 ( 2002-03-22 )]</td>\n",
              "      <td>United States</td>\n",
              "      <td>English</td>\n",
              "    </tr>\n",
              "    <tr>\n",
              "      <th>4</th>\n",
              "      <td>Spider-Man</td>\n",
              "      <td>Sam Raimi</td>\n",
              "      <td>NaN</td>\n",
              "      <td>Spider-Man by  Stan Lee Steve Ditko</td>\n",
              "      <td>[Laura Ziskin, Ian Bryce]</td>\n",
              "      <td>[Tobey Maguire, Willem Dafoe, Kirsten Dunst, J...</td>\n",
              "      <td>Don Burgess</td>\n",
              "      <td>[Bob Murawski, Arthur Coburn]</td>\n",
              "      <td>[Danny Elfman]</td>\n",
              "      <td>Sony Pictures Releasing</td>\n",
              "      <td>121 minutes</td>\n",
              "      <td>$139million</td>\n",
              "      <td>$825million</td>\n",
              "      <td>[Columbia Pictures, Marvel Enterprises, Laura ...</td>\n",
              "      <td>David Koepp</td>\n",
              "      <td>NaN</td>\n",
              "      <td>[April29,2002 ( 2002-04-29 )  ( Mann Village T...</td>\n",
              "      <td>United States</td>\n",
              "      <td>English</td>\n",
              "    </tr>\n",
              "  </tbody>\n",
              "</table>\n",
              "</div>\n",
              "      <button class=\"colab-df-convert\" onclick=\"convertToInteractive('df-05821854-0cfe-4cb9-8090-4b14d31d5b35')\"\n",
              "              title=\"Convert this dataframe to an interactive table.\"\n",
              "              style=\"display:none;\">\n",
              "        \n",
              "  <svg xmlns=\"http://www.w3.org/2000/svg\" height=\"24px\"viewBox=\"0 0 24 24\"\n",
              "       width=\"24px\">\n",
              "    <path d=\"M0 0h24v24H0V0z\" fill=\"none\"/>\n",
              "    <path d=\"M18.56 5.44l.94 2.06.94-2.06 2.06-.94-2.06-.94-.94-2.06-.94 2.06-2.06.94zm-11 1L8.5 8.5l.94-2.06 2.06-.94-2.06-.94L8.5 2.5l-.94 2.06-2.06.94zm10 10l.94 2.06.94-2.06 2.06-.94-2.06-.94-.94-2.06-.94 2.06-2.06.94z\"/><path d=\"M17.41 7.96l-1.37-1.37c-.4-.4-.92-.59-1.43-.59-.52 0-1.04.2-1.43.59L10.3 9.45l-7.72 7.72c-.78.78-.78 2.05 0 2.83L4 21.41c.39.39.9.59 1.41.59.51 0 1.02-.2 1.41-.59l7.78-7.78 2.81-2.81c.8-.78.8-2.07 0-2.86zM5.41 20L4 18.59l7.72-7.72 1.47 1.35L5.41 20z\"/>\n",
              "  </svg>\n",
              "      </button>\n",
              "      \n",
              "  <style>\n",
              "    .colab-df-container {\n",
              "      display:flex;\n",
              "      flex-wrap:wrap;\n",
              "      gap: 12px;\n",
              "    }\n",
              "\n",
              "    .colab-df-convert {\n",
              "      background-color: #E8F0FE;\n",
              "      border: none;\n",
              "      border-radius: 50%;\n",
              "      cursor: pointer;\n",
              "      display: none;\n",
              "      fill: #1967D2;\n",
              "      height: 32px;\n",
              "      padding: 0 0 0 0;\n",
              "      width: 32px;\n",
              "    }\n",
              "\n",
              "    .colab-df-convert:hover {\n",
              "      background-color: #E2EBFA;\n",
              "      box-shadow: 0px 1px 2px rgba(60, 64, 67, 0.3), 0px 1px 3px 1px rgba(60, 64, 67, 0.15);\n",
              "      fill: #174EA6;\n",
              "    }\n",
              "\n",
              "    [theme=dark] .colab-df-convert {\n",
              "      background-color: #3B4455;\n",
              "      fill: #D2E3FC;\n",
              "    }\n",
              "\n",
              "    [theme=dark] .colab-df-convert:hover {\n",
              "      background-color: #434B5C;\n",
              "      box-shadow: 0px 1px 3px 1px rgba(0, 0, 0, 0.15);\n",
              "      filter: drop-shadow(0px 1px 2px rgba(0, 0, 0, 0.3));\n",
              "      fill: #FFFFFF;\n",
              "    }\n",
              "  </style>\n",
              "\n",
              "      <script>\n",
              "        const buttonEl =\n",
              "          document.querySelector('#df-05821854-0cfe-4cb9-8090-4b14d31d5b35 button.colab-df-convert');\n",
              "        buttonEl.style.display =\n",
              "          google.colab.kernel.accessAllowed ? 'block' : 'none';\n",
              "\n",
              "        async function convertToInteractive(key) {\n",
              "          const element = document.querySelector('#df-05821854-0cfe-4cb9-8090-4b14d31d5b35');\n",
              "          const dataTable =\n",
              "            await google.colab.kernel.invokeFunction('convertToInteractive',\n",
              "                                                     [key], {});\n",
              "          if (!dataTable) return;\n",
              "\n",
              "          const docLinkHtml = 'Like what you see? Visit the ' +\n",
              "            '<a target=\"_blank\" href=https://colab.research.google.com/notebooks/data_table.ipynb>data table notebook</a>'\n",
              "            + ' to learn more about interactive tables.';\n",
              "          element.innerHTML = '';\n",
              "          dataTable['output_type'] = 'display_data';\n",
              "          await google.colab.output.renderOutput(dataTable, element);\n",
              "          const docLink = document.createElement('div');\n",
              "          docLink.innerHTML = docLinkHtml;\n",
              "          element.appendChild(docLink);\n",
              "        }\n",
              "      </script>\n",
              "    </div>\n",
              "  </div>\n",
              "  "
            ]
          },
          "metadata": {},
          "execution_count": 6
        }
      ]
    },
    {
      "cell_type": "markdown",
      "source": [
        "## Extract a single date from the 'Release dates' column and convert to a datetime object"
      ],
      "metadata": {
        "id": "FWhhv9olP9zD"
      }
    },
    {
      "cell_type": "code",
      "source": [
        "#check release dates for one row\n",
        "df['Release dates'].loc[2]"
      ],
      "metadata": {
        "colab": {
          "base_uri": "https://localhost:8080/"
        },
        "id": "9iOoWcKJVnrO",
        "outputId": "f193052f-99d7-4001-cf67-37f23b92b47d"
      },
      "execution_count": 7,
      "outputs": [
        {
          "output_type": "execute_result",
          "data": {
            "text/plain": [
              "['July12,2000 ( 2000-07-12 )  ( Ellis Island )',\n",
              " 'July14,2000 ( 2000-07-14 )  (United States)']"
            ]
          },
          "metadata": {},
          "execution_count": 7
        }
      ]
    },
    {
      "cell_type": "code",
      "source": [
        "#extract date\n",
        "df['Release dates'].loc[2][0].split('(')[1].replace(')','').strip()"
      ],
      "metadata": {
        "colab": {
          "base_uri": "https://localhost:8080/",
          "height": 35
        },
        "id": "84bIeqJEZVrG",
        "outputId": "2f55a7c1-f547-4f7c-97f4-5768356c6470"
      },
      "execution_count": 8,
      "outputs": [
        {
          "output_type": "execute_result",
          "data": {
            "text/plain": [
              "'2000-07-12'"
            ],
            "application/vnd.google.colaboratory.intrinsic+json": {
              "type": "string"
            }
          },
          "metadata": {},
          "execution_count": 8
        }
      ]
    },
    {
      "cell_type": "code",
      "source": [
        "#apply lambda function to extract single date from release dates column\n",
        "df['Release dates'] = df['Release dates'].apply(lambda x: pd.to_datetime(x[0].split('(')[1].replace(')','').strip()))\n",
        "\n",
        "#rename column\n",
        "df.rename(columns={'Release dates':'Release date'}, inplace=True)\n",
        "\n",
        "df['Release date'].head()"
      ],
      "metadata": {
        "id": "JL6Dj2jLY53o",
        "colab": {
          "base_uri": "https://localhost:8080/"
        },
        "outputId": "3a84d1b2-8f6b-49ec-b00e-98f9f60ef7ef"
      },
      "execution_count": 9,
      "outputs": [
        {
          "output_type": "execute_result",
          "data": {
            "text/plain": [
              "0   1986-08-01\n",
              "1   1998-08-21\n",
              "2   2000-07-12\n",
              "3   2002-03-22\n",
              "4   2002-04-29\n",
              "Name: Release date, dtype: datetime64[ns]"
            ]
          },
          "metadata": {},
          "execution_count": 9
        }
      ]
    },
    {
      "cell_type": "markdown",
      "source": [
        "## Extract the movie length digits and convert to integer"
      ],
      "metadata": {
        "id": "OgpekGpzQdy_"
      }
    },
    {
      "cell_type": "code",
      "source": [
        "#find and extract only digits from every entry in the column\n",
        "df['Running time'] = df['Running time'].apply(lambda x: x if pd.isnull(x) else round(int(re.findall(r\"\\d{2,3}\",x)[0])),0)\n",
        "\n",
        "df['Running time'].head()"
      ],
      "metadata": {
        "id": "vWyGK37Lc4td",
        "colab": {
          "base_uri": "https://localhost:8080/"
        },
        "outputId": "6153d05d-7812-4b9f-81cf-b2f8a5c67b92"
      },
      "execution_count": 10,
      "outputs": [
        {
          "output_type": "execute_result",
          "data": {
            "text/plain": [
              "0    111\n",
              "1    120\n",
              "2    104\n",
              "3    117\n",
              "4    121\n",
              "Name: Running time, dtype: object"
            ]
          },
          "metadata": {},
          "execution_count": 10
        }
      ]
    },
    {
      "cell_type": "markdown",
      "source": [
        "## Change the value format for the Budget and Box office columns"
      ],
      "metadata": {
        "id": "ZXipuiW-Q6OA"
      }
    },
    {
      "cell_type": "code",
      "source": [
        "def convert_value(value):\n",
        "  if pd.isnull(value):\n",
        "    return value\n",
        "  else:\n",
        "    #extract any digits or the word million or billion\n",
        "    digits_amount = re.findall(r\"\\d+\\.?\\d*|million|billion\",value)\n",
        "    \n",
        "    #convert digits to float and amount to integer\n",
        "    digits = float(digits_amount[0])\n",
        "    amount = 1000000 if 'million' in digits_amount else 1000000000\n",
        "    \n",
        "    #multiply digits by amount to get the full value in int\n",
        "    integer_value = digits * amount\n",
        "    return integer_value"
      ],
      "metadata": {
        "id": "aB6Mj-8SZiAR"
      },
      "execution_count": 11,
      "outputs": []
    },
    {
      "cell_type": "code",
      "source": [
        "#apply function to box office and budget columns\n",
        "for column in ['Box office','Budget']:\n",
        "  df[column] = df[column].apply(convert_value)\n",
        "\n",
        "df[['Box office','Budget']].head()"
      ],
      "metadata": {
        "colab": {
          "base_uri": "https://localhost:8080/",
          "height": 206
        },
        "id": "wa5WLBFVnksZ",
        "outputId": "6a578665-4443-4128-f339-bc4a7efafaf0"
      },
      "execution_count": 12,
      "outputs": [
        {
          "output_type": "execute_result",
          "data": {
            "text/plain": [
              "    Box office       Budget\n",
              "0   38000000.0   30000000.0\n",
              "1  131200000.0   45000000.0\n",
              "2  296300000.0   75000000.0\n",
              "3  155000000.0   54000000.0\n",
              "4  825000000.0  139000000.0"
            ],
            "text/html": [
              "\n",
              "  <div id=\"df-6147221a-76ef-4818-be08-9a3f5c1ca8b5\">\n",
              "    <div class=\"colab-df-container\">\n",
              "      <div>\n",
              "<style scoped>\n",
              "    .dataframe tbody tr th:only-of-type {\n",
              "        vertical-align: middle;\n",
              "    }\n",
              "\n",
              "    .dataframe tbody tr th {\n",
              "        vertical-align: top;\n",
              "    }\n",
              "\n",
              "    .dataframe thead th {\n",
              "        text-align: right;\n",
              "    }\n",
              "</style>\n",
              "<table border=\"1\" class=\"dataframe\">\n",
              "  <thead>\n",
              "    <tr style=\"text-align: right;\">\n",
              "      <th></th>\n",
              "      <th>Box office</th>\n",
              "      <th>Budget</th>\n",
              "    </tr>\n",
              "  </thead>\n",
              "  <tbody>\n",
              "    <tr>\n",
              "      <th>0</th>\n",
              "      <td>38000000.0</td>\n",
              "      <td>30000000.0</td>\n",
              "    </tr>\n",
              "    <tr>\n",
              "      <th>1</th>\n",
              "      <td>131200000.0</td>\n",
              "      <td>45000000.0</td>\n",
              "    </tr>\n",
              "    <tr>\n",
              "      <th>2</th>\n",
              "      <td>296300000.0</td>\n",
              "      <td>75000000.0</td>\n",
              "    </tr>\n",
              "    <tr>\n",
              "      <th>3</th>\n",
              "      <td>155000000.0</td>\n",
              "      <td>54000000.0</td>\n",
              "    </tr>\n",
              "    <tr>\n",
              "      <th>4</th>\n",
              "      <td>825000000.0</td>\n",
              "      <td>139000000.0</td>\n",
              "    </tr>\n",
              "  </tbody>\n",
              "</table>\n",
              "</div>\n",
              "      <button class=\"colab-df-convert\" onclick=\"convertToInteractive('df-6147221a-76ef-4818-be08-9a3f5c1ca8b5')\"\n",
              "              title=\"Convert this dataframe to an interactive table.\"\n",
              "              style=\"display:none;\">\n",
              "        \n",
              "  <svg xmlns=\"http://www.w3.org/2000/svg\" height=\"24px\"viewBox=\"0 0 24 24\"\n",
              "       width=\"24px\">\n",
              "    <path d=\"M0 0h24v24H0V0z\" fill=\"none\"/>\n",
              "    <path d=\"M18.56 5.44l.94 2.06.94-2.06 2.06-.94-2.06-.94-.94-2.06-.94 2.06-2.06.94zm-11 1L8.5 8.5l.94-2.06 2.06-.94-2.06-.94L8.5 2.5l-.94 2.06-2.06.94zm10 10l.94 2.06.94-2.06 2.06-.94-2.06-.94-.94-2.06-.94 2.06-2.06.94z\"/><path d=\"M17.41 7.96l-1.37-1.37c-.4-.4-.92-.59-1.43-.59-.52 0-1.04.2-1.43.59L10.3 9.45l-7.72 7.72c-.78.78-.78 2.05 0 2.83L4 21.41c.39.39.9.59 1.41.59.51 0 1.02-.2 1.41-.59l7.78-7.78 2.81-2.81c.8-.78.8-2.07 0-2.86zM5.41 20L4 18.59l7.72-7.72 1.47 1.35L5.41 20z\"/>\n",
              "  </svg>\n",
              "      </button>\n",
              "      \n",
              "  <style>\n",
              "    .colab-df-container {\n",
              "      display:flex;\n",
              "      flex-wrap:wrap;\n",
              "      gap: 12px;\n",
              "    }\n",
              "\n",
              "    .colab-df-convert {\n",
              "      background-color: #E8F0FE;\n",
              "      border: none;\n",
              "      border-radius: 50%;\n",
              "      cursor: pointer;\n",
              "      display: none;\n",
              "      fill: #1967D2;\n",
              "      height: 32px;\n",
              "      padding: 0 0 0 0;\n",
              "      width: 32px;\n",
              "    }\n",
              "\n",
              "    .colab-df-convert:hover {\n",
              "      background-color: #E2EBFA;\n",
              "      box-shadow: 0px 1px 2px rgba(60, 64, 67, 0.3), 0px 1px 3px 1px rgba(60, 64, 67, 0.15);\n",
              "      fill: #174EA6;\n",
              "    }\n",
              "\n",
              "    [theme=dark] .colab-df-convert {\n",
              "      background-color: #3B4455;\n",
              "      fill: #D2E3FC;\n",
              "    }\n",
              "\n",
              "    [theme=dark] .colab-df-convert:hover {\n",
              "      background-color: #434B5C;\n",
              "      box-shadow: 0px 1px 3px 1px rgba(0, 0, 0, 0.15);\n",
              "      filter: drop-shadow(0px 1px 2px rgba(0, 0, 0, 0.3));\n",
              "      fill: #FFFFFF;\n",
              "    }\n",
              "  </style>\n",
              "\n",
              "      <script>\n",
              "        const buttonEl =\n",
              "          document.querySelector('#df-6147221a-76ef-4818-be08-9a3f5c1ca8b5 button.colab-df-convert');\n",
              "        buttonEl.style.display =\n",
              "          google.colab.kernel.accessAllowed ? 'block' : 'none';\n",
              "\n",
              "        async function convertToInteractive(key) {\n",
              "          const element = document.querySelector('#df-6147221a-76ef-4818-be08-9a3f5c1ca8b5');\n",
              "          const dataTable =\n",
              "            await google.colab.kernel.invokeFunction('convertToInteractive',\n",
              "                                                     [key], {});\n",
              "          if (!dataTable) return;\n",
              "\n",
              "          const docLinkHtml = 'Like what you see? Visit the ' +\n",
              "            '<a target=\"_blank\" href=https://colab.research.google.com/notebooks/data_table.ipynb>data table notebook</a>'\n",
              "            + ' to learn more about interactive tables.';\n",
              "          element.innerHTML = '';\n",
              "          dataTable['output_type'] = 'display_data';\n",
              "          await google.colab.output.renderOutput(dataTable, element);\n",
              "          const docLink = document.createElement('div');\n",
              "          docLink.innerHTML = docLinkHtml;\n",
              "          element.appendChild(docLink);\n",
              "        }\n",
              "      </script>\n",
              "    </div>\n",
              "  </div>\n",
              "  "
            ]
          },
          "metadata": {},
          "execution_count": 12
        }
      ]
    },
    {
      "cell_type": "markdown",
      "source": [
        "## Retrieve the Rotten Tomatoes scores"
      ],
      "metadata": {
        "id": "nK7sf4N0R1li"
      }
    },
    {
      "cell_type": "code",
      "source": [
        "import pprint\n",
        "\n",
        "#specify API endpoint\n",
        "URL = 'http://www.omdbapi.com/?apikey=5da7ce82'\n",
        "\n",
        "#retrieve movie details\n",
        "response = requests.get(URL,params={'t':'X-Men'}).json()\n",
        "\n",
        "#pretty print\n",
        "pprint.pprint(response)"
      ],
      "metadata": {
        "colab": {
          "base_uri": "https://localhost:8080/"
        },
        "id": "1UxE5cKtPXRK",
        "outputId": "e7e31014-9ef8-4667-d06f-b2798d6a57b1"
      },
      "execution_count": 13,
      "outputs": [
        {
          "output_type": "stream",
          "name": "stdout",
          "text": [
            "{'Actors': 'Patrick Stewart, Hugh Jackman, Ian McKellen',\n",
            " 'Awards': '13 wins & 26 nominations',\n",
            " 'BoxOffice': '$157,299,718',\n",
            " 'Country': 'United States',\n",
            " 'DVD': '07 Dec 2004',\n",
            " 'Director': 'Bryan Singer',\n",
            " 'Genre': 'Action, Adventure, Sci-Fi',\n",
            " 'Language': 'English',\n",
            " 'Metascore': '64',\n",
            " 'Plot': 'In a world where mutants (evolved super-powered humans) exist and '\n",
            "         'are discriminated against, two groups form for an inevitable clash: '\n",
            "         'the supremacist Brotherhood, and the pacifist X-Men.',\n",
            " 'Poster': 'https://m.media-amazon.com/images/M/MV5BZmIyMDk5NGYtYjQ5NS00ZWQxLTg2YzQtZDk1ZmM4ZDBlN2E3XkEyXkFqcGdeQXVyMTQxNzMzNDI@._V1_SX300.jpg',\n",
            " 'Production': 'N/A',\n",
            " 'Rated': 'PG-13',\n",
            " 'Ratings': [{'Source': 'Internet Movie Database', 'Value': '7.3/10'},\n",
            "             {'Source': 'Rotten Tomatoes', 'Value': '82%'},\n",
            "             {'Source': 'Metacritic', 'Value': '64/100'}],\n",
            " 'Released': '14 Jul 2000',\n",
            " 'Response': 'True',\n",
            " 'Runtime': '104 min',\n",
            " 'Title': 'X-Men',\n",
            " 'Type': 'movie',\n",
            " 'Website': 'N/A',\n",
            " 'Writer': 'Tom DeSanto, Bryan Singer, David Hayter',\n",
            " 'Year': '2000',\n",
            " 'imdbID': 'tt0120903',\n",
            " 'imdbRating': '7.3',\n",
            " 'imdbVotes': '609,170'}\n"
          ]
        }
      ]
    },
    {
      "cell_type": "code",
      "source": [
        "def get_rotten_tomatoes(movie):\n",
        "  URL = 'http://www.omdbapi.com/?apikey=5da7ce82'\n",
        "\n",
        "  response = requests.get(URL,params={'t':movie}).json()\n",
        "  try:\n",
        "    for dictionary in response['Ratings']:\n",
        "      if dictionary['Source'] == 'Rotten Tomatoes':\n",
        "        return int(dictionary['Value'].replace('%',''))\n",
        "  except KeyError:\n",
        "    return None\n",
        "\n",
        "#test function\n",
        "get_rotten_tomatoes('Iron Man')"
      ],
      "metadata": {
        "colab": {
          "base_uri": "https://localhost:8080/"
        },
        "id": "Wo0ouk2HCWL1",
        "outputId": "7c71b077-8082-4275-ef28-42998666ce53"
      },
      "execution_count": 14,
      "outputs": [
        {
          "output_type": "execute_result",
          "data": {
            "text/plain": [
              "94"
            ]
          },
          "metadata": {},
          "execution_count": 14
        }
      ]
    },
    {
      "cell_type": "code",
      "source": [
        "#movie titles with issues\n",
        "print(df.loc[58]['Title'])\n",
        "print(df.loc[63]['Title'])"
      ],
      "metadata": {
        "colab": {
          "base_uri": "https://localhost:8080/"
        },
        "id": "_ZmVt2a7_Xu-",
        "outputId": "329cc639-4b01-493f-bb95-03570b4de195"
      },
      "execution_count": 15,
      "outputs": [
        {
          "output_type": "stream",
          "name": "stdout",
          "text": [
            "Shang-Chi and the Legendof the Ten Rings\n",
            "Doctor Strange in theMultiverse of Madness\n"
          ]
        }
      ]
    },
    {
      "cell_type": "code",
      "source": [
        "#replace values with correct titles\n",
        "df['Title'] = df['Title'].replace(\n",
        "                                  ['Shang-Chi and the Legendof the Ten Rings','Doctor Strange in theMultiverse of Madness'],\n",
        "                                  ['Shang-Chi and the Legend of the Ten Rings','Doctor Strange in the Multiverse of Madness']\n",
        "                                  )"
      ],
      "metadata": {
        "id": "3UuFhK8CzQmc"
      },
      "execution_count": 16,
      "outputs": []
    },
    {
      "cell_type": "code",
      "source": [
        "#create new column for rotten tomatoes scores\n",
        "df['Rotten Tomatoes'] = [get_rotten_tomatoes(movie) for movie in df['Title']]\n",
        "\n",
        "df['Rotten Tomatoes'].head()"
      ],
      "metadata": {
        "colab": {
          "base_uri": "https://localhost:8080/"
        },
        "id": "LBVzrRCfDcaV",
        "outputId": "50904258-9ba6-4cc0-c431-eaf7ade184d3"
      },
      "execution_count": 17,
      "outputs": [
        {
          "output_type": "execute_result",
          "data": {
            "text/plain": [
              "0    14.0\n",
              "1    57.0\n",
              "2    82.0\n",
              "3    58.0\n",
              "4    90.0\n",
              "Name: Rotten Tomatoes, dtype: float64"
            ]
          },
          "metadata": {},
          "execution_count": 17
        }
      ]
    },
    {
      "cell_type": "markdown",
      "source": [
        "## Remove unreleased movies from dataset"
      ],
      "metadata": {
        "id": "6_VBG4JbSHac"
      }
    },
    {
      "cell_type": "code",
      "source": [
        "#unreleased movies\n",
        "df[['Title','Release date']].tail(6)"
      ],
      "metadata": {
        "colab": {
          "base_uri": "https://localhost:8080/",
          "height": 238
        },
        "id": "K_mZ8Hx5tIKk",
        "outputId": "e3b04cda-7af5-401e-fd04-c7e41246c0af"
      },
      "execution_count": 18,
      "outputs": [
        {
          "output_type": "execute_result",
          "data": {
            "text/plain": [
              "                                Title Release date\n",
              "65     Black Panther: Wakanda Forever   2022-11-11\n",
              "66                  Kraven the Hunter   2023-01-13\n",
              "67  Ant-Man and the Wasp: Quantumania   2023-02-17\n",
              "68                        The Marvels   2023-07-28\n",
              "69     Guardians of the Galaxy Vol. 3   2023-05-05\n",
              "70                         Madame Web   2023-10-06"
            ],
            "text/html": [
              "\n",
              "  <div id=\"df-9b19fb7b-1e87-4c63-8af1-1885a965469b\">\n",
              "    <div class=\"colab-df-container\">\n",
              "      <div>\n",
              "<style scoped>\n",
              "    .dataframe tbody tr th:only-of-type {\n",
              "        vertical-align: middle;\n",
              "    }\n",
              "\n",
              "    .dataframe tbody tr th {\n",
              "        vertical-align: top;\n",
              "    }\n",
              "\n",
              "    .dataframe thead th {\n",
              "        text-align: right;\n",
              "    }\n",
              "</style>\n",
              "<table border=\"1\" class=\"dataframe\">\n",
              "  <thead>\n",
              "    <tr style=\"text-align: right;\">\n",
              "      <th></th>\n",
              "      <th>Title</th>\n",
              "      <th>Release date</th>\n",
              "    </tr>\n",
              "  </thead>\n",
              "  <tbody>\n",
              "    <tr>\n",
              "      <th>65</th>\n",
              "      <td>Black Panther: Wakanda Forever</td>\n",
              "      <td>2022-11-11</td>\n",
              "    </tr>\n",
              "    <tr>\n",
              "      <th>66</th>\n",
              "      <td>Kraven the Hunter</td>\n",
              "      <td>2023-01-13</td>\n",
              "    </tr>\n",
              "    <tr>\n",
              "      <th>67</th>\n",
              "      <td>Ant-Man and the Wasp: Quantumania</td>\n",
              "      <td>2023-02-17</td>\n",
              "    </tr>\n",
              "    <tr>\n",
              "      <th>68</th>\n",
              "      <td>The Marvels</td>\n",
              "      <td>2023-07-28</td>\n",
              "    </tr>\n",
              "    <tr>\n",
              "      <th>69</th>\n",
              "      <td>Guardians of the Galaxy Vol. 3</td>\n",
              "      <td>2023-05-05</td>\n",
              "    </tr>\n",
              "    <tr>\n",
              "      <th>70</th>\n",
              "      <td>Madame Web</td>\n",
              "      <td>2023-10-06</td>\n",
              "    </tr>\n",
              "  </tbody>\n",
              "</table>\n",
              "</div>\n",
              "      <button class=\"colab-df-convert\" onclick=\"convertToInteractive('df-9b19fb7b-1e87-4c63-8af1-1885a965469b')\"\n",
              "              title=\"Convert this dataframe to an interactive table.\"\n",
              "              style=\"display:none;\">\n",
              "        \n",
              "  <svg xmlns=\"http://www.w3.org/2000/svg\" height=\"24px\"viewBox=\"0 0 24 24\"\n",
              "       width=\"24px\">\n",
              "    <path d=\"M0 0h24v24H0V0z\" fill=\"none\"/>\n",
              "    <path d=\"M18.56 5.44l.94 2.06.94-2.06 2.06-.94-2.06-.94-.94-2.06-.94 2.06-2.06.94zm-11 1L8.5 8.5l.94-2.06 2.06-.94-2.06-.94L8.5 2.5l-.94 2.06-2.06.94zm10 10l.94 2.06.94-2.06 2.06-.94-2.06-.94-.94-2.06-.94 2.06-2.06.94z\"/><path d=\"M17.41 7.96l-1.37-1.37c-.4-.4-.92-.59-1.43-.59-.52 0-1.04.2-1.43.59L10.3 9.45l-7.72 7.72c-.78.78-.78 2.05 0 2.83L4 21.41c.39.39.9.59 1.41.59.51 0 1.02-.2 1.41-.59l7.78-7.78 2.81-2.81c.8-.78.8-2.07 0-2.86zM5.41 20L4 18.59l7.72-7.72 1.47 1.35L5.41 20z\"/>\n",
              "  </svg>\n",
              "      </button>\n",
              "      \n",
              "  <style>\n",
              "    .colab-df-container {\n",
              "      display:flex;\n",
              "      flex-wrap:wrap;\n",
              "      gap: 12px;\n",
              "    }\n",
              "\n",
              "    .colab-df-convert {\n",
              "      background-color: #E8F0FE;\n",
              "      border: none;\n",
              "      border-radius: 50%;\n",
              "      cursor: pointer;\n",
              "      display: none;\n",
              "      fill: #1967D2;\n",
              "      height: 32px;\n",
              "      padding: 0 0 0 0;\n",
              "      width: 32px;\n",
              "    }\n",
              "\n",
              "    .colab-df-convert:hover {\n",
              "      background-color: #E2EBFA;\n",
              "      box-shadow: 0px 1px 2px rgba(60, 64, 67, 0.3), 0px 1px 3px 1px rgba(60, 64, 67, 0.15);\n",
              "      fill: #174EA6;\n",
              "    }\n",
              "\n",
              "    [theme=dark] .colab-df-convert {\n",
              "      background-color: #3B4455;\n",
              "      fill: #D2E3FC;\n",
              "    }\n",
              "\n",
              "    [theme=dark] .colab-df-convert:hover {\n",
              "      background-color: #434B5C;\n",
              "      box-shadow: 0px 1px 3px 1px rgba(0, 0, 0, 0.15);\n",
              "      filter: drop-shadow(0px 1px 2px rgba(0, 0, 0, 0.3));\n",
              "      fill: #FFFFFF;\n",
              "    }\n",
              "  </style>\n",
              "\n",
              "      <script>\n",
              "        const buttonEl =\n",
              "          document.querySelector('#df-9b19fb7b-1e87-4c63-8af1-1885a965469b button.colab-df-convert');\n",
              "        buttonEl.style.display =\n",
              "          google.colab.kernel.accessAllowed ? 'block' : 'none';\n",
              "\n",
              "        async function convertToInteractive(key) {\n",
              "          const element = document.querySelector('#df-9b19fb7b-1e87-4c63-8af1-1885a965469b');\n",
              "          const dataTable =\n",
              "            await google.colab.kernel.invokeFunction('convertToInteractive',\n",
              "                                                     [key], {});\n",
              "          if (!dataTable) return;\n",
              "\n",
              "          const docLinkHtml = 'Like what you see? Visit the ' +\n",
              "            '<a target=\"_blank\" href=https://colab.research.google.com/notebooks/data_table.ipynb>data table notebook</a>'\n",
              "            + ' to learn more about interactive tables.';\n",
              "          element.innerHTML = '';\n",
              "          dataTable['output_type'] = 'display_data';\n",
              "          await google.colab.output.renderOutput(dataTable, element);\n",
              "          const docLink = document.createElement('div');\n",
              "          docLink.innerHTML = docLinkHtml;\n",
              "          element.appendChild(docLink);\n",
              "        }\n",
              "      </script>\n",
              "    </div>\n",
              "  </div>\n",
              "  "
            ]
          },
          "metadata": {},
          "execution_count": 18
        }
      ]
    },
    {
      "cell_type": "code",
      "source": [
        "#drop last 6 rows \n",
        "df.drop(df.tail(6).index, inplace = True)"
      ],
      "metadata": {
        "id": "dvKYCIFiyNZ7"
      },
      "execution_count": 19,
      "outputs": []
    },
    {
      "cell_type": "markdown",
      "source": [
        "## Save the dataset as a CSV file"
      ],
      "metadata": {
        "id": "xslKO1iPSPHS"
      }
    },
    {
      "cell_type": "code",
      "source": [
        "#saving the dataset as a CSV\n",
        "df.to_csv('marvel_movies_clean.csv',index=False)"
      ],
      "metadata": {
        "id": "47PNJ9pcyY4t"
      },
      "execution_count": null,
      "outputs": []
    }
  ]
}